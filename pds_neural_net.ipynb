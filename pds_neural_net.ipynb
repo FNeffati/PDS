{
  "cells": [
    {
      "cell_type": "markdown",
      "metadata": {
        "id": "view-in-github",
        "colab_type": "text"
      },
      "source": [
        "<a href=\"https://colab.research.google.com/github/FNeffati/PDS/blob/main/pds_neural_net.ipynb\" target=\"_parent\"><img src=\"https://colab.research.google.com/assets/colab-badge.svg\" alt=\"Open In Colab\"/></a>"
      ]
    },
    {
      "cell_type": "code",
      "execution_count": 4,
      "metadata": {
        "colab": {
          "base_uri": "https://localhost:8080/"
        },
        "id": "TyL6mTNoMZyG",
        "outputId": "f13b3106-5967-4b63-8ded-41cf47a71673"
      },
      "outputs": [
        {
          "output_type": "stream",
          "name": "stdout",
          "text": [
            "--2023-10-05 18:50:55--  https://data.ngdc.noaa.gov/platforms/solar-space-observing-satellites/goes/goes16/l2/data/xrsf-l2-avg1m_science/sci_xrsf-l2-avg1m_g16_s20170207_e20231002_v2-2-0.nc\n",
            "Resolving data.ngdc.noaa.gov (data.ngdc.noaa.gov)... 140.172.190.8\n",
            "Connecting to data.ngdc.noaa.gov (data.ngdc.noaa.gov)|140.172.190.8|:443... connected.\n",
            "HTTP request sent, awaiting response... 200 OK\n",
            "Length: 191626378 (183M) [application/x-netcdf]\n",
            "Saving to: ‘sci_xrsf-l2-avg1m_g16_s20170207_e20231002_v2-2-0.nc.1’\n",
            "\n",
            "sci_xrsf-l2-avg1m_g 100%[===================>] 182.75M  5.21MB/s    in 46s     \n",
            "\n",
            "2023-10-05 18:51:42 (3.96 MB/s) - ‘sci_xrsf-l2-avg1m_g16_s20170207_e20231002_v2-2-0.nc.1’ saved [191626378/191626378]\n",
            "\n",
            "--2023-10-05 18:51:42--  https://data.ngdc.noaa.gov/platforms/solar-space-observing-satellites/goes/goes17/l2/data/xrsf-l2-avg1m_science/sci_xrsf-l2-avg1m_g17_s20180601_e20230110_v2-2-0.nc\n",
            "Resolving data.ngdc.noaa.gov (data.ngdc.noaa.gov)... 140.172.190.8\n",
            "Connecting to data.ngdc.noaa.gov (data.ngdc.noaa.gov)|140.172.190.8|:443... connected.\n",
            "HTTP request sent, awaiting response... 200 OK\n",
            "Length: 123337296 (118M) [application/x-netcdf]\n",
            "Saving to: ‘sci_xrsf-l2-avg1m_g17_s20180601_e20230110_v2-2-0.nc.1’\n",
            "\n",
            "sci_xrsf-l2-avg1m_g 100%[===================>] 117.62M  5.17MB/s    in 25s     \n",
            "\n",
            "2023-10-05 18:52:07 (4.67 MB/s) - ‘sci_xrsf-l2-avg1m_g17_s20180601_e20230110_v2-2-0.nc.1’ saved [123337296/123337296]\n",
            "\n",
            "--2023-10-05 18:52:07--  https://data.ngdc.noaa.gov/platforms/solar-space-observing-satellites/goes/goes18/l2/data/xrsf-l2-avg1m_science/sci_xrsf-l2-avg1m_g18_s20220902_e20231002_v2-2-0.nc\n",
            "Resolving data.ngdc.noaa.gov (data.ngdc.noaa.gov)... 140.172.190.8\n",
            "Connecting to data.ngdc.noaa.gov (data.ngdc.noaa.gov)|140.172.190.8|:443... connected.\n",
            "HTTP request sent, awaiting response... 200 OK\n",
            "Length: 35477095 (34M) [application/x-netcdf]\n",
            "Saving to: ‘sci_xrsf-l2-avg1m_g18_s20220902_e20231002_v2-2-0.nc.1’\n",
            "\n",
            "sci_xrsf-l2-avg1m_g 100%[===================>]  33.83M  3.36MB/s    in 11s     \n",
            "\n",
            "2023-10-05 18:52:19 (3.05 MB/s) - ‘sci_xrsf-l2-avg1m_g18_s20220902_e20231002_v2-2-0.nc.1’ saved [35477095/35477095]\n",
            "\n",
            "--2023-10-05 18:52:19--  https://data.ngdc.noaa.gov/platforms/solar-space-observing-satellites/goes/goes16/l2/data/xrsf-l2-flsum_science/sci_xrsf-l2-flsum_g16_s20170209_e20231002_v2-2-0.nc\n",
            "Resolving data.ngdc.noaa.gov (data.ngdc.noaa.gov)... 140.172.190.8\n",
            "Connecting to data.ngdc.noaa.gov (data.ngdc.noaa.gov)|140.172.190.8|:443... connected.\n",
            "HTTP request sent, awaiting response... 200 OK\n",
            "Length: 3312963 (3.2M) [application/x-netcdf]\n",
            "Saving to: ‘sci_xrsf-l2-flsum_g16_s20170209_e20231002_v2-2-0.nc.1’\n",
            "\n",
            "sci_xrsf-l2-flsum_g 100%[===================>]   3.16M  2.71MB/s    in 1.2s    \n",
            "\n",
            "2023-10-05 18:52:20 (2.71 MB/s) - ‘sci_xrsf-l2-flsum_g16_s20170209_e20231002_v2-2-0.nc.1’ saved [3312963/3312963]\n",
            "\n",
            "--2023-10-05 18:52:20--  https://data.ngdc.noaa.gov/platforms/solar-space-observing-satellites/goes/goes17/l2/data/xrsf-l2-flloc_science/sci_xrsf-l2-flsum_g17_s20180601_e20230110_v2-2-0.nc\n",
            "Resolving data.ngdc.noaa.gov (data.ngdc.noaa.gov)... 140.172.190.8\n",
            "Connecting to data.ngdc.noaa.gov (data.ngdc.noaa.gov)|140.172.190.8|:443... connected.\n",
            "HTTP request sent, awaiting response... 404 Not Found\n",
            "2023-10-05 18:52:20 ERROR 404: Not Found.\n",
            "\n",
            "--2023-10-05 18:52:21--  https://data.ngdc.noaa.gov/platforms/solar-space-observing-satellites/goes/goes18/l2/data/xrsf-l2-flsum_science/sci_xrsf-l2-flsum_g18_s20220905_e20231002_v2-2-0.nc\n",
            "Resolving data.ngdc.noaa.gov (data.ngdc.noaa.gov)... 140.172.190.8\n",
            "Connecting to data.ngdc.noaa.gov (data.ngdc.noaa.gov)|140.172.190.8|:443... connected.\n",
            "HTTP request sent, awaiting response... 200 OK\n",
            "Length: 1186366 (1.1M) [application/x-netcdf]\n",
            "Saving to: ‘sci_xrsf-l2-flsum_g18_s20220905_e20231002_v2-2-0.nc.1’\n",
            "\n",
            "sci_xrsf-l2-flsum_g 100%[===================>]   1.13M  2.06MB/s    in 0.5s    \n",
            "\n",
            "2023-10-05 18:52:21 (2.06 MB/s) - ‘sci_xrsf-l2-flsum_g18_s20220905_e20231002_v2-2-0.nc.1’ saved [1186366/1186366]\n",
            "\n"
          ]
        }
      ],
      "source": [
        "import xarray as xr\n",
        "# Open the datasets\n",
        "\n",
        "!wget https://data.ngdc.noaa.gov/platforms/solar-space-observing-satellites/goes/goes16/l2/data/xrsf-l2-avg1m_science/sci_xrsf-l2-avg1m_g16_s20170207_e20231002_v2-2-0.nc\n",
        "!wget https://data.ngdc.noaa.gov/platforms/solar-space-observing-satellites/goes/goes17/l2/data/xrsf-l2-avg1m_science/sci_xrsf-l2-avg1m_g17_s20180601_e20230110_v2-2-0.nc\n",
        "!wget https://data.ngdc.noaa.gov/platforms/solar-space-observing-satellites/goes/goes18/l2/data/xrsf-l2-avg1m_science/sci_xrsf-l2-avg1m_g18_s20220902_e20231002_v2-2-0.nc\n",
        "!wget https://data.ngdc.noaa.gov/platforms/solar-space-observing-satellites/goes/goes16/l2/data/xrsf-l2-flsum_science/sci_xrsf-l2-flsum_g16_s20170209_e20231002_v2-2-0.nc\n",
        "!wget https://data.ngdc.noaa.gov/platforms/solar-space-observing-satellites/goes/goes17/l2/data/xrsf-l2-flloc_science/sci_xrsf-l2-flsum_g17_s20180601_e20230110_v2-2-0.nc\n",
        "!wget https://data.ngdc.noaa.gov/platforms/solar-space-observing-satellites/goes/goes18/l2/data/xrsf-l2-flsum_science/sci_xrsf-l2-flsum_g18_s20220905_e20231002_v2-2-0.nc\n",
        "\n"
      ]
    },
    {
      "cell_type": "code",
      "execution_count": null,
      "metadata": {
        "id": "SxKd0iGghp1s"
      },
      "outputs": [],
      "source": []
    },
    {
      "cell_type": "code",
      "execution_count": 9,
      "metadata": {
        "id": "KnPOTwNmddSP"
      },
      "outputs": [],
      "source": [
        "\n",
        "\n",
        "file_path_16 = '/content/sci_xrsf-l2-avg1m_g16_s20170207_e20231002_v2-2-0.nc'\n",
        "flare_summary_path_16 = '/content/sci_xrsf-l2-avg1m_g17_s20180601_e20230110_v2-2-0.nc'\n",
        "file_path_17 = '/content/sci_xrsf-l2-avg1m_g18_s20220902_e20231002_v2-2-0.nc'\n",
        "flare_summary_path_17 = '/content/sci_xrsf-l2-flsum_g17_s20180601_e20230110_v2-2-0.nc'\n",
        "file_path_18 = '/content/sci_xrsf-l2-flsum_g18_s20220905_e20231002_v2-2-0.nc'\n",
        "flare_summary_path_18 = '/content/sci_xrsf-l2-flsum_g18_s20220905_e20231002_v2-2-0.nc'\n",
        "\n",
        "ds16 = xr.open_dataset(file_path_16)\n",
        "ds16_flare = xr.open_dataset(flare_summary_path_16)\n",
        "\n",
        "ds17 = xr.open_dataset(file_path_17)\n",
        "ds17_flare = xr.open_dataset(flare_summary_path_17)\n",
        "\n",
        "ds18 = xr.open_dataset(file_path_18)\n",
        "ds18_flare = xr.open_dataset(flare_summary_path_18)\n",
        "\n"
      ]
    },
    {
      "cell_type": "code",
      "execution_count": 11,
      "metadata": {
        "id": "rk3JbWvxOv70",
        "colab": {
          "base_uri": "https://localhost:8080/",
          "height": 436
        },
        "outputId": "a808fd88-5f62-4b73-d550-b31eb5c8e708"
      },
      "outputs": [
        {
          "output_type": "error",
          "ename": "KeyError",
          "evalue": "ignored",
          "traceback": [
            "\u001b[0;31m---------------------------------------------------------------------------\u001b[0m",
            "\u001b[0;31mKeyError\u001b[0m                                  Traceback (most recent call last)",
            "\u001b[0;32m/usr/local/lib/python3.10/dist-packages/xarray/core/dataset.py\u001b[0m in \u001b[0;36m_copy_listed\u001b[0;34m(self, names)\u001b[0m\n\u001b[1;32m   1354\u001b[0m             \u001b[0;32mtry\u001b[0m\u001b[0;34m:\u001b[0m\u001b[0;34m\u001b[0m\u001b[0;34m\u001b[0m\u001b[0m\n\u001b[0;32m-> 1355\u001b[0;31m                 \u001b[0mvariables\u001b[0m\u001b[0;34m[\u001b[0m\u001b[0mname\u001b[0m\u001b[0;34m]\u001b[0m \u001b[0;34m=\u001b[0m \u001b[0mself\u001b[0m\u001b[0;34m.\u001b[0m\u001b[0m_variables\u001b[0m\u001b[0;34m[\u001b[0m\u001b[0mname\u001b[0m\u001b[0;34m]\u001b[0m\u001b[0;34m\u001b[0m\u001b[0;34m\u001b[0m\u001b[0m\n\u001b[0m\u001b[1;32m   1356\u001b[0m             \u001b[0;32mexcept\u001b[0m \u001b[0mKeyError\u001b[0m\u001b[0;34m:\u001b[0m\u001b[0;34m\u001b[0m\u001b[0;34m\u001b[0m\u001b[0m\n",
            "\u001b[0;31mKeyError\u001b[0m: 'status'",
            "\nDuring handling of the above exception, another exception occurred:\n",
            "\u001b[0;31mKeyError\u001b[0m                                  Traceback (most recent call last)",
            "\u001b[0;32m<ipython-input-11-882fd8838a63>\u001b[0m in \u001b[0;36m<cell line: 16>\u001b[0;34m()\u001b[0m\n\u001b[1;32m     14\u001b[0m \u001b[0;34m\u001b[0m\u001b[0m\n\u001b[1;32m     15\u001b[0m \u001b[0;31m# Process data for each telescope\u001b[0m\u001b[0;34m\u001b[0m\u001b[0;34m\u001b[0m\u001b[0m\n\u001b[0;32m---> 16\u001b[0;31m \u001b[0mds_16\u001b[0m\u001b[0;34m,\u001b[0m \u001b[0mds2_16\u001b[0m \u001b[0;34m=\u001b[0m \u001b[0mprocess_telescope_data\u001b[0m\u001b[0;34m(\u001b[0m\u001b[0mfile_path_16\u001b[0m\u001b[0;34m,\u001b[0m \u001b[0mflare_summary_path_16\u001b[0m\u001b[0;34m,\u001b[0m \u001b[0;36m16\u001b[0m\u001b[0;34m)\u001b[0m\u001b[0;34m\u001b[0m\u001b[0;34m\u001b[0m\u001b[0m\n\u001b[0m\u001b[1;32m     17\u001b[0m \u001b[0mds_17\u001b[0m\u001b[0;34m,\u001b[0m \u001b[0mds2_17\u001b[0m \u001b[0;34m=\u001b[0m \u001b[0mprocess_telescope_data\u001b[0m\u001b[0;34m(\u001b[0m\u001b[0mfile_path_17\u001b[0m\u001b[0;34m,\u001b[0m \u001b[0mflare_summary_path_17\u001b[0m\u001b[0;34m,\u001b[0m \u001b[0;36m17\u001b[0m\u001b[0;34m)\u001b[0m\u001b[0;34m\u001b[0m\u001b[0;34m\u001b[0m\u001b[0m\n\u001b[1;32m     18\u001b[0m \u001b[0mds_18\u001b[0m\u001b[0;34m,\u001b[0m \u001b[0mds2_18\u001b[0m \u001b[0;34m=\u001b[0m \u001b[0mprocess_telescope_data\u001b[0m\u001b[0;34m(\u001b[0m\u001b[0mfile_path_18\u001b[0m\u001b[0;34m,\u001b[0m \u001b[0mflare_summary_path_18\u001b[0m\u001b[0;34m,\u001b[0m \u001b[0;36m18\u001b[0m\u001b[0;34m)\u001b[0m\u001b[0;34m\u001b[0m\u001b[0;34m\u001b[0m\u001b[0m\n",
            "\u001b[0;32m<ipython-input-11-882fd8838a63>\u001b[0m in \u001b[0;36mprocess_telescope_data\u001b[0;34m(file_path, flare_summary_path, telescope_number)\u001b[0m\n\u001b[1;32m      5\u001b[0m     \u001b[0;31m# Convert xarray DataArrays to pandas DataFrames\u001b[0m\u001b[0;34m\u001b[0m\u001b[0;34m\u001b[0m\u001b[0m\n\u001b[1;32m      6\u001b[0m     \u001b[0mds\u001b[0m \u001b[0;34m=\u001b[0m \u001b[0mds\u001b[0m\u001b[0;34m[\u001b[0m\u001b[0;34m[\u001b[0m\u001b[0;34m'xrsa_flux'\u001b[0m\u001b[0;34m,\u001b[0m \u001b[0;34m'xrsb_flux'\u001b[0m\u001b[0;34m,\u001b[0m \u001b[0;34m'time'\u001b[0m\u001b[0;34m]\u001b[0m\u001b[0;34m]\u001b[0m\u001b[0;34m.\u001b[0m\u001b[0mto_dataframe\u001b[0m\u001b[0;34m(\u001b[0m\u001b[0;34m)\u001b[0m\u001b[0;34m.\u001b[0m\u001b[0mreset_index\u001b[0m\u001b[0;34m(\u001b[0m\u001b[0;34m)\u001b[0m\u001b[0;34m\u001b[0m\u001b[0;34m\u001b[0m\u001b[0m\n\u001b[0;32m----> 7\u001b[0;31m     \u001b[0mds2\u001b[0m \u001b[0;34m=\u001b[0m \u001b[0mds2\u001b[0m\u001b[0;34m[\u001b[0m\u001b[0;34m[\u001b[0m\u001b[0;34m'status'\u001b[0m\u001b[0;34m,\u001b[0m \u001b[0;34m'time'\u001b[0m\u001b[0;34m]\u001b[0m\u001b[0;34m]\u001b[0m\u001b[0;34m.\u001b[0m\u001b[0mto_dataframe\u001b[0m\u001b[0;34m(\u001b[0m\u001b[0;34m)\u001b[0m\u001b[0;34m.\u001b[0m\u001b[0mreset_index\u001b[0m\u001b[0;34m(\u001b[0m\u001b[0;34m)\u001b[0m\u001b[0;34m\u001b[0m\u001b[0;34m\u001b[0m\u001b[0m\n\u001b[0m\u001b[1;32m      8\u001b[0m \u001b[0;34m\u001b[0m\u001b[0m\n\u001b[1;32m      9\u001b[0m     \u001b[0;31m# Add telescope identifier\u001b[0m\u001b[0;34m\u001b[0m\u001b[0;34m\u001b[0m\u001b[0m\n",
            "\u001b[0;32m/usr/local/lib/python3.10/dist-packages/xarray/core/dataset.py\u001b[0m in \u001b[0;36m__getitem__\u001b[0;34m(self, key)\u001b[0m\n\u001b[1;32m   1484\u001b[0m             \u001b[0;32mreturn\u001b[0m \u001b[0mself\u001b[0m\u001b[0;34m.\u001b[0m\u001b[0m_construct_dataarray\u001b[0m\u001b[0;34m(\u001b[0m\u001b[0mkey\u001b[0m\u001b[0;34m)\u001b[0m\u001b[0;34m\u001b[0m\u001b[0;34m\u001b[0m\u001b[0m\n\u001b[1;32m   1485\u001b[0m         \u001b[0;32mif\u001b[0m \u001b[0mutils\u001b[0m\u001b[0;34m.\u001b[0m\u001b[0miterable_of_hashable\u001b[0m\u001b[0;34m(\u001b[0m\u001b[0mkey\u001b[0m\u001b[0;34m)\u001b[0m\u001b[0;34m:\u001b[0m\u001b[0;34m\u001b[0m\u001b[0;34m\u001b[0m\u001b[0m\n\u001b[0;32m-> 1486\u001b[0;31m             \u001b[0;32mreturn\u001b[0m \u001b[0mself\u001b[0m\u001b[0;34m.\u001b[0m\u001b[0m_copy_listed\u001b[0m\u001b[0;34m(\u001b[0m\u001b[0mkey\u001b[0m\u001b[0;34m)\u001b[0m\u001b[0;34m\u001b[0m\u001b[0;34m\u001b[0m\u001b[0m\n\u001b[0m\u001b[1;32m   1487\u001b[0m         \u001b[0;32mraise\u001b[0m \u001b[0mValueError\u001b[0m\u001b[0;34m(\u001b[0m\u001b[0;34mf\"Unsupported key-type {type(key)}\"\u001b[0m\u001b[0;34m)\u001b[0m\u001b[0;34m\u001b[0m\u001b[0;34m\u001b[0m\u001b[0m\n\u001b[1;32m   1488\u001b[0m \u001b[0;34m\u001b[0m\u001b[0m\n",
            "\u001b[0;32m/usr/local/lib/python3.10/dist-packages/xarray/core/dataset.py\u001b[0m in \u001b[0;36m_copy_listed\u001b[0;34m(self, names)\u001b[0m\n\u001b[1;32m   1355\u001b[0m                 \u001b[0mvariables\u001b[0m\u001b[0;34m[\u001b[0m\u001b[0mname\u001b[0m\u001b[0;34m]\u001b[0m \u001b[0;34m=\u001b[0m \u001b[0mself\u001b[0m\u001b[0;34m.\u001b[0m\u001b[0m_variables\u001b[0m\u001b[0;34m[\u001b[0m\u001b[0mname\u001b[0m\u001b[0;34m]\u001b[0m\u001b[0;34m\u001b[0m\u001b[0;34m\u001b[0m\u001b[0m\n\u001b[1;32m   1356\u001b[0m             \u001b[0;32mexcept\u001b[0m \u001b[0mKeyError\u001b[0m\u001b[0;34m:\u001b[0m\u001b[0;34m\u001b[0m\u001b[0;34m\u001b[0m\u001b[0m\n\u001b[0;32m-> 1357\u001b[0;31m                 ref_name, var_name, var = _get_virtual_variable(\n\u001b[0m\u001b[1;32m   1358\u001b[0m                     \u001b[0mself\u001b[0m\u001b[0;34m.\u001b[0m\u001b[0m_variables\u001b[0m\u001b[0;34m,\u001b[0m \u001b[0mname\u001b[0m\u001b[0;34m,\u001b[0m \u001b[0mself\u001b[0m\u001b[0;34m.\u001b[0m\u001b[0mdims\u001b[0m\u001b[0;34m\u001b[0m\u001b[0;34m\u001b[0m\u001b[0m\n\u001b[1;32m   1359\u001b[0m                 )\n",
            "\u001b[0;32m/usr/local/lib/python3.10/dist-packages/xarray/core/dataset.py\u001b[0m in \u001b[0;36m_get_virtual_variable\u001b[0;34m(variables, key, dim_sizes)\u001b[0m\n\u001b[1;32m    194\u001b[0m     \u001b[0msplit_key\u001b[0m \u001b[0;34m=\u001b[0m \u001b[0mkey\u001b[0m\u001b[0;34m.\u001b[0m\u001b[0msplit\u001b[0m\u001b[0;34m(\u001b[0m\u001b[0;34m\".\"\u001b[0m\u001b[0;34m,\u001b[0m \u001b[0;36m1\u001b[0m\u001b[0;34m)\u001b[0m\u001b[0;34m\u001b[0m\u001b[0;34m\u001b[0m\u001b[0m\n\u001b[1;32m    195\u001b[0m     \u001b[0;32mif\u001b[0m \u001b[0mlen\u001b[0m\u001b[0;34m(\u001b[0m\u001b[0msplit_key\u001b[0m\u001b[0;34m)\u001b[0m \u001b[0;34m!=\u001b[0m \u001b[0;36m2\u001b[0m\u001b[0;34m:\u001b[0m\u001b[0;34m\u001b[0m\u001b[0;34m\u001b[0m\u001b[0m\n\u001b[0;32m--> 196\u001b[0;31m         \u001b[0;32mraise\u001b[0m \u001b[0mKeyError\u001b[0m\u001b[0;34m(\u001b[0m\u001b[0mkey\u001b[0m\u001b[0;34m)\u001b[0m\u001b[0;34m\u001b[0m\u001b[0;34m\u001b[0m\u001b[0m\n\u001b[0m\u001b[1;32m    197\u001b[0m \u001b[0;34m\u001b[0m\u001b[0m\n\u001b[1;32m    198\u001b[0m     \u001b[0mref_name\u001b[0m\u001b[0;34m,\u001b[0m \u001b[0mvar_name\u001b[0m \u001b[0;34m=\u001b[0m \u001b[0msplit_key\u001b[0m\u001b[0;34m\u001b[0m\u001b[0;34m\u001b[0m\u001b[0m\n",
            "\u001b[0;31mKeyError\u001b[0m: 'status'"
          ]
        }
      ],
      "source": [
        "def process_telescope_data(file_path, flare_summary_path, telescope_number):\n",
        "    ds = xr.open_dataset(file_path)\n",
        "    ds2 = xr.open_dataset(flare_summary_path)\n",
        "\n",
        "    # Convert xarray DataArrays to pandas DataFrames\n",
        "    ds = ds[['xrsa_flux', 'xrsb_flux', 'time']].to_dataframe().reset_index()\n",
        "    ds2 = ds2[['status', 'time']].to_dataframe().reset_index()\n",
        "\n",
        "    # Add telescope identifier\n",
        "    ds['telescope'] = telescope_number\n",
        "    ds2['telescope'] = telescope_number\n",
        "\n",
        "    return ds, ds2\n",
        "\n",
        "# Process data for each telescope\n",
        "ds_16, ds2_16 = process_telescope_data(file_path_16, flare_summary_path_16, 16)\n",
        "ds_17, ds2_17 = process_telescope_data(file_path_17, flare_summary_path_17, 17)\n",
        "ds_18, ds2_18 = process_telescope_data(file_path_18, flare_summary_path_18, 18)\n",
        "\n",
        "# Concatenate data from all telescopes\n",
        "ds = pd.concat([ds_16, ds_17, ds_18])\n",
        "ds2 = pd.concat([ds2_16, ds2_17, ds2_18])\n",
        "\n",
        "\n",
        "\n",
        "flare_statuses = ['EVENT_START', 'EVENT_PEAK', 'EVENT_END', 'POST_EVENT']\n",
        "ds2['status'] = ds2['status'].apply(lambda x: 1 if x in flare_statuses else 0)\n",
        "\n",
        "# Merge data\n",
        "merged_data = pd.merge(ds, ds2, on=['time', 'telescope'], how='outer')\n",
        "\n",
        "# Handle missing values\n",
        "merged_data.fillna(0, inplace=True)\n",
        "\n",
        "# Extract features and target\n",
        "X = merged_data[['xrsa_flux', 'xrsb_flux']]\n",
        "y = merged_data['status']\n",
        "\n",
        "# Normalize features\n",
        "scaler = MinMaxScaler()\n",
        "X = scaler.fit_transform(X)\n",
        "\n",
        "# Split data\n",
        "X_train, X_test, y_train, y_test = train_test_split(X, y, test_size=0.2, random_state=42)\n",
        "\n",
        "# Apply SMOTE\n",
        "smote = SMOTE(random_state=42)\n",
        "X_train, y_train = smote.fit_resample(X_train, y_train)\n"
      ]
    },
    {
      "cell_type": "code",
      "execution_count": null,
      "metadata": {
        "id": "9mRfsEWphotu"
      },
      "outputs": [],
      "source": []
    },
    {
      "cell_type": "code",
      "execution_count": null,
      "metadata": {
        "colab": {
          "base_uri": "https://localhost:8080/"
        },
        "id": "6_c0Ge4AO2Ui",
        "outputId": "7d46004f-b774-4f04-b027-34587c3b2e6f"
      },
      "outputs": [
        {
          "name": "stdout",
          "output_type": "stream",
          "text": [
            "0.0    445295\n",
            "1.0      8593\n",
            "Name: status, dtype: int64\n"
          ]
        }
      ],
      "source": [
        "\n"
      ]
    },
    {
      "cell_type": "code",
      "execution_count": null,
      "metadata": {
        "id": "8hhxvqJkOV15"
      },
      "outputs": [],
      "source": [
        "\n",
        "\n",
        "# Building the model\n",
        "model = keras.Sequential([\n",
        "    keras.layers.Dense(128, activation='relu', input_shape=(2,)),  # 2 input features: 'xrsa_flux' and 'xrsb_flux'\n",
        "    keras.layers.Dense(64, activation='relu'),\n",
        "    keras.layers.Dense(1, activation='sigmoid')  # Binary classification\n",
        "])\n",
        "\n",
        "# Compiling the model\n",
        "model.compile(optimizer='adam', loss='binary_crossentropy', metrics=['accuracy'])\n",
        "\n",
        "# Training the model\n",
        "model.fit(X_train, y_train, epochs=5, batch_size=32, validation_data=(X_test, y_test))\n",
        "\n",
        "# Evaluate the model on the test set\n",
        "test_loss, test_acc = model.evaluate(X_test, y_test, verbose=2)\n",
        "print('\\nTest accuracy:', test_acc)\n"
      ]
    },
    {
      "cell_type": "code",
      "execution_count": null,
      "metadata": {
        "id": "XsgrZm7FXTjR"
      },
      "outputs": [],
      "source": [
        "import matplotlib.pyplot as plt\n",
        "from sklearn.metrics import roc_curve, roc_auc_score\n",
        "\n",
        "# Predict probabilities for the positive class\n",
        "y_prob = model.predict(X_test)\n",
        "\n",
        "# Compute ROC curve\n",
        "fpr, tpr, thresholds = roc_curve(y_test, y_prob)\n",
        "\n",
        "# Compute AUC\n",
        "auc = roc_auc_score(y_test, y_prob)\n",
        "\n",
        "plt.figure(figsize=(10, 7))\n",
        "plt.plot(fpr, tpr, color='blue', label='ROC curve (AUC = %0.2f)' % auc)\n",
        "plt.plot([0, 1], [0, 1], color='red', linestyle='--')  # Diagonal\n",
        "plt.xlabel('False Positive Rate')\n",
        "plt.ylabel('True Positive Rate')\n",
        "plt.title('Receiver Operating Characteristic (ROC) Curve')\n",
        "plt.legend(loc=\"lower right\")\n",
        "plt.grid(True)\n",
        "plt.show()\n"
      ]
    },
    {
      "cell_type": "code",
      "execution_count": null,
      "metadata": {
        "colab": {
          "base_uri": "https://localhost:8080/"
        },
        "id": "Zw5bGls0WAM7",
        "outputId": "92c9f548-37f4-4d1e-aa84-562f98545585"
      },
      "outputs": [
        {
          "name": "stdout",
          "output_type": "stream",
          "text": [
            "3546/3546 [==============================] - 7s 2ms/step\n",
            "[[100960  10424]\n",
            " [   261   1827]]\n",
            "              precision    recall  f1-score   support\n",
            "\n",
            "         0.0       1.00      0.91      0.95    111384\n",
            "         1.0       0.15      0.88      0.25      2088\n",
            "\n",
            "    accuracy                           0.91    113472\n",
            "   macro avg       0.57      0.89      0.60    113472\n",
            "weighted avg       0.98      0.91      0.94    113472\n",
            "\n"
          ]
        }
      ],
      "source": [
        "from sklearn.metrics import confusion_matrix, classification_report\n",
        "\n",
        "y_pred = (model.predict(X_test) > 0.5).astype(\"int32\")\n",
        "print(confusion_matrix(y_test, y_pred))\n",
        "print(classification_report(y_test, y_pred))\n"
      ]
    },
    {
      "cell_type": "code",
      "execution_count": null,
      "metadata": {
        "id": "06_et4QvUInX"
      },
      "outputs": [],
      "source": []
    }
  ],
  "metadata": {
    "colab": {
      "provenance": [],
      "include_colab_link": true
    },
    "kernelspec": {
      "display_name": "Python 3",
      "name": "python3"
    },
    "language_info": {
      "name": "python"
    }
  },
  "nbformat": 4,
  "nbformat_minor": 0
}