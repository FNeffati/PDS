{
 "nbformat": 4,
 "nbformat_minor": 0,
 "metadata": {
  "colab": {
   "provenance": [],
   "mount_file_id": "1PezrZ--ktMsYiwhLqkkdmDF69eNGlUtw",
   "authorship_tag": "ABX9TyMwC1go8L2CYEr1JCxu1zri",
   "include_colab_link": true
  },
  "kernelspec": {
   "name": "python3",
   "language": "python",
   "display_name": "Python 3 (ipykernel)"
  },
  "language_info": {
   "name": "python"
  }
 },
 "cells": [
  {
   "cell_type": "code",
   "source": [
    "import pandas as pd\n",
    "import numpy as np\n",
    "\n",
    "# Load your data into a DataFrame\n",
    "df = pd.read_csv('full_set.csv')\n",
    "\n",
    "# Convert 'time' column to datetime if it isn't already\n",
    "df['time'] = pd.to_datetime(df['time'])\n",
    "\n",
    "# Get the indices of rows where 'status' is 'EVENT_PEAK'\n",
    "peak_indices = df.index[df['status'] == 'EVENT_PEAK'].tolist()\n",
    "# Calculate the differences between the indices (which correspond to minutes if the data is minute-level)\n",
    "index_differences = np.diff(peak_indices)\n",
    "# Calculate the average difference in indices (minutes between peaks)\n",
    "average_index_difference = np.mean(index_differences)\n",
    "\n",
    "# Now calculate using the datetime values\n",
    "# Make sure the DataFrame is sorted by time\n",
    "df = df.sort_values('time')\n",
    "# Get the peak times\n",
    "peak_times = df['time'][df['status'] == 'EVENT_PEAK']\n",
    "# Calculate the differences in the 'time' column between successive peaks in minutes\n",
    "time_differences = (peak_times.diff().dt.total_seconds()) / 60.0\n",
    "# Drop the first NA value that diff() introduces\n",
    "time_differences = time_differences.dropna()\n",
    "# Calculate the average time difference between peaks\n",
    "average_time_difference = np.mean(time_differences)\n",
    "\n",
    "# Print out the results\n",
    "print(f\"Average number of minutes between peaks (by counting rows): {average_index_difference}\")\n",
    "print(f\"Average number of minutes between peaks (by datetime values): {average_time_difference}\")\n",
    "\n",
    "# Compare the two averages\n",
    "if np.isclose(average_index_difference, average_time_difference, rtol=1e-05):\n",
    "    print(\"The two methods yield the same average.\")\n",
    "else:\n",
    "    print(\"The two methods yield different averages.\")"
   ],
   "metadata": {
    "colab": {
     "base_uri": "https://localhost:8080/"
    },
    "id": "iUwaAJtT_P_g",
    "outputId": "d133e0df-69d2-47ca-a09d-52a10592dcc2",
    "ExecuteTime": {
     "end_time": "2023-11-10T03:32:11.182453Z",
     "start_time": "2023-11-10T03:32:07.039640Z"
    }
   },
   "execution_count": 1,
   "outputs": [
    {
     "name": "stderr",
     "output_type": "stream",
     "text": [
      "/var/folders/r7/6cts6h556zzgbx26m_g0p4gw0000gn/T/ipykernel_41590/3776002884.py:5: DtypeWarning: Columns (3,4,7,8,11,12) have mixed types. Specify dtype option on import or set low_memory=False.\n",
      "  df = pd.read_csv('full_set.csv')\n"
     ]
    },
    {
     "name": "stdout",
     "output_type": "stream",
     "text": [
      "Average number of minutes between peaks (by counting rows): 183.98101265822785\n",
      "Average number of minutes between peaks (by datetime values): 183.98101265822785\n",
      "The two methods yield the same average.\n"
     ]
    }
   ]
  },
  {
   "cell_type": "code",
   "source": [
    "import pandas as pd\n",
    "\n",
    "# Load your data into a DataFrame\n",
    "df = pd.read_csv('full_set.csv')\n",
    "\n",
    "# Convert 'time' column to datetime if it isn't already\n",
    "df['time'] = pd.to_datetime(df['time'])\n",
    "\n",
    "# Find duplicate time values\n",
    "duplicates = df[df.duplicated('time', keep=False)]\n",
    "\n",
    "# Display duplicate rows\n",
    "print(\"Duplicate Time Values:\")\n",
    "print(duplicates)\n",
    "print(len(duplicates))\n",
    "print(len(df))\n",
    "# If you just want to know if there are any duplicates\n",
    "has_duplicates = df['time'].duplicated().any()\n",
    "print(f\"Are there duplicate time values? {has_duplicates}\")\n"
   ],
   "metadata": {
    "colab": {
     "base_uri": "https://localhost:8080/"
    },
    "id": "gvbKsE_h_wCs",
    "outputId": "c95835cc-80b9-4da9-c443-6b9a42717b6f",
    "ExecuteTime": {
     "end_time": "2023-11-10T03:32:21.298096Z",
     "start_time": "2023-11-10T03:32:17.554322Z"
    }
   },
   "execution_count": 2,
   "outputs": [
    {
     "name": "stderr",
     "output_type": "stream",
     "text": [
      "/var/folders/r7/6cts6h556zzgbx26m_g0p4gw0000gn/T/ipykernel_41590/4269405918.py:4: DtypeWarning: Columns (3,4,7,8,11,12) have mixed types. Specify dtype option on import or set low_memory=False.\n",
      "  df = pd.read_csv('full_set.csv')\n"
     ]
    },
    {
     "name": "stdout",
     "output_type": "stream",
     "text": [
      "Duplicate Time Values:\n",
      "Empty DataFrame\n",
      "Columns: [time, xrsa_flux_x, xrsb_flux_x, status_x, flare_class_x, xrsa_flux_y, xrsb_flux_y, status_y, flare_class_y, xrsa_flux, xrsb_flux, status, flare_class]\n",
      "Index: []\n",
      "0\n",
      "3548160\n",
      "Are there duplicate time values? False\n"
     ]
    }
   ]
  }
 ]
}
