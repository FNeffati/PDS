{
  "nbformat": 4,
  "nbformat_minor": 0,
  "metadata": {
    "colab": {
      "provenance": [],
      "mount_file_id": "1PezrZ--ktMsYiwhLqkkdmDF69eNGlUtw",
      "authorship_tag": "ABX9TyMwC1go8L2CYEr1JCxu1zri",
      "include_colab_link": true
    },
    "kernelspec": {
      "name": "python3",
      "display_name": "Python 3"
    },
    "language_info": {
      "name": "python"
    }
  },
  "cells": [
    {
      "cell_type": "markdown",
      "metadata": {
        "id": "view-in-github",
        "colab_type": "text"
      },
      "source": [
        "<a href=\"https://colab.research.google.com/github/FNeffati/PDS/blob/main/cadence_calc.ipynb\" target=\"_parent\"><img src=\"https://colab.research.google.com/assets/colab-badge.svg\" alt=\"Open In Colab\"/></a>"
      ]
    },
    {
      "cell_type": "code",
      "source": [
        "import pandas as pd\n",
        "import numpy as np\n",
        "\n",
        "# Load your data into a DataFrame\n",
        "df = pd.read_csv('/content/drive/Shareddrives/Practical Data Science IDC6250/fullSet.csv')\n",
        "\n",
        "# Convert 'time' column to datetime if it isn't already\n",
        "df['time'] = pd.to_datetime(df['time'])\n",
        "\n",
        "# Get the indices of rows where 'status' is 'EVENT_PEAK'\n",
        "peak_indices = df.index[df['status'] == 'EVENT_PEAK'].tolist()\n",
        "# Calculate the differences between the indices (which correspond to minutes if the data is minute-level)\n",
        "index_differences = np.diff(peak_indices)\n",
        "# Calculate the average difference in indices (minutes between peaks)\n",
        "average_index_difference = np.mean(index_differences)\n",
        "\n",
        "# Now calculate using the datetime values\n",
        "# Make sure the DataFrame is sorted by time\n",
        "df = df.sort_values('time')\n",
        "# Get the peak times\n",
        "peak_times = df['time'][df['status'] == 'EVENT_PEAK']\n",
        "# Calculate the differences in the 'time' column between successive peaks in minutes\n",
        "time_differences = (peak_times.diff().dt.total_seconds()) / 60.0\n",
        "# Drop the first NA value that diff() introduces\n",
        "time_differences = time_differences.dropna()\n",
        "# Calculate the average time difference between peaks\n",
        "average_time_difference = np.mean(time_differences)\n",
        "\n",
        "# Print out the results\n",
        "print(f\"Average number of minutes between peaks (by counting rows): {average_index_difference}\")\n",
        "print(f\"Average number of minutes between peaks (by datetime values): {average_time_difference}\")\n",
        "\n",
        "# Compare the two averages\n",
        "if np.isclose(average_index_difference, average_time_difference, rtol=1e-05):\n",
        "    print(\"The two methods yield the same average.\")\n",
        "else:\n",
        "    print(\"The two methods yield different averages.\")"
      ],
      "metadata": {
        "colab": {
          "base_uri": "https://localhost:8080/"
        },
        "id": "iUwaAJtT_P_g",
        "outputId": "d133e0df-69d2-47ca-a09d-52a10592dcc2"
      },
      "execution_count": 15,
      "outputs": [
        {
          "output_type": "stream",
          "name": "stderr",
          "text": [
            "<ipython-input-15-39c09c8bea5c>:5: DtypeWarning: Columns (3) have mixed types. Specify dtype option on import or set low_memory=False.\n",
            "  df = pd.read_csv('/content/drive/Shareddrives/Practical Data Science IDC6250/fullSet.csv')\n"
          ]
        },
        {
          "output_type": "stream",
          "name": "stdout",
          "text": [
            "Average number of minutes between peaks (by counting rows): 296.5955889576579\n",
            "Average number of minutes between peaks (by datetime values): 172.160673936536\n",
            "The two methods yield different averages.\n"
          ]
        }
      ]
    },
    {
      "cell_type": "code",
      "source": [
        "import pandas as pd\n",
        "\n",
        "# Load your data into a DataFrame\n",
        "df = pd.read_csv('/content/drive/MyDrive/fullSet.csv')\n",
        "\n",
        "# Convert 'time' column to datetime if it isn't already\n",
        "df['time'] = pd.to_datetime(df['time'])\n",
        "\n",
        "# Find duplicate time values\n",
        "duplicates = df[df.duplicated('time', keep=False)]\n",
        "\n",
        "# Display duplicate rows\n",
        "print(\"Duplicate Time Values:\")\n",
        "print(duplicates)\n",
        "print(len(duplicates))\n",
        "print(len(df))\n",
        "# If you just want to know if there are any duplicates\n",
        "has_duplicates = df['time'].duplicated().any()\n",
        "print(f\"Are there duplicate time values? {has_duplicates}\")\n"
      ],
      "metadata": {
        "colab": {
          "base_uri": "https://localhost:8080/"
        },
        "id": "gvbKsE_h_wCs",
        "outputId": "c95835cc-80b9-4da9-c443-6b9a42717b6f"
      },
      "execution_count": 16,
      "outputs": [
        {
          "output_type": "stream",
          "name": "stderr",
          "text": [
            "<ipython-input-16-20ad41fb3b3d>:4: DtypeWarning: Columns (3) have mixed types. Specify dtype option on import or set low_memory=False.\n",
            "  df = pd.read_csv('/content/drive/MyDrive/fullSet.csv')\n"
          ]
        },
        {
          "output_type": "stream",
          "name": "stdout",
          "text": [
            "Duplicate Time Values:\n",
            "                       time     xrsa_flux     xrsb_flux       status\n",
            "2259    2017-02-09 02:55:00  5.742501e-09  2.073613e-07   POST_EVENT\n",
            "2260    2017-02-09 02:55:00  5.742501e-09  2.073613e-07  EVENT_START\n",
            "205948  2017-07-15 02:34:00  1.202014e-08  3.403064e-07    EVENT_END\n",
            "205949  2017-07-15 02:34:00  1.202014e-08  3.403064e-07  EVENT_START\n",
            "207885  2017-07-16 10:50:00  1.051044e-08  3.508761e-07   POST_EVENT\n",
            "...                     ...           ...           ...          ...\n",
            "6034375 2022-12-25 12:23:00  5.441791e-08  1.660500e-06          NaN\n",
            "6034376 2022-12-25 12:24:00  5.202414e-08  1.681552e-06          NaN\n",
            "6034377 2022-12-25 12:24:00  5.754583e-08  1.683072e-06          NaN\n",
            "6034378 2022-12-25 12:25:00  4.948722e-08  1.680446e-06          NaN\n",
            "6034379 2022-12-25 12:25:00  5.417546e-08  1.677577e-06          NaN\n",
            "\n",
            "[5048004 rows x 4 columns]\n",
            "5048004\n",
            "6040249\n",
            "Are there duplicate time values? True\n"
          ]
        }
      ]
    }
  ]
}