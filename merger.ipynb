{
 "cells": [
  {
   "cell_type": "code",
   "execution_count": 58,
   "outputs": [],
   "source": [
    "import xarray as xr\n",
    "import pandas as pd\n"
   ],
   "metadata": {
    "collapsed": false,
    "ExecuteTime": {
     "end_time": "2023-11-09T21:11:30.975368Z",
     "start_time": "2023-11-09T21:11:30.961636Z"
    }
   }
  },
  {
   "cell_type": "code",
   "execution_count": 59,
   "outputs": [],
   "source": [
    "minute_averages = \"../data/sci_xrsf-l2-avg1m_g16_s20170207_e20231106_v2-2-0.nc\"\n",
    "summaries = \"../data/sci_xrsf-l2-flsum_g16_s20170209_e20231106_v2-2-0.nc\"\n",
    "\n",
    "file1 = xr.open_dataset(minute_averages)\n",
    "file2 = xr.open_dataset(summaries)\n",
    "\n",
    "var1 = file1['time']\n",
    "var2 = file1['xrsa_flux']\n",
    "var3 = file1['xrsb_flux']\n",
    "\n",
    "var4 = file2['time']\n",
    "var5 = file2['status']\n",
    "var6 = file2['flare_class']"
   ],
   "metadata": {
    "collapsed": false,
    "ExecuteTime": {
     "end_time": "2023-11-09T21:11:31.165927Z",
     "start_time": "2023-11-09T21:11:30.966166Z"
    }
   }
  },
  {
   "cell_type": "code",
   "execution_count": 60,
   "outputs": [],
   "source": [
    "new_dataset1 = xr.Dataset({\n",
    "    'time': var1,\n",
    "    'xrsa_flux': var2,\n",
    "    'xrsb_flux': var3,\n",
    "})"
   ],
   "metadata": {
    "collapsed": false,
    "ExecuteTime": {
     "end_time": "2023-11-09T21:11:31.175251Z",
     "start_time": "2023-11-09T21:11:31.167126Z"
    }
   }
  },
  {
   "cell_type": "code",
   "execution_count": 61,
   "outputs": [],
   "source": [
    "new_dataset2 = xr.Dataset({\n",
    "    'time': var4,\n",
    "    'status': var5,\n",
    "    'flare_class': var6,\n",
    "})"
   ],
   "metadata": {
    "collapsed": false,
    "ExecuteTime": {
     "end_time": "2023-11-09T21:11:31.178513Z",
     "start_time": "2023-11-09T21:11:31.176068Z"
    }
   }
  },
  {
   "cell_type": "code",
   "execution_count": 62,
   "outputs": [
    {
     "name": "stdout",
     "output_type": "stream",
     "text": [
      "3548160\n",
      "33202\n"
     ]
    }
   ],
   "source": [
    "df1 = new_dataset1.to_dataframe()\n",
    "df2 = new_dataset2.to_dataframe()\n",
    "print(len(df1))\n",
    "print(len(df2))\n",
    "\n",
    "# print(df1.head)\n",
    "# print(df2.head)"
   ],
   "metadata": {
    "collapsed": false,
    "ExecuteTime": {
     "end_time": "2023-11-09T21:11:31.340874Z",
     "start_time": "2023-11-09T21:11:31.180135Z"
    }
   }
  },
  {
   "cell_type": "code",
   "execution_count": 63,
   "outputs": [
    {
     "name": "stdout",
     "output_type": "stream",
     "text": [
      "3548241\n"
     ]
    }
   ],
   "source": [
    "merged_df = pd.merge(df1, df2, on='time', how='outer')\n",
    "print(len(merged_df))\n",
    "# print(merged_df)"
   ],
   "metadata": {
    "collapsed": false,
    "ExecuteTime": {
     "end_time": "2023-11-09T21:11:31.889211Z",
     "start_time": "2023-11-09T21:11:31.341415Z"
    }
   }
  },
  {
   "cell_type": "markdown",
   "source": [],
   "metadata": {
    "collapsed": false
   }
  },
  {
   "cell_type": "code",
   "execution_count": 64,
   "outputs": [],
   "source": [
    "merged_df.to_csv('GOES_16_merged_data.csv', index=True)"
   ],
   "metadata": {
    "collapsed": false,
    "ExecuteTime": {
     "end_time": "2023-11-09T21:11:38.720750Z",
     "start_time": "2023-11-09T21:11:31.889337Z"
    }
   }
  }
 ],
 "metadata": {
  "kernelspec": {
   "display_name": "Python 3",
   "language": "python",
   "name": "python3"
  },
  "language_info": {
   "codemirror_mode": {
    "name": "ipython",
    "version": 2
   },
   "file_extension": ".py",
   "mimetype": "text/x-python",
   "name": "python",
   "nbconvert_exporter": "python",
   "pygments_lexer": "ipython2",
   "version": "2.7.6"
  }
 },
 "nbformat": 4,
 "nbformat_minor": 0
}
