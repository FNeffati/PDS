{
 "cells": [
  {
   "cell_type": "code",
   "execution_count": 77,
   "outputs": [],
   "source": [
    "import xarray as xr\n",
    "import pandas as pd\n",
    "\n",
    "minute_averages = \"./data/sci_xrsf-l2-avg1m_g16_s20170207_e20230927_v2-2-0.nc\"\n",
    "summaries = \"./data/sci_xrsf-l2-flsum_g16_s20170209_e20230927_v2-2-0.nc\"\n",
    "\n",
    "file1 = xr.open_dataset(minute_averages)\n",
    "file2 = xr.open_dataset(summaries)\n",
    "\n",
    "var1 = file1['time']\n",
    "var2 = file1['xrsa_flux']\n",
    "var3 = file1['xrsb_flux']\n",
    "\n",
    "var4 = file2['time']\n",
    "var5 = file2['status']\n",
    "var6 = file2['flare_class']\n"
   ],
   "metadata": {
    "collapsed": false
   }
  },
  {
   "cell_type": "code",
   "execution_count": 78,
   "outputs": [],
   "source": [
    "new_dataset1 = xr.Dataset({\n",
    "    'time': var1,\n",
    "    'xrsa_flux': var2,\n",
    "    'xrsb_flux': var3,\n",
    "})"
   ],
   "metadata": {
    "collapsed": false
   }
  },
  {
   "cell_type": "code",
   "execution_count": 79,
   "outputs": [],
   "source": [
    "new_dataset2 = xr.Dataset({\n",
    "    'time': var4,\n",
    "    'status': var5,\n",
    "    'flare_class': var6,\n",
    "})"
   ],
   "metadata": {
    "collapsed": false
   }
  },
  {
   "cell_type": "code",
   "execution_count": 80,
   "outputs": [
    {
     "name": "stdout",
     "output_type": "stream",
     "text": [
      "<bound method NDFrame.head of                         xrsa_flux     xrsb_flux\n",
      "time                                           \n",
      "2017-02-07 00:00:00  2.949822e-08  7.072423e-08\n",
      "2017-02-07 00:01:00  2.716477e-08  6.869706e-08\n",
      "2017-02-07 00:02:00  2.996076e-08  6.933664e-08\n",
      "2017-02-07 00:03:00  3.124979e-08  6.796333e-08\n",
      "2017-02-07 00:04:00  3.095799e-08  6.928261e-08\n",
      "...                           ...           ...\n",
      "2023-09-27 23:55:00  1.750550e-08  1.072914e-06\n",
      "2023-09-27 23:56:00  1.992108e-08  1.078218e-06\n",
      "2023-09-27 23:57:00  1.984835e-08  1.084543e-06\n",
      "2023-09-27 23:58:00  1.991240e-08  1.085775e-06\n",
      "2023-09-27 23:59:00  1.973159e-08  1.090273e-06\n",
      "\n",
      "[3490560 rows x 2 columns]>\n",
      "<bound method NDFrame.head of                           status flare_class\n",
      "time                                        \n",
      "2017-02-09 00:41:00  EVENT_START         nan\n",
      "2017-02-09 00:50:00   EVENT_PEAK        B3.8\n",
      "2017-02-09 00:57:00    EVENT_END         nan\n",
      "2017-02-09 01:13:00   POST_EVENT         nan\n",
      "2017-02-09 01:30:00  EVENT_START         nan\n",
      "...                          ...         ...\n",
      "2023-09-27 18:38:00    EVENT_END         nan\n",
      "2023-09-27 19:05:00   POST_EVENT         nan\n",
      "2023-09-27 23:02:00  EVENT_START         nan\n",
      "2023-09-27 23:10:00   EVENT_PEAK        C1.4\n",
      "2023-09-27 23:14:00    EVENT_END         nan\n",
      "\n",
      "[32229 rows x 2 columns]>\n"
     ]
    }
   ],
   "source": [
    "df1 = new_dataset1.to_dataframe()\n",
    "df2 = new_dataset2.to_dataframe()\n",
    "print(df1.head)\n",
    "print(df2.head)"
   ],
   "metadata": {
    "collapsed": false
   }
  },
  {
   "cell_type": "code",
   "execution_count": 83,
   "outputs": [
    {
     "name": "stdout",
     "output_type": "stream",
     "text": [
      "                        xrsa_flux     xrsb_flux       status flare_class\n",
      "time                                                                    \n",
      "2017-02-09 00:41:00  2.711966e-08  1.114654e-07  EVENT_START         nan\n",
      "2017-02-09 00:50:00  4.325080e-08  3.800934e-07   EVENT_PEAK        B3.8\n",
      "2017-02-09 00:57:00  3.119617e-08  2.325111e-07    EVENT_END         nan\n",
      "2017-02-09 01:13:00  2.622410e-08  1.151511e-07   POST_EVENT         nan\n",
      "2017-02-09 01:30:00  2.176940e-08  9.893294e-08  EVENT_START         nan\n",
      "...                           ...           ...          ...         ...\n",
      "2023-09-27 18:38:00  8.748262e-08  2.117876e-06    EVENT_END         nan\n",
      "2023-09-27 19:05:00  2.177845e-08  1.175341e-06   POST_EVENT         nan\n",
      "2023-09-27 23:02:00  1.980071e-08  9.741296e-07  EVENT_START         nan\n",
      "2023-09-27 23:10:00  7.272305e-08  1.490268e-06   EVENT_PEAK        C1.4\n",
      "2023-09-27 23:14:00  2.303278e-08  1.123870e-06    EVENT_END         nan\n",
      "\n",
      "[32229 rows x 4 columns]\n"
     ]
    },
    {
     "data": {
      "text/plain": "32229"
     },
     "execution_count": 83,
     "metadata": {},
     "output_type": "execute_result"
    }
   ],
   "source": [
    "merged_df = pd.merge(df1, df2, on='time', how='inner')\n",
    "print(merged_df)"
   ],
   "metadata": {
    "collapsed": false
   }
  },
  {
   "cell_type": "code",
   "execution_count": 82,
   "outputs": [],
   "source": [
    "merged_df.to_csv('GOES_16_merged_data.csv', index=False)"
   ],
   "metadata": {
    "collapsed": false
   }
  },
  {
   "cell_type": "code",
   "execution_count": null,
   "outputs": [],
   "source": [],
   "metadata": {
    "collapsed": false
   }
  }
 ],
 "metadata": {
  "kernelspec": {
   "display_name": "Python 3",
   "language": "python",
   "name": "python3"
  },
  "language_info": {
   "codemirror_mode": {
    "name": "ipython",
    "version": 2
   },
   "file_extension": ".py",
   "mimetype": "text/x-python",
   "name": "python",
   "nbconvert_exporter": "python",
   "pygments_lexer": "ipython2",
   "version": "2.7.6"
  }
 },
 "nbformat": 4,
 "nbformat_minor": 0
}
