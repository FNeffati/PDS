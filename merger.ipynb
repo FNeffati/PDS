{
 "cells": [
  {
   "cell_type": "code",
   "execution_count": 1,
   "outputs": [],
   "source": [
    "import xarray as xr\n",
    "import pandas as pd\n"
   ],
   "metadata": {
    "collapsed": false,
    "ExecuteTime": {
     "end_time": "2023-11-13T01:00:20.558103Z",
     "start_time": "2023-11-13T01:00:20.252685Z"
    }
   }
  },
  {
   "cell_type": "code",
   "execution_count": 9,
   "outputs": [],
   "source": [
    "minute_averages = \"../data/sci_xrsf-l2-avg1m_g16_s20170207_e20231106_v2-2-0.nc\"\n",
    "summaries = \"../data/sci_xrsf-l2-flsum_g16_s20170209_e20231106_v2-2-0.nc\"\n",
    "\n",
    "file1 = xr.open_dataset(minute_averages)\n",
    "file2 = xr.open_dataset(summaries)\n",
    "\n",
    "var1 = file1['time']\n",
    "var2 = file1['xrsa_flux']\n",
    "var3 = file1['xrsb_flux']\n",
    "\n",
    "var4 = file2['time']\n",
    "var5 = file2['status']\n",
    "var6 = file2['flare_class']"
   ],
   "metadata": {
    "collapsed": false,
    "ExecuteTime": {
     "end_time": "2023-11-11T03:22:57.303191Z",
     "start_time": "2023-11-11T03:22:57.165638Z"
    }
   }
  },
  {
   "cell_type": "code",
   "execution_count": 10,
   "outputs": [],
   "source": [
    "new_dataset1 = xr.Dataset({\n",
    "    'time': var1,\n",
    "    'xrsa_flux': var2,\n",
    "    'xrsb_flux': var3,\n",
    "})"
   ],
   "metadata": {
    "collapsed": false,
    "ExecuteTime": {
     "end_time": "2023-11-11T03:22:57.523740Z",
     "start_time": "2023-11-11T03:22:57.517943Z"
    }
   }
  },
  {
   "cell_type": "code",
   "execution_count": 11,
   "outputs": [],
   "source": [
    "new_dataset2 = xr.Dataset({\n",
    "    'time': var4,\n",
    "    'status': var5,\n",
    "    'flare_class': var6,\n",
    "})"
   ],
   "metadata": {
    "collapsed": false,
    "ExecuteTime": {
     "end_time": "2023-11-11T03:22:57.902402Z",
     "start_time": "2023-11-11T03:22:57.900647Z"
    }
   }
  },
  {
   "cell_type": "code",
   "execution_count": 12,
   "outputs": [
    {
     "name": "stdout",
     "output_type": "stream",
     "text": [
      "2424961\n",
      "18688\n"
     ]
    },
    {
     "data": {
      "text/plain": "                        xrsa_flux     xrsb_flux\ntime                                           \n2018-06-01 00:00:00  3.990444e-09  9.771203e-08\n2018-06-01 00:01:00  1.911961e-09  9.790138e-08\n2018-06-01 00:02:00  4.745282e-09  1.006834e-07\n2018-06-01 00:03:00  5.898575e-09  9.936645e-08\n2018-06-01 00:04:00  5.632279e-09  9.511391e-08\n...                           ...           ...\n2018-06-07 22:35:00  1.000000e-09  4.934612e-09\n2018-06-07 22:36:00  1.000000e-09  4.919690e-09\n2018-06-07 22:37:00  1.000000e-09  4.453205e-09\n2018-06-07 22:38:00  1.000000e-09  4.907265e-09\n2018-06-07 22:39:00  1.000000e-09  5.031875e-09\n\n[10000 rows x 2 columns]",
      "text/html": "<div>\n<style scoped>\n    .dataframe tbody tr th:only-of-type {\n        vertical-align: middle;\n    }\n\n    .dataframe tbody tr th {\n        vertical-align: top;\n    }\n\n    .dataframe thead th {\n        text-align: right;\n    }\n</style>\n<table border=\"1\" class=\"dataframe\">\n  <thead>\n    <tr style=\"text-align: right;\">\n      <th></th>\n      <th>xrsa_flux</th>\n      <th>xrsb_flux</th>\n    </tr>\n    <tr>\n      <th>time</th>\n      <th></th>\n      <th></th>\n    </tr>\n  </thead>\n  <tbody>\n    <tr>\n      <th>2018-06-01 00:00:00</th>\n      <td>3.990444e-09</td>\n      <td>9.771203e-08</td>\n    </tr>\n    <tr>\n      <th>2018-06-01 00:01:00</th>\n      <td>1.911961e-09</td>\n      <td>9.790138e-08</td>\n    </tr>\n    <tr>\n      <th>2018-06-01 00:02:00</th>\n      <td>4.745282e-09</td>\n      <td>1.006834e-07</td>\n    </tr>\n    <tr>\n      <th>2018-06-01 00:03:00</th>\n      <td>5.898575e-09</td>\n      <td>9.936645e-08</td>\n    </tr>\n    <tr>\n      <th>2018-06-01 00:04:00</th>\n      <td>5.632279e-09</td>\n      <td>9.511391e-08</td>\n    </tr>\n    <tr>\n      <th>...</th>\n      <td>...</td>\n      <td>...</td>\n    </tr>\n    <tr>\n      <th>2018-06-07 22:35:00</th>\n      <td>1.000000e-09</td>\n      <td>4.934612e-09</td>\n    </tr>\n    <tr>\n      <th>2018-06-07 22:36:00</th>\n      <td>1.000000e-09</td>\n      <td>4.919690e-09</td>\n    </tr>\n    <tr>\n      <th>2018-06-07 22:37:00</th>\n      <td>1.000000e-09</td>\n      <td>4.453205e-09</td>\n    </tr>\n    <tr>\n      <th>2018-06-07 22:38:00</th>\n      <td>1.000000e-09</td>\n      <td>4.907265e-09</td>\n    </tr>\n    <tr>\n      <th>2018-06-07 22:39:00</th>\n      <td>1.000000e-09</td>\n      <td>5.031875e-09</td>\n    </tr>\n  </tbody>\n</table>\n<p>10000 rows × 2 columns</p>\n</div>"
     },
     "execution_count": 12,
     "metadata": {},
     "output_type": "execute_result"
    }
   ],
   "source": [
    "df1 = new_dataset1.to_dataframe()\n",
    "df2 = new_dataset2.to_dataframe()\n",
    "print(len(df1))\n",
    "print(len(df2))\n",
    "\n",
    "# print(df1.head)\n",
    "# print(df2.head)"
   ],
   "metadata": {
    "collapsed": false,
    "ExecuteTime": {
     "end_time": "2023-11-11T03:22:58.512938Z",
     "start_time": "2023-11-11T03:22:58.378353Z"
    }
   }
  },
  {
   "cell_type": "code",
   "execution_count": 63,
   "outputs": [
    {
     "name": "stdout",
     "output_type": "stream",
     "text": [
      "3548241\n"
     ]
    }
   ],
   "source": [
    "merged_df = pd.merge(df1, df2, on='time', how='outer')\n",
    "print(len(merged_df))\n",
    "# print(merged_df)"
   ],
   "metadata": {
    "collapsed": false,
    "ExecuteTime": {
     "end_time": "2023-11-09T21:11:31.889211Z",
     "start_time": "2023-11-09T21:11:31.341415Z"
    }
   }
  },
  {
   "cell_type": "markdown",
   "source": [],
   "metadata": {
    "collapsed": false
   }
  },
  {
   "cell_type": "code",
   "execution_count": 64,
   "outputs": [],
   "source": [
    "merged_df.to_csv('GOES_16_merged_data.csv', index=True)"
   ],
   "metadata": {
    "collapsed": false,
    "ExecuteTime": {
     "end_time": "2023-11-09T21:11:38.720750Z",
     "start_time": "2023-11-09T21:11:31.889337Z"
    }
   }
  }
 ],
 "metadata": {
  "kernelspec": {
   "display_name": "Python 3",
   "language": "python",
   "name": "python3"
  },
  "language_info": {
   "codemirror_mode": {
    "name": "ipython",
    "version": 2
   },
   "file_extension": ".py",
   "mimetype": "text/x-python",
   "name": "python",
   "nbconvert_exporter": "python",
   "pygments_lexer": "ipython2",
   "version": "2.7.6"
  }
 },
 "nbformat": 4,
 "nbformat_minor": 0
}
