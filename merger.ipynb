{
 "cells": [
  {
   "cell_type": "code",
   "execution_count": 1,
   "outputs": [],
   "source": [
    "import xarray as xr\n",
    "import pandas as pd\n"
   ],
   "metadata": {
    "collapsed": false,
    "ExecuteTime": {
     "end_time": "2023-10-05T16:04:20.214206Z",
     "start_time": "2023-10-05T16:04:19.955985Z"
    }
   }
  },
  {
   "cell_type": "code",
   "execution_count": 5,
   "outputs": [],
   "source": [
    "minute_averages = \"../data/sci_xrsf-l2-avg1m_g16_s20170207_e20231002_v2-2-0.nc\"\n",
    "summaries = \"../data/sci_xrsf-l2-flsum_g16_s20170209_e20231002_v2-2-0.nc\"\n",
    "\n",
    "file1 = xr.open_dataset(minute_averages)\n",
    "file2 = xr.open_dataset(summaries)\n",
    "\n",
    "var1 = file1['time']\n",
    "var2 = file1['xrsa_flux']\n",
    "var3 = file1['xrsb_flux']\n",
    "\n",
    "var4 = file2['time']\n",
    "var5 = file2['status']\n",
    "var6 = file2['flare_class']"
   ],
   "metadata": {
    "collapsed": false,
    "ExecuteTime": {
     "end_time": "2023-10-05T16:05:39.526359Z",
     "start_time": "2023-10-05T16:05:39.333899Z"
    }
   }
  },
  {
   "cell_type": "code",
   "execution_count": 6,
   "outputs": [],
   "source": [
    "new_dataset1 = xr.Dataset({\n",
    "    'time': var1,\n",
    "    'xrsa_flux': var2,\n",
    "    'xrsb_flux': var3,\n",
    "})"
   ],
   "metadata": {
    "collapsed": false,
    "ExecuteTime": {
     "end_time": "2023-10-05T16:05:40.379064Z",
     "start_time": "2023-10-05T16:05:40.372455Z"
    }
   }
  },
  {
   "cell_type": "code",
   "execution_count": 7,
   "outputs": [],
   "source": [
    "new_dataset2 = xr.Dataset({\n",
    "    'time': var4,\n",
    "    'status': var5,\n",
    "    'flare_class': var6,\n",
    "})"
   ],
   "metadata": {
    "collapsed": false,
    "ExecuteTime": {
     "end_time": "2023-10-05T16:05:41.618291Z",
     "start_time": "2023-10-05T16:05:41.614761Z"
    }
   }
  },
  {
   "cell_type": "code",
   "execution_count": 8,
   "outputs": [
    {
     "name": "stdout",
     "output_type": "stream",
     "text": [
      "<bound method NDFrame.head of                         xrsa_flux     xrsb_flux\n",
      "time                                           \n",
      "2017-02-07 00:00:00  2.949822e-08  7.072423e-08\n",
      "2017-02-07 00:01:00  2.716477e-08  6.869706e-08\n",
      "2017-02-07 00:02:00  2.996076e-08  6.933664e-08\n",
      "2017-02-07 00:03:00  3.124979e-08  6.796333e-08\n",
      "2017-02-07 00:04:00  3.095799e-08  6.928261e-08\n",
      "...                           ...           ...\n",
      "2023-10-02 23:55:00  1.797868e-08  9.525960e-07\n",
      "2023-10-02 23:56:00  1.747096e-08  9.480793e-07\n",
      "2023-10-02 23:57:00  1.653390e-08  9.453441e-07\n",
      "2023-10-02 23:58:00  1.665421e-08  9.431824e-07\n",
      "2023-10-02 23:59:00  1.879861e-08  9.392988e-07\n",
      "\n",
      "[3497760 rows x 2 columns]>\n",
      "<bound method NDFrame.head of                           status flare_class\n",
      "time                                        \n",
      "2017-02-09 00:41:00  EVENT_START         nan\n",
      "2017-02-09 00:50:00   EVENT_PEAK        B3.8\n",
      "2017-02-09 00:57:00    EVENT_END         nan\n",
      "2017-02-09 01:13:00   POST_EVENT         nan\n",
      "2017-02-09 01:30:00  EVENT_START         nan\n",
      "...                          ...         ...\n",
      "2023-10-02 16:49:00   POST_EVENT         nan\n",
      "2023-10-02 20:26:00  EVENT_START         nan\n",
      "2023-10-02 20:41:00   EVENT_PEAK        C1.7\n",
      "2023-10-02 20:51:00    EVENT_END         nan\n",
      "2023-10-02 21:35:00   POST_EVENT         nan\n",
      "\n",
      "[32426 rows x 2 columns]>\n"
     ]
    }
   ],
   "source": [
    "df1 = new_dataset1.to_dataframe()\n",
    "df2 = new_dataset2.to_dataframe()\n",
    "print(df1.head)\n",
    "print(df2.head)"
   ],
   "metadata": {
    "collapsed": false,
    "ExecuteTime": {
     "end_time": "2023-10-05T16:05:44.070379Z",
     "start_time": "2023-10-05T16:05:43.901720Z"
    }
   }
  },
  {
   "cell_type": "code",
   "execution_count": 9,
   "outputs": [
    {
     "name": "stdout",
     "output_type": "stream",
     "text": [
      "                        xrsa_flux     xrsb_flux       status flare_class\n",
      "time                                                                    \n",
      "2017-02-09 00:41:00  2.711966e-08  1.114654e-07  EVENT_START         nan\n",
      "2017-02-09 00:50:00  4.325080e-08  3.800934e-07   EVENT_PEAK        B3.8\n",
      "2017-02-09 00:57:00  3.119617e-08  2.325111e-07    EVENT_END         nan\n",
      "2017-02-09 01:13:00  2.622410e-08  1.151511e-07   POST_EVENT         nan\n",
      "2017-02-09 01:30:00  2.176940e-08  9.893294e-08  EVENT_START         nan\n",
      "...                           ...           ...          ...         ...\n",
      "2023-10-02 16:49:00  1.708596e-08  1.109746e-06   POST_EVENT         nan\n",
      "2023-10-02 20:26:00  1.924138e-08  1.027347e-06  EVENT_START         nan\n",
      "2023-10-02 20:41:00  7.539010e-08  1.732141e-06   EVENT_PEAK        C1.7\n",
      "2023-10-02 20:51:00  3.106322e-08  1.311040e-06    EVENT_END         nan\n",
      "2023-10-02 21:35:00  1.898762e-08  9.913947e-07   POST_EVENT         nan\n",
      "\n",
      "[32426 rows x 4 columns]\n"
     ]
    }
   ],
   "source": [
    "merged_df = pd.merge(df1, df2, on='time', how='inner')\n",
    "print(merged_df)"
   ],
   "metadata": {
    "collapsed": false,
    "ExecuteTime": {
     "end_time": "2023-10-05T16:05:48.400733Z",
     "start_time": "2023-10-05T16:05:47.909548Z"
    }
   }
  },
  {
   "cell_type": "markdown",
   "source": [],
   "metadata": {
    "collapsed": false
   }
  },
  {
   "cell_type": "code",
   "execution_count": 12,
   "outputs": [],
   "source": [
    "merged_df.to_csv('GOES_16_merged_data.csv', index=True)"
   ],
   "metadata": {
    "collapsed": false,
    "ExecuteTime": {
     "end_time": "2023-10-05T16:06:44.513266Z",
     "start_time": "2023-10-05T16:06:44.426842Z"
    }
   }
  },
  {
   "cell_type": "code",
   "execution_count": null,
   "outputs": [],
   "source": [
    " "
   ],
   "metadata": {
    "collapsed": false
   }
  }
 ],
 "metadata": {
  "kernelspec": {
   "display_name": "Python 3",
   "language": "python",
   "name": "python3"
  },
  "language_info": {
   "codemirror_mode": {
    "name": "ipython",
    "version": 2
   },
   "file_extension": ".py",
   "mimetype": "text/x-python",
   "name": "python",
   "nbconvert_exporter": "python",
   "pygments_lexer": "ipython2",
   "version": "2.7.6"
  }
 },
 "nbformat": 4,
 "nbformat_minor": 0
}
