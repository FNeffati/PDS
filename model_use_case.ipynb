{
 "cells": [
  {
   "cell_type": "code",
   "execution_count": null,
   "metadata": {},
   "outputs": [],
   "source": [
    "from tensorflow.keras.models import load_model\n",
    "import numpy as np"
   ]
  },
  {
   "cell_type": "code",
   "execution_count": null,
   "metadata": {},
   "outputs": [],
   "source": [
    "model = load_model('Models/CNN_model.h5')"
   ]
  },
  {
   "cell_type": "code",
   "execution_count": null,
   "metadata": {},
   "outputs": [],
   "source": [
    "# create new instance with random positive values between 0 and 1 with 1 at the center\n",
    "new_instance = np.random.rand(1,100)\n",
    "new_instance[0][50] = 1\n",
    "pred = model.predict(new_instance) # get prediction with model\n",
    "print(new_instance)\n",
    "print()\n",
    "print(pred)\n",
    "pred = (pred > 0.5).astype(int) # convert to binary\n",
    "print(f\"This instance is classified as nonflare: {pred}\")"
   ]
  },
  {
   "cell_type": "code",
   "execution_count": null,
   "metadata": {},
   "outputs": [],
   "source": [
    "# plot new instance with time steps\n",
    "import matplotlib.pyplot as plt\n",
    "plt.plot(new_instance[0])\n",
    "plt.show()"
   ]
  }
 ],
 "metadata": {
  "language_info": {
   "name": "python"
  }
 },
 "nbformat": 4,
 "nbformat_minor": 2
}
