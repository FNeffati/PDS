{
 "cells": [
  {
   "cell_type": "code",
   "execution_count": 2,
   "metadata": {
    "ExecuteTime": {
     "end_time": "2023-11-13T03:56:42.959148Z",
     "start_time": "2023-11-13T03:56:42.706382Z"
    }
   },
   "outputs": [],
   "source": [
    "import pandas as pd\n",
    "from datetime import datetime"
   ]
  },
  {
   "cell_type": "code",
   "execution_count": 9,
   "metadata": {
    "ExecuteTime": {
     "end_time": "2023-11-13T01:08:11.056283Z",
     "start_time": "2023-11-13T01:08:08.273403Z"
    }
   },
   "outputs": [
    {
     "name": "stderr",
     "output_type": "stream",
     "text": [
      "/var/folders/r7/6cts6h556zzgbx26m_g0p4gw0000gn/T/ipykernel_919/2651289391.py:2: DtypeWarning: Columns (3,4) have mixed types. Specify dtype option on import or set low_memory=False.\n",
      "  df2 = pd.read_csv('Data/GOES_17_merged_data.csv')\n"
     ]
    }
   ],
   "source": [
    "df1 = pd.read_csv('Data/GOES_16_merged_data.csv')\n",
    "df2 = pd.read_csv('Data/GOES_17_merged_data.csv')\n",
    "df3 = pd.read_csv('Data/GOES_18_merged_data.csv')"
   ]
  },
  {
   "cell_type": "code",
   "execution_count": 10,
   "outputs": [
    {
     "data": {
      "text/plain": "                    time     xrsa_flux     xrsb_flux status flare_class\n0    2017-02-07 00:00:00  2.949822e-08  7.072423e-08    NaN         NaN\n1    2017-02-07 00:01:00  2.716477e-08  6.869706e-08    NaN         NaN\n2    2017-02-07 00:02:00  2.996076e-08  6.933664e-08    NaN         NaN\n3    2017-02-07 00:03:00  3.124979e-08  6.796333e-08    NaN         NaN\n4    2017-02-07 00:04:00  3.095799e-08  6.928261e-08    NaN         NaN\n..                   ...           ...           ...    ...         ...\n995  2017-02-07 16:35:00  4.418819e-09  4.118933e-08    NaN         NaN\n996  2017-02-07 16:36:00  3.437882e-09  3.999427e-08    NaN         NaN\n997  2017-02-07 16:37:00  6.502486e-09  4.040907e-08    NaN         NaN\n998  2017-02-07 16:38:00  5.297591e-09  3.889536e-08    NaN         NaN\n999  2017-02-07 16:39:00  6.182436e-09  3.814912e-08    NaN         NaN\n\n[1000 rows x 5 columns]",
      "text/html": "<div>\n<style scoped>\n    .dataframe tbody tr th:only-of-type {\n        vertical-align: middle;\n    }\n\n    .dataframe tbody tr th {\n        vertical-align: top;\n    }\n\n    .dataframe thead th {\n        text-align: right;\n    }\n</style>\n<table border=\"1\" class=\"dataframe\">\n  <thead>\n    <tr style=\"text-align: right;\">\n      <th></th>\n      <th>time</th>\n      <th>xrsa_flux</th>\n      <th>xrsb_flux</th>\n      <th>status</th>\n      <th>flare_class</th>\n    </tr>\n  </thead>\n  <tbody>\n    <tr>\n      <th>0</th>\n      <td>2017-02-07 00:00:00</td>\n      <td>2.949822e-08</td>\n      <td>7.072423e-08</td>\n      <td>NaN</td>\n      <td>NaN</td>\n    </tr>\n    <tr>\n      <th>1</th>\n      <td>2017-02-07 00:01:00</td>\n      <td>2.716477e-08</td>\n      <td>6.869706e-08</td>\n      <td>NaN</td>\n      <td>NaN</td>\n    </tr>\n    <tr>\n      <th>2</th>\n      <td>2017-02-07 00:02:00</td>\n      <td>2.996076e-08</td>\n      <td>6.933664e-08</td>\n      <td>NaN</td>\n      <td>NaN</td>\n    </tr>\n    <tr>\n      <th>3</th>\n      <td>2017-02-07 00:03:00</td>\n      <td>3.124979e-08</td>\n      <td>6.796333e-08</td>\n      <td>NaN</td>\n      <td>NaN</td>\n    </tr>\n    <tr>\n      <th>4</th>\n      <td>2017-02-07 00:04:00</td>\n      <td>3.095799e-08</td>\n      <td>6.928261e-08</td>\n      <td>NaN</td>\n      <td>NaN</td>\n    </tr>\n    <tr>\n      <th>...</th>\n      <td>...</td>\n      <td>...</td>\n      <td>...</td>\n      <td>...</td>\n      <td>...</td>\n    </tr>\n    <tr>\n      <th>995</th>\n      <td>2017-02-07 16:35:00</td>\n      <td>4.418819e-09</td>\n      <td>4.118933e-08</td>\n      <td>NaN</td>\n      <td>NaN</td>\n    </tr>\n    <tr>\n      <th>996</th>\n      <td>2017-02-07 16:36:00</td>\n      <td>3.437882e-09</td>\n      <td>3.999427e-08</td>\n      <td>NaN</td>\n      <td>NaN</td>\n    </tr>\n    <tr>\n      <th>997</th>\n      <td>2017-02-07 16:37:00</td>\n      <td>6.502486e-09</td>\n      <td>4.040907e-08</td>\n      <td>NaN</td>\n      <td>NaN</td>\n    </tr>\n    <tr>\n      <th>998</th>\n      <td>2017-02-07 16:38:00</td>\n      <td>5.297591e-09</td>\n      <td>3.889536e-08</td>\n      <td>NaN</td>\n      <td>NaN</td>\n    </tr>\n    <tr>\n      <th>999</th>\n      <td>2017-02-07 16:39:00</td>\n      <td>6.182436e-09</td>\n      <td>3.814912e-08</td>\n      <td>NaN</td>\n      <td>NaN</td>\n    </tr>\n  </tbody>\n</table>\n<p>1000 rows × 5 columns</p>\n</div>"
     },
     "execution_count": 10,
     "metadata": {},
     "output_type": "execute_result"
    }
   ],
   "source": [
    "df1.head(1000)"
   ],
   "metadata": {
    "collapsed": false,
    "ExecuteTime": {
     "end_time": "2023-11-13T01:08:11.065294Z",
     "start_time": "2023-11-13T01:08:11.059660Z"
    }
   }
  },
  {
   "cell_type": "code",
   "execution_count": 11,
   "outputs": [
    {
     "name": "stdout",
     "output_type": "stream",
     "text": [
      "3548372\n"
     ]
    }
   ],
   "source": [
    "merged_df = pd.merge(df1, df2, on='time', how='outer')\n",
    "merged_df = pd.merge(merged_df, df3, on='time', how='outer')\n",
    "print(len(merged_df))\n"
   ],
   "metadata": {
    "collapsed": false,
    "ExecuteTime": {
     "end_time": "2023-11-13T01:08:15.104987Z",
     "start_time": "2023-11-13T01:08:11.063492Z"
    }
   }
  },
  {
   "cell_type": "code",
   "execution_count": 12,
   "outputs": [
    {
     "name": "stdout",
     "output_type": "stream",
     "text": [
      "3548160\n"
     ]
    }
   ],
   "source": [
    "merged_df = merged_df[[\"time\",\"xrsa_flux_x\",\"xrsb_flux_x\",\"status_x\",\"flare_class_x\"]]\n",
    "merged_df = merged_df.rename(columns={\"xrsa_flux_x\": \"xrsa_flux\", \"xrsb_flux_x\": \"xrsb_flux\", 'status_x':'status', 'flare_class_x': 'flare_class'})\n",
    "\n",
    "mask = merged_df['xrsa_flux'] != merged_df['xrsa_flux'].isna\n",
    "\n",
    "merged_df = merged_df[mask]\n",
    "\n",
    "merged_df = merged_df.drop_duplicates(subset='time', keep='first')\n",
    "print(len(merged_df))"
   ],
   "metadata": {
    "collapsed": false,
    "ExecuteTime": {
     "end_time": "2023-11-13T01:08:16.267728Z",
     "start_time": "2023-11-13T01:08:15.101388Z"
    }
   }
  },
  {
   "cell_type": "code",
   "execution_count": 13,
   "outputs": [
    {
     "name": "stdout",
     "output_type": "stream",
     "text": [
      "True\n"
     ]
    }
   ],
   "source": [
    "print(merged_df[\"time\"].is_unique)"
   ],
   "metadata": {
    "collapsed": false,
    "ExecuteTime": {
     "end_time": "2023-11-13T01:08:17.163086Z",
     "start_time": "2023-11-13T01:08:16.305046Z"
    }
   }
  },
  {
   "cell_type": "code",
   "execution_count": 14,
   "outputs": [
    {
     "name": "stdout",
     "output_type": "stream",
     "text": [
      "Duplicate Time Values:\n",
      "Empty DataFrame\n",
      "Columns: [time, xrsa_flux, xrsb_flux, status, flare_class]\n",
      "Index: []\n",
      "0\n",
      "3548160\n",
      "Are there duplicate time values? False\n"
     ]
    }
   ],
   "source": [
    "duplicates = merged_df[merged_df.duplicated('time', keep=False)]\n",
    "\n",
    "# Display duplicate rows\n",
    "print(\"Duplicate Time Values:\")\n",
    "print(duplicates)\n",
    "print(len(duplicates))\n",
    "print(len(merged_df))\n",
    "has_duplicates = merged_df['time'].duplicated().any()\n",
    "print(f\"Are there duplicate time values? {has_duplicates}\")"
   ],
   "metadata": {
    "collapsed": false,
    "ExecuteTime": {
     "end_time": "2023-11-13T01:08:18.826559Z",
     "start_time": "2023-11-13T01:08:18.076117Z"
    }
   }
  },
  {
   "cell_type": "code",
   "execution_count": 15,
   "outputs": [
    {
     "name": "stdout",
     "output_type": "stream",
     "text": [
      "2017-02-07 00:00:00\n"
     ]
    }
   ],
   "source": [
    "first_value = merged_df.head(1)\n",
    "first_value_time = str(first_value['time'].item())\n",
    "first_value_time = datetime.strptime(first_value_time, '%Y-%m-%d %H:%M:%S')\n",
    "print(first_value_time)"
   ],
   "metadata": {
    "collapsed": false,
    "ExecuteTime": {
     "end_time": "2023-11-13T01:08:18.826830Z",
     "start_time": "2023-11-13T01:08:18.820138Z"
    }
   }
  },
  {
   "cell_type": "code",
   "execution_count": 16,
   "outputs": [
    {
     "name": "stdout",
     "output_type": "stream",
     "text": [
      "2023-11-06 23:59:00\n"
     ]
    }
   ],
   "source": [
    "last_value = merged_df.tail(1)\n",
    "last_value_time = str(last_value['time'].item())\n",
    "last_value_time = datetime.strptime(last_value_time, '%Y-%m-%d %H:%M:%S')\n",
    "print(last_value_time)"
   ],
   "metadata": {
    "collapsed": false,
    "ExecuteTime": {
     "end_time": "2023-11-13T01:08:18.826987Z",
     "start_time": "2023-11-13T01:08:18.822843Z"
    }
   }
  },
  {
   "cell_type": "code",
   "execution_count": 17,
   "outputs": [
    {
     "name": "stdout",
     "output_type": "stream",
     "text": [
      "3548159\n"
     ]
    }
   ],
   "source": [
    "time_difference = last_value_time - first_value_time\n",
    "amount_of_minutes = int(time_difference.total_seconds() / 60)\n",
    "print(amount_of_minutes)"
   ],
   "metadata": {
    "collapsed": false,
    "ExecuteTime": {
     "end_time": "2023-11-13T01:08:18.827988Z",
     "start_time": "2023-11-13T01:08:18.825095Z"
    }
   }
  },
  {
   "cell_type": "code",
   "execution_count": 18,
   "outputs": [
    {
     "name": "stdout",
     "output_type": "stream",
     "text": [
      "3548160\n"
     ]
    }
   ],
   "source": [
    "print(len(merged_df))\n",
    "print()"
   ],
   "metadata": {
    "collapsed": false,
    "ExecuteTime": {
     "end_time": "2023-11-13T01:08:18.828945Z",
     "start_time": "2023-11-13T01:08:18.827366Z"
    }
   }
  },
  {
   "cell_type": "code",
   "execution_count": 19,
   "outputs": [],
   "source": [
    "merged_df.to_csv(\"full_set.csv\", index=False)"
   ],
   "metadata": {
    "collapsed": false,
    "ExecuteTime": {
     "end_time": "2023-11-13T01:08:23.703968Z",
     "start_time": "2023-11-13T01:08:18.829780Z"
    }
   }
  },
  {
   "cell_type": "markdown",
   "source": [
    "# Transforming the Dataset from long format to wide  Format "
   ],
   "metadata": {
    "collapsed": false
   }
  },
  {
   "cell_type": "code",
   "execution_count": 72,
   "outputs": [],
   "source": [
    "merged_df = pd.read_csv('full_set.csv')"
   ],
   "metadata": {
    "collapsed": false,
    "ExecuteTime": {
     "end_time": "2023-11-13T15:34:46.867262Z",
     "start_time": "2023-11-13T15:34:45.258808Z"
    }
   }
  },
  {
   "cell_type": "code",
   "execution_count": 73,
   "outputs": [],
   "source": [
    "merged_df = merged_df[[\"time\",\"xrsa_flux\",\"status\"]]"
   ],
   "metadata": {
    "collapsed": false,
    "ExecuteTime": {
     "end_time": "2023-11-13T15:34:46.937067Z",
     "start_time": "2023-11-13T15:34:46.868251Z"
    }
   }
  },
  {
   "cell_type": "code",
   "execution_count": 75,
   "outputs": [
    {
     "data": {
      "text/plain": "                    time     xrsa_flux  Label\n0    2018-01-01 00:00:00  5.246326e-09      0\n1    2018-01-01 00:01:00  3.435355e-09      0\n2    2018-01-02 00:01:00  6.933772e-09      0\n3    2018-01-02 00:02:00  5.229108e-09      0\n4    2018-01-02 00:03:00  6.279681e-09      0\n...                  ...           ...    ...\n9995 2018-01-09 00:29:00  5.455672e-09      0\n9996 2018-01-09 00:30:00  4.537092e-09      0\n9997 2018-01-09 00:31:00  5.552804e-09      0\n9998 2018-01-09 00:32:00  5.606264e-09      0\n9999 2018-01-09 00:33:00  6.213853e-09      0\n\n[10000 rows x 3 columns]",
      "text/html": "<div>\n<style scoped>\n    .dataframe tbody tr th:only-of-type {\n        vertical-align: middle;\n    }\n\n    .dataframe tbody tr th {\n        vertical-align: top;\n    }\n\n    .dataframe thead th {\n        text-align: right;\n    }\n</style>\n<table border=\"1\" class=\"dataframe\">\n  <thead>\n    <tr style=\"text-align: right;\">\n      <th></th>\n      <th>time</th>\n      <th>xrsa_flux</th>\n      <th>Label</th>\n    </tr>\n  </thead>\n  <tbody>\n    <tr>\n      <th>0</th>\n      <td>2018-01-01 00:00:00</td>\n      <td>5.246326e-09</td>\n      <td>0</td>\n    </tr>\n    <tr>\n      <th>1</th>\n      <td>2018-01-01 00:01:00</td>\n      <td>3.435355e-09</td>\n      <td>0</td>\n    </tr>\n    <tr>\n      <th>2</th>\n      <td>2018-01-02 00:01:00</td>\n      <td>6.933772e-09</td>\n      <td>0</td>\n    </tr>\n    <tr>\n      <th>3</th>\n      <td>2018-01-02 00:02:00</td>\n      <td>5.229108e-09</td>\n      <td>0</td>\n    </tr>\n    <tr>\n      <th>4</th>\n      <td>2018-01-02 00:03:00</td>\n      <td>6.279681e-09</td>\n      <td>0</td>\n    </tr>\n    <tr>\n      <th>...</th>\n      <td>...</td>\n      <td>...</td>\n      <td>...</td>\n    </tr>\n    <tr>\n      <th>9995</th>\n      <td>2018-01-09 00:29:00</td>\n      <td>5.455672e-09</td>\n      <td>0</td>\n    </tr>\n    <tr>\n      <th>9996</th>\n      <td>2018-01-09 00:30:00</td>\n      <td>4.537092e-09</td>\n      <td>0</td>\n    </tr>\n    <tr>\n      <th>9997</th>\n      <td>2018-01-09 00:31:00</td>\n      <td>5.552804e-09</td>\n      <td>0</td>\n    </tr>\n    <tr>\n      <th>9998</th>\n      <td>2018-01-09 00:32:00</td>\n      <td>5.606264e-09</td>\n      <td>0</td>\n    </tr>\n    <tr>\n      <th>9999</th>\n      <td>2018-01-09 00:33:00</td>\n      <td>6.213853e-09</td>\n      <td>0</td>\n    </tr>\n  </tbody>\n</table>\n<p>10000 rows × 3 columns</p>\n</div>"
     },
     "execution_count": 75,
     "metadata": {},
     "output_type": "execute_result"
    }
   ],
   "source": [
    "in_event = False\n",
    "event_label = 0\n",
    "labels = []\n",
    "\n",
    "for status in merged_df['status']:\n",
    "    if status == 'EVENT_PEAK':\n",
    "        event_label = 1\n",
    "    else:\n",
    "        event_label = 0\n",
    "    labels.append(event_label)\n",
    "\n",
    "cleaned = merged_df[[\"time\",\"xrsa_flux\"]]\n",
    "cleaned['Label'] = labels\n",
    "\n",
    "# removing all the 2017 data\n",
    "cleaned['time'] = pd.to_datetime(cleaned['time'])\n",
    "\n",
    "start_time = pd.to_datetime('2018-01-01 00:00:00')\n",
    "cleaned = cleaned[(cleaned['time'] >= start_time)]\n",
    "\n",
    "cleaned = cleaned.dropna(subset=['xrsa_flux'])\n",
    "cleaned = cleaned.reset_index(drop=True)\n",
    "\n",
    "cleaned.head(10000)  "
   ],
   "metadata": {
    "collapsed": false,
    "ExecuteTime": {
     "end_time": "2023-11-13T15:36:06.284495Z",
     "start_time": "2023-11-13T15:36:05.137263Z"
    }
   }
  },
  {
   "cell_type": "code",
   "execution_count": 87,
   "outputs": [],
   "source": [
    "df = cleaned\n",
    "\n",
    "# Even though the window size was about 183 readings, I think it might be too big, Let's start testing out 100\n",
    "window_size = 184\n",
    "\n",
    "wide_series_list = []\n",
    "\n",
    "i = window_size\n",
    "while i < len(df) - window_size + 1:\n",
    "    window = df.iloc[i - (window_size//2):i + (window_size//2)]\n",
    "    if window['Label'].any() == 1:\n",
    "        middle_index = (window['Label'] == 1).idxmax()\n",
    "        if middle_index == i:\n",
    "            window = list(window['xrsa_flux'].reset_index(drop=True))\n",
    "            window.append(1)\n",
    "            wide_series_list.append(window)\n",
    "            i = i + (window_size//2) + 1\n",
    "            continue\n",
    "        else: \n",
    "            i += 1\n",
    "            continue\n",
    "    else:\n",
    "        window = list(window['xrsa_flux'].reset_index(drop=True))\n",
    "        window.append(0)\n",
    "        wide_series_list.append(window)\n",
    "        i = i + (window_size//2) + 1\n",
    "        "
   ],
   "metadata": {
    "collapsed": false,
    "ExecuteTime": {
     "end_time": "2023-11-13T15:42:35.280012Z",
     "start_time": "2023-11-13T15:42:14.729260Z"
    }
   }
  },
  {
   "cell_type": "code",
   "execution_count": 88,
   "outputs": [
    {
     "name": "stdout",
     "output_type": "stream",
     "text": [
      "28707\n",
      "<class 'list'>\n"
     ]
    }
   ],
   "source": [
    "print(len(wide_series_list))\n",
    "print(type(wide_series_list[0]))\n",
    "\n",
    "transposed_df = pd.DataFrame(wide_series_list)\n",
    "\n",
    "# wide_series_df = pd.concat(wide_series_list, axis=1)\n",
    "# transposed_df = wide_series_df.T\n",
    "\n",
    "# print(len(transposed_df))\n"
   ],
   "metadata": {
    "collapsed": false,
    "ExecuteTime": {
     "end_time": "2023-11-13T15:42:35.590566Z",
     "start_time": "2023-11-13T15:42:35.281103Z"
    }
   }
  },
  {
   "cell_type": "code",
   "execution_count": 89,
   "outputs": [
    {
     "data": {
      "text/plain": "                 0             1             2             3             4  \\\n0     5.533539e-09  5.533268e-09  6.185512e-09  4.711178e-09  4.654437e-09   \n1     1.748377e-09  3.118675e-09  2.304878e-09  2.037305e-09  2.640252e-09   \n2     3.454376e-09  3.177857e-09  2.937502e-09  3.593601e-09  4.243432e-09   \n3     3.659730e-09  4.170499e-09  3.420095e-09  3.123178e-09  2.959743e-09   \n4     4.697617e-09  4.834471e-09  3.777643e-09  5.720345e-09  4.436036e-09   \n...            ...           ...           ...           ...           ...   \n1995  3.718567e-09  4.957889e-09  6.201355e-09  4.045499e-09  5.046086e-09   \n1996  5.743389e-09  6.442411e-09  4.196084e-09  5.984481e-09  5.367942e-09   \n1997  4.990997e-09  4.787734e-09  5.932627e-09  6.827147e-09  5.931501e-09   \n1998  6.218237e-09  7.594114e-09  6.446069e-09  7.649783e-09  8.353429e-09   \n1999  9.618915e-09  8.586651e-09  8.544837e-09  9.384643e-09  9.326832e-09   \n\n                 5             6             7             8             9  \\\n0     4.010655e-09  4.509709e-09  4.850949e-09  3.753756e-09  5.159274e-09   \n1     3.238086e-09  2.848076e-09  3.076982e-09  3.475040e-09  4.013863e-09   \n2     3.359992e-09  4.511997e-09  2.948331e-09  2.693326e-09  2.726117e-09   \n3     2.773871e-09  2.636297e-09  5.295369e-09  2.986771e-09  3.957314e-09   \n4     3.994602e-09  4.199571e-09  4.790939e-09  4.633575e-09  4.326550e-09   \n...            ...           ...           ...           ...           ...   \n1995  6.073011e-09  6.042229e-09  6.340288e-09  7.174432e-09  7.168192e-09   \n1996  5.670207e-09  4.698269e-09  7.574770e-09  7.410458e-09  5.331319e-09   \n1997  8.075331e-09  8.788223e-09  8.800377e-09  7.806931e-09  7.991977e-09   \n1998  8.974337e-09  8.134333e-09  7.239301e-09  8.452860e-09  8.481620e-09   \n1999  9.225045e-09  9.184650e-09  1.003925e-08  1.016910e-08  7.945503e-09   \n\n      ...           175           176           177           178  \\\n0     ...  3.131046e-09  3.963064e-09  4.339098e-09  2.207876e-09   \n1     ...  3.957633e-09  2.427869e-09  3.239848e-09  2.494678e-09   \n2     ...  5.742270e-09  5.984768e-09  5.355942e-09  5.724618e-09   \n3     ...  3.462123e-09  5.206575e-09  5.104474e-09  4.504015e-09   \n4     ...  7.139244e-09  8.846097e-09  6.985636e-09  7.452307e-09   \n...   ...           ...           ...           ...           ...   \n1995  ...  5.823370e-09  7.084416e-09  7.139876e-09  9.027745e-09   \n1996  ...  8.147294e-09  6.749451e-09  7.545797e-09  6.758675e-09   \n1997  ...  8.863889e-09  1.004460e-08  9.469247e-09  9.847104e-09   \n1998  ...  8.550503e-09  9.066814e-09  7.707216e-09  8.250646e-09   \n1999  ...  9.696386e-09  1.035630e-08  1.061504e-08  9.621853e-09   \n\n               179           180           181           182           183  \\\n0     2.893943e-09  3.379195e-09  1.902864e-09  3.477053e-09  2.947734e-09   \n1     2.997068e-09  4.503659e-09  3.203841e-09  3.156329e-09  2.559061e-09   \n2     4.386251e-09  3.874365e-09  4.410673e-09  5.113217e-09  5.357295e-09   \n3     3.408692e-09  4.891970e-09  4.480620e-09  4.982614e-09  5.536753e-09   \n4     7.490661e-09  7.703980e-09  8.349361e-09  8.429148e-09  7.828551e-09   \n...            ...           ...           ...           ...           ...   \n1995  7.203816e-09  7.548300e-09  7.305786e-09  7.777071e-09  6.376212e-09   \n1996  8.548588e-09  8.766245e-09  7.990896e-09  8.931241e-09  6.439181e-09   \n1997  9.357064e-09  8.641800e-09  9.444979e-09  9.498395e-09  7.682136e-09   \n1998  6.913003e-09  9.555235e-09  1.001332e-08  9.327360e-09  9.027125e-09   \n1999  1.038707e-08  1.170584e-08  1.074239e-08  1.079684e-08  9.441948e-09   \n\n      Label  \n0         0  \n1         0  \n2         0  \n3         0  \n4         0  \n...     ...  \n1995      0  \n1996      0  \n1997      0  \n1998      0  \n1999      0  \n\n[2000 rows x 185 columns]",
      "text/html": "<div>\n<style scoped>\n    .dataframe tbody tr th:only-of-type {\n        vertical-align: middle;\n    }\n\n    .dataframe tbody tr th {\n        vertical-align: top;\n    }\n\n    .dataframe thead th {\n        text-align: right;\n    }\n</style>\n<table border=\"1\" class=\"dataframe\">\n  <thead>\n    <tr style=\"text-align: right;\">\n      <th></th>\n      <th>0</th>\n      <th>1</th>\n      <th>2</th>\n      <th>3</th>\n      <th>4</th>\n      <th>5</th>\n      <th>6</th>\n      <th>7</th>\n      <th>8</th>\n      <th>9</th>\n      <th>...</th>\n      <th>175</th>\n      <th>176</th>\n      <th>177</th>\n      <th>178</th>\n      <th>179</th>\n      <th>180</th>\n      <th>181</th>\n      <th>182</th>\n      <th>183</th>\n      <th>Label</th>\n    </tr>\n  </thead>\n  <tbody>\n    <tr>\n      <th>0</th>\n      <td>5.533539e-09</td>\n      <td>5.533268e-09</td>\n      <td>6.185512e-09</td>\n      <td>4.711178e-09</td>\n      <td>4.654437e-09</td>\n      <td>4.010655e-09</td>\n      <td>4.509709e-09</td>\n      <td>4.850949e-09</td>\n      <td>3.753756e-09</td>\n      <td>5.159274e-09</td>\n      <td>...</td>\n      <td>3.131046e-09</td>\n      <td>3.963064e-09</td>\n      <td>4.339098e-09</td>\n      <td>2.207876e-09</td>\n      <td>2.893943e-09</td>\n      <td>3.379195e-09</td>\n      <td>1.902864e-09</td>\n      <td>3.477053e-09</td>\n      <td>2.947734e-09</td>\n      <td>0</td>\n    </tr>\n    <tr>\n      <th>1</th>\n      <td>1.748377e-09</td>\n      <td>3.118675e-09</td>\n      <td>2.304878e-09</td>\n      <td>2.037305e-09</td>\n      <td>2.640252e-09</td>\n      <td>3.238086e-09</td>\n      <td>2.848076e-09</td>\n      <td>3.076982e-09</td>\n      <td>3.475040e-09</td>\n      <td>4.013863e-09</td>\n      <td>...</td>\n      <td>3.957633e-09</td>\n      <td>2.427869e-09</td>\n      <td>3.239848e-09</td>\n      <td>2.494678e-09</td>\n      <td>2.997068e-09</td>\n      <td>4.503659e-09</td>\n      <td>3.203841e-09</td>\n      <td>3.156329e-09</td>\n      <td>2.559061e-09</td>\n      <td>0</td>\n    </tr>\n    <tr>\n      <th>2</th>\n      <td>3.454376e-09</td>\n      <td>3.177857e-09</td>\n      <td>2.937502e-09</td>\n      <td>3.593601e-09</td>\n      <td>4.243432e-09</td>\n      <td>3.359992e-09</td>\n      <td>4.511997e-09</td>\n      <td>2.948331e-09</td>\n      <td>2.693326e-09</td>\n      <td>2.726117e-09</td>\n      <td>...</td>\n      <td>5.742270e-09</td>\n      <td>5.984768e-09</td>\n      <td>5.355942e-09</td>\n      <td>5.724618e-09</td>\n      <td>4.386251e-09</td>\n      <td>3.874365e-09</td>\n      <td>4.410673e-09</td>\n      <td>5.113217e-09</td>\n      <td>5.357295e-09</td>\n      <td>0</td>\n    </tr>\n    <tr>\n      <th>3</th>\n      <td>3.659730e-09</td>\n      <td>4.170499e-09</td>\n      <td>3.420095e-09</td>\n      <td>3.123178e-09</td>\n      <td>2.959743e-09</td>\n      <td>2.773871e-09</td>\n      <td>2.636297e-09</td>\n      <td>5.295369e-09</td>\n      <td>2.986771e-09</td>\n      <td>3.957314e-09</td>\n      <td>...</td>\n      <td>3.462123e-09</td>\n      <td>5.206575e-09</td>\n      <td>5.104474e-09</td>\n      <td>4.504015e-09</td>\n      <td>3.408692e-09</td>\n      <td>4.891970e-09</td>\n      <td>4.480620e-09</td>\n      <td>4.982614e-09</td>\n      <td>5.536753e-09</td>\n      <td>0</td>\n    </tr>\n    <tr>\n      <th>4</th>\n      <td>4.697617e-09</td>\n      <td>4.834471e-09</td>\n      <td>3.777643e-09</td>\n      <td>5.720345e-09</td>\n      <td>4.436036e-09</td>\n      <td>3.994602e-09</td>\n      <td>4.199571e-09</td>\n      <td>4.790939e-09</td>\n      <td>4.633575e-09</td>\n      <td>4.326550e-09</td>\n      <td>...</td>\n      <td>7.139244e-09</td>\n      <td>8.846097e-09</td>\n      <td>6.985636e-09</td>\n      <td>7.452307e-09</td>\n      <td>7.490661e-09</td>\n      <td>7.703980e-09</td>\n      <td>8.349361e-09</td>\n      <td>8.429148e-09</td>\n      <td>7.828551e-09</td>\n      <td>0</td>\n    </tr>\n    <tr>\n      <th>...</th>\n      <td>...</td>\n      <td>...</td>\n      <td>...</td>\n      <td>...</td>\n      <td>...</td>\n      <td>...</td>\n      <td>...</td>\n      <td>...</td>\n      <td>...</td>\n      <td>...</td>\n      <td>...</td>\n      <td>...</td>\n      <td>...</td>\n      <td>...</td>\n      <td>...</td>\n      <td>...</td>\n      <td>...</td>\n      <td>...</td>\n      <td>...</td>\n      <td>...</td>\n      <td>...</td>\n    </tr>\n    <tr>\n      <th>1995</th>\n      <td>3.718567e-09</td>\n      <td>4.957889e-09</td>\n      <td>6.201355e-09</td>\n      <td>4.045499e-09</td>\n      <td>5.046086e-09</td>\n      <td>6.073011e-09</td>\n      <td>6.042229e-09</td>\n      <td>6.340288e-09</td>\n      <td>7.174432e-09</td>\n      <td>7.168192e-09</td>\n      <td>...</td>\n      <td>5.823370e-09</td>\n      <td>7.084416e-09</td>\n      <td>7.139876e-09</td>\n      <td>9.027745e-09</td>\n      <td>7.203816e-09</td>\n      <td>7.548300e-09</td>\n      <td>7.305786e-09</td>\n      <td>7.777071e-09</td>\n      <td>6.376212e-09</td>\n      <td>0</td>\n    </tr>\n    <tr>\n      <th>1996</th>\n      <td>5.743389e-09</td>\n      <td>6.442411e-09</td>\n      <td>4.196084e-09</td>\n      <td>5.984481e-09</td>\n      <td>5.367942e-09</td>\n      <td>5.670207e-09</td>\n      <td>4.698269e-09</td>\n      <td>7.574770e-09</td>\n      <td>7.410458e-09</td>\n      <td>5.331319e-09</td>\n      <td>...</td>\n      <td>8.147294e-09</td>\n      <td>6.749451e-09</td>\n      <td>7.545797e-09</td>\n      <td>6.758675e-09</td>\n      <td>8.548588e-09</td>\n      <td>8.766245e-09</td>\n      <td>7.990896e-09</td>\n      <td>8.931241e-09</td>\n      <td>6.439181e-09</td>\n      <td>0</td>\n    </tr>\n    <tr>\n      <th>1997</th>\n      <td>4.990997e-09</td>\n      <td>4.787734e-09</td>\n      <td>5.932627e-09</td>\n      <td>6.827147e-09</td>\n      <td>5.931501e-09</td>\n      <td>8.075331e-09</td>\n      <td>8.788223e-09</td>\n      <td>8.800377e-09</td>\n      <td>7.806931e-09</td>\n      <td>7.991977e-09</td>\n      <td>...</td>\n      <td>8.863889e-09</td>\n      <td>1.004460e-08</td>\n      <td>9.469247e-09</td>\n      <td>9.847104e-09</td>\n      <td>9.357064e-09</td>\n      <td>8.641800e-09</td>\n      <td>9.444979e-09</td>\n      <td>9.498395e-09</td>\n      <td>7.682136e-09</td>\n      <td>0</td>\n    </tr>\n    <tr>\n      <th>1998</th>\n      <td>6.218237e-09</td>\n      <td>7.594114e-09</td>\n      <td>6.446069e-09</td>\n      <td>7.649783e-09</td>\n      <td>8.353429e-09</td>\n      <td>8.974337e-09</td>\n      <td>8.134333e-09</td>\n      <td>7.239301e-09</td>\n      <td>8.452860e-09</td>\n      <td>8.481620e-09</td>\n      <td>...</td>\n      <td>8.550503e-09</td>\n      <td>9.066814e-09</td>\n      <td>7.707216e-09</td>\n      <td>8.250646e-09</td>\n      <td>6.913003e-09</td>\n      <td>9.555235e-09</td>\n      <td>1.001332e-08</td>\n      <td>9.327360e-09</td>\n      <td>9.027125e-09</td>\n      <td>0</td>\n    </tr>\n    <tr>\n      <th>1999</th>\n      <td>9.618915e-09</td>\n      <td>8.586651e-09</td>\n      <td>8.544837e-09</td>\n      <td>9.384643e-09</td>\n      <td>9.326832e-09</td>\n      <td>9.225045e-09</td>\n      <td>9.184650e-09</td>\n      <td>1.003925e-08</td>\n      <td>1.016910e-08</td>\n      <td>7.945503e-09</td>\n      <td>...</td>\n      <td>9.696386e-09</td>\n      <td>1.035630e-08</td>\n      <td>1.061504e-08</td>\n      <td>9.621853e-09</td>\n      <td>1.038707e-08</td>\n      <td>1.170584e-08</td>\n      <td>1.074239e-08</td>\n      <td>1.079684e-08</td>\n      <td>9.441948e-09</td>\n      <td>0</td>\n    </tr>\n  </tbody>\n</table>\n<p>2000 rows × 185 columns</p>\n</div>"
     },
     "execution_count": 89,
     "metadata": {},
     "output_type": "execute_result"
    }
   ],
   "source": [
    "transposed_df.columns = [str(i) for i in range(window_size)] + ['Label'] \n",
    "transposed_df.head(2000)"
   ],
   "metadata": {
    "collapsed": false,
    "ExecuteTime": {
     "end_time": "2023-11-13T15:42:35.620011Z",
     "start_time": "2023-11-13T15:42:35.591659Z"
    }
   }
  },
  {
   "cell_type": "code",
   "execution_count": 90,
   "outputs": [],
   "source": [
    "transposed_df.to_csv(\"wide184.csv\", index=False)"
   ],
   "metadata": {
    "collapsed": false,
    "ExecuteTime": {
     "end_time": "2023-11-13T15:42:38.035189Z",
     "start_time": "2023-11-13T15:42:35.606911Z"
    }
   }
  },
  {
   "cell_type": "code",
   "execution_count": null,
   "outputs": [],
   "source": [],
   "metadata": {
    "collapsed": false
   }
  }
 ],
 "metadata": {
  "kernelspec": {
   "display_name": "Python 3",
   "language": "python",
   "name": "python3"
  },
  "language_info": {
   "codemirror_mode": {
    "name": "ipython",
    "version": 3
   },
   "file_extension": ".py",
   "mimetype": "text/x-python",
   "name": "python",
   "nbconvert_exporter": "python",
   "pygments_lexer": "ipython3",
   "version": "3.11.1"
  }
 },
 "nbformat": 4,
 "nbformat_minor": 2
}
