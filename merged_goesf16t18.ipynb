{
 "cells": [
  {
   "cell_type": "code",
   "execution_count": 81,
   "metadata": {
    "ExecuteTime": {
     "end_time": "2023-11-09T22:05:31.505174Z",
     "start_time": "2023-11-09T22:05:31.499539Z"
    }
   },
   "outputs": [],
   "source": [
    "import pandas as pd\n",
    "from datetime import datetime"
   ]
  },
  {
   "cell_type": "code",
   "execution_count": 90,
   "metadata": {
    "ExecuteTime": {
     "end_time": "2023-11-10T03:27:39.224093Z",
     "start_time": "2023-11-10T03:27:30.849634Z"
    }
   },
   "outputs": [
    {
     "name": "stderr",
     "output_type": "stream",
     "text": [
      "/var/folders/r7/6cts6h556zzgbx26m_g0p4gw0000gn/T/ipykernel_36022/389087925.py:2: DtypeWarning: Columns (3,4) have mixed types. Specify dtype option on import or set low_memory=False.\n",
      "  df2 = pd.read_csv('Data/GOES_17_merged_data.csv')\n"
     ]
    },
    {
     "name": "stdout",
     "output_type": "stream",
     "text": [
      "3548372\n",
      "3548160\n"
     ]
    }
   ],
   "source": [
    "df1 = pd.read_csv('Data/GOES_16_merged_data.csv')\n",
    "df2 = pd.read_csv('Data/GOES_17_merged_data.csv')\n",
    "df3 = pd.read_csv('Data/GOES_18_merged_data.csv')\n",
    "\n",
    "merged_df = pd.merge(df1, df2, on='time', how='outer')\n",
    "merged_df = pd.merge(merged_df, df3, on='time', how='outer')\n",
    "print(len(merged_df))\n",
    "\n",
    "merged_df = merged_df[~merged_df['time'].duplicated(keep='first')]\n",
    "print(len(merged_df))"
   ]
  },
  {
   "cell_type": "code",
   "execution_count": 91,
   "outputs": [
    {
     "name": "stdout",
     "output_type": "stream",
     "text": [
      "Duplicate Time Values:\n",
      "Empty DataFrame\n",
      "Columns: [time, xrsa_flux_x, xrsb_flux_x, status_x, flare_class_x, xrsa_flux_y, xrsb_flux_y, status_y, flare_class_y, xrsa_flux, xrsb_flux, status, flare_class]\n",
      "Index: []\n",
      "0\n",
      "3548160\n",
      "Are there duplicate time values? False\n"
     ]
    }
   ],
   "source": [
    "duplicates = merged_df[merged_df.duplicated('time', keep=False)]\n",
    "\n",
    "# Display duplicate rows\n",
    "print(\"Duplicate Time Values:\")\n",
    "print(duplicates)\n",
    "print(len(duplicates))\n",
    "print(len(merged_df))\n",
    "# If you just want to know if there are any duplicates\n",
    "has_duplicates = merged_df['time'].duplicated().any()\n",
    "print(f\"Are there duplicate time values? {has_duplicates}\")"
   ],
   "metadata": {
    "collapsed": false,
    "ExecuteTime": {
     "end_time": "2023-11-10T03:27:56.717554Z",
     "start_time": "2023-11-10T03:27:55.961497Z"
    }
   }
  },
  {
   "cell_type": "code",
   "execution_count": 92,
   "outputs": [
    {
     "name": "stdout",
     "output_type": "stream",
     "text": [
      "2017-02-07 00:00:00\n"
     ]
    }
   ],
   "source": [
    "first_value = merged_df.head(1)\n",
    "first_value_time = str(first_value['time'].item())\n",
    "first_value_time = datetime.strptime(first_value_time, '%Y-%m-%d %H:%M:%S')\n",
    "print(first_value_time)"
   ],
   "metadata": {
    "collapsed": false,
    "ExecuteTime": {
     "end_time": "2023-11-10T03:28:37.421778Z",
     "start_time": "2023-11-10T03:28:37.417190Z"
    }
   }
  },
  {
   "cell_type": "code",
   "execution_count": 93,
   "outputs": [
    {
     "name": "stdout",
     "output_type": "stream",
     "text": [
      "2023-11-06 23:59:00\n"
     ]
    }
   ],
   "source": [
    "last_value = merged_df.tail(1)\n",
    "last_value_time = str(last_value['time'].item())\n",
    "last_value_time = datetime.strptime(last_value_time, '%Y-%m-%d %H:%M:%S')\n",
    "print(last_value_time)"
   ],
   "metadata": {
    "collapsed": false,
    "ExecuteTime": {
     "end_time": "2023-11-10T03:28:39.625226Z",
     "start_time": "2023-11-10T03:28:39.620388Z"
    }
   }
  },
  {
   "cell_type": "code",
   "execution_count": 94,
   "outputs": [
    {
     "name": "stdout",
     "output_type": "stream",
     "text": [
      "3548159\n"
     ]
    }
   ],
   "source": [
    "time_difference = last_value_time - first_value_time\n",
    "amount_of_minutes = int(time_difference.total_seconds() / 60)\n",
    "print(amount_of_minutes)"
   ],
   "metadata": {
    "collapsed": false,
    "ExecuteTime": {
     "end_time": "2023-11-10T03:28:46.131269Z",
     "start_time": "2023-11-10T03:28:46.125607Z"
    }
   }
  },
  {
   "cell_type": "code",
   "execution_count": 95,
   "outputs": [
    {
     "name": "stdout",
     "output_type": "stream",
     "text": [
      "3548160\n"
     ]
    }
   ],
   "source": [
    "print(len(merged_df))\n",
    "print()"
   ],
   "metadata": {
    "collapsed": false,
    "ExecuteTime": {
     "end_time": "2023-11-10T03:28:51.193089Z",
     "start_time": "2023-11-10T03:28:51.186981Z"
    }
   }
  },
  {
   "cell_type": "code",
   "execution_count": 96,
   "outputs": [],
   "source": [
    "merged_df.to_csv(\"full_set.csv\", index=False)"
   ],
   "metadata": {
    "collapsed": false,
    "ExecuteTime": {
     "end_time": "2023-11-10T03:29:15.458783Z",
     "start_time": "2023-11-10T03:29:06.254263Z"
    }
   }
  }
 ],
 "metadata": {
  "kernelspec": {
   "display_name": "Python 3",
   "language": "python",
   "name": "python3"
  },
  "language_info": {
   "codemirror_mode": {
    "name": "ipython",
    "version": 3
   },
   "file_extension": ".py",
   "mimetype": "text/x-python",
   "name": "python",
   "nbconvert_exporter": "python",
   "pygments_lexer": "ipython3",
   "version": "3.11.1"
  }
 },
 "nbformat": 4,
 "nbformat_minor": 2
}
