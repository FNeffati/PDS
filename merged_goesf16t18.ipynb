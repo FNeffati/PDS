{
 "cells": [
  {
   "cell_type": "code",
   "execution_count": 1,
   "metadata": {},
   "outputs": [],
   "source": [
    "import pandas as pd\n",
    "import xarray as xr"
   ]
  },
  {
   "cell_type": "code",
   "execution_count": null,
   "metadata": {},
   "outputs": [],
   "source": [
    "!wget https://data.ngdc.noaa.gov/platforms/solar-space-observing-satellites/goes/goes16/l2/data/xrsf-l2-avg1m_science/sci_xrsf-l2-avg1m_g16_s20170207_e20231002_v2-2-0.nc\n",
    "!wget https://data.ngdc.noaa.gov/platforms/solar-space-observing-satellites/goes/goes16/l2/data/xrsf-l2-flsum_science/sci_xrsf-l2-flsum_g16_s20170209_e20231002_v2-2-0.nc\n",
    "!wget https://data.ngdc.noaa.gov/platforms/solar-space-observing-satellites/goes/goes17/l2/data/xrsf-l2-avg1m_science/sci_xrsf-l2-avg1m_g17_s20180601_e20230110_v2-2-0.nc\n",
    "!wget https://data.ngdc.noaa.gov/platforms/solar-space-observing-satellites/goes/goes17/l2/data/xrsf-l2-flsum_science/sci_xrsf-l2-flsum_g17_s20180601_e20230110_v2-2-0.nc\n",
    "!wget https://data.ngdc.noaa.gov/platforms/solar-space-observing-satellites/goes/goes18/l2/data/xrsf-l2-avg1m_science/sci_xrsf-l2-avg1m_g18_s20220902_e20231002_v2-2-0.nc\n",
    "!wget https://data.ngdc.noaa.gov/platforms/solar-space-observing-satellites/goes/goes18/l2/data/xrsf-l2-flsum_science/sci_xrsf-l2-flsum_g18_s20220905_e20231002_v2-2-0.nc"
   ]
  },
  {
   "cell_type": "code",
   "execution_count": null,
   "metadata": {},
   "outputs": [],
   "source": [
    "file_avg16 = '/content/sci_xrsf-l2-avg1m_g16_s20170207_e20231002_v2-2-0.nc'\n",
    "file_sum16 = '/content/sci_xrsf-l2-flsum_g16_s20170209_e20231002_v2-2-0.nc'\n",
    "file_avg17 = '/content/sci_xrsf-l2-avg1m_g17_s20180601_e20230110_v2-2-0.nc'\n",
    "file_sum17 = '/content/sci_xrsf-l2-flsum_g17_s20180601_e20230110_v2-2-0.nc'\n",
    "file_avg18 = '/content/sci_xrsf-l2-avg1m_g18_s20220902_e20231002_v2-2-0.nc'\n",
    "file_sum18 = '/content/sci_xrsf-l2-flsum_g18_s20220905_e20231002_v2-2-0.nc'"
   ]
  },
  {
   "cell_type": "code",
   "execution_count": null,
   "metadata": {},
   "outputs": [],
   "source": [
    "ds16_avg = xr.open_dataset(file_avg16)\n",
    "ds16_flare = xr.open_dataset(file_sum16)\n",
    "\n",
    "ds17_avg = xr.open_dataset(file_avg17)\n",
    "ds17_flare = xr.open_dataset(file_sum17)\n",
    "\n",
    "ds18_avg = xr.open_dataset(file_avg18)\n",
    "ds18_flare = xr.open_dataset(file_sum18)"
   ]
  },
  {
   "cell_type": "code",
   "execution_count": null,
   "metadata": {},
   "outputs": [],
   "source": [
    "def process_telescope_data(file_path, flare_summary_path, telescope_number):\n",
    "    ds = xr.open_dataset(file_path)\n",
    "    ds2 = xr.open_dataset(flare_summary_path)\n",
    "\n",
    "    # Convert xarray DataArrays to pandas DataFrames\n",
    "    ds = ds[['xrsa_flux', 'xrsb_flux', 'time']].to_dataframe().reset_index()\n",
    "    ds2 = ds2[['status', 'time']].to_dataframe().reset_index()\n",
    "\n",
    "    # Add telescope identifier\n",
    "    ds['telescope'] = telescope_number\n",
    "    ds2['telescope'] = telescope_number\n",
    "\n",
    "    return ds, ds2\n",
    "\n",
    "# Process data for each telescope\n",
    "ds_16, ds2_16 = process_telescope_data(file_avg16, file_sum16, 16)\n",
    "ds_17, ds2_17 = process_telescope_data(file_avg17, file_sum17, 17)\n",
    "ds_18, ds2_18 = process_telescope_data(file_avg18, file_sum18, 18)"
   ]
  },
  {
   "cell_type": "code",
   "execution_count": null,
   "metadata": {},
   "outputs": [],
   "source": [
    "# Concatenate data from all telescopes\n",
    "ds = pd.concat([ds_16, ds_17, ds_18])\n",
    "ds2 = pd.concat([ds2_16, ds2_17, ds2_18])"
   ]
  },
  {
   "cell_type": "code",
   "execution_count": null,
   "metadata": {},
   "outputs": [],
   "source": [
    "ds.head()"
   ]
  },
  {
   "cell_type": "code",
   "execution_count": null,
   "metadata": {},
   "outputs": [],
   "source": [
    "ds2.head()"
   ]
  },
  {
   "cell_type": "code",
   "execution_count": null,
   "metadata": {},
   "outputs": [],
   "source": [
    "merged_goes_data = pd.merge(ds, ds2, on=['time', 'telescope'], how='outer')"
   ]
  },
  {
   "cell_type": "code",
   "execution_count": null,
   "metadata": {},
   "outputs": [],
   "source": [
    "merged_goes_data.head()"
   ]
  },
  {
   "cell_type": "code",
   "execution_count": null,
   "metadata": {},
   "outputs": [],
   "source": [
    "merged_goes_data.to_csv('merged_goes_f16t18_data.csv', index=False)"
   ]
  }
 ],
 "metadata": {
  "kernelspec": {
   "display_name": "Python 3",
   "language": "python",
   "name": "python3"
  },
  "language_info": {
   "codemirror_mode": {
    "name": "ipython",
    "version": 3
   },
   "file_extension": ".py",
   "mimetype": "text/x-python",
   "name": "python",
   "nbconvert_exporter": "python",
   "pygments_lexer": "ipython3",
   "version": "3.11.1"
  }
 },
 "nbformat": 4,
 "nbformat_minor": 2
}
