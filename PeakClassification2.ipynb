{
 "cells": [
  {
   "cell_type": "markdown",
   "metadata": {
    "id": "U9myznlBC2UO"
   },
   "source": [
    "# Peak Classification: Models for classifying Solar Peaks\n",
    "\n",
    "In this notebook, we can experiment with different models (LSTM, CNN etc.) on different data sets (fullset, wideset100, etc.)\n",
    "\n",
    "The first group of cells represents an LSTM model that I created for the wideset100. In order for all of us to experiemnt and train separate models, I think it would be best to separate code blocks by **text** cells as I have done,\n",
    "beginning with **Model Start** and ending with **Model End** with all code and metrics included between these text cells.\n",
    "\n",
    "In this way, we can all edit the same document and look at each others models but I'm also open to other ideas for working in the document.\n",
    "\n",
    "Also, to prevent any **version conflicts** or **compatibility issues**, I think we should import libraries separately in each of our model sections rather than compiling a huge list at the start of this notebook.\n",
    "\n",
    "Final thought - ensure that your train, test, validation sets and model weights are fixed for repeatability, for instance by setting random seed!\n",
    "\n"
   ]
  },
  {
   "cell_type": "code",
   "execution_count": 16,
   "metadata": {
    "colab": {
     "base_uri": "https://localhost:8080/"
    },
    "id": "_voMwCMKEa_3",
    "outputId": "d195f54d-5675-45a2-996b-14ca79665567",
    "ExecuteTime": {
     "end_time": "2023-11-16T19:38:38.768676Z",
     "start_time": "2023-11-16T19:38:38.711449Z"
    }
   },
   "outputs": [],
   "source": [
    "# Import libraries\n",
    "import pandas as pd\n",
    "import numpy as np\n",
    "import matplotlib.pyplot as plt\n",
    "import tensorflow as tf\n",
    "import graphviz\n",
    "from sklearn.model_selection import train_test_split\n",
    "from sklearn.preprocessing import StandardScaler\n",
    "from sklearn.utils import class_weight\n",
    "from sklearn.metrics import classification_report, confusion_matrix, ConfusionMatrixDisplay\n",
    "from tensorflow.keras.models import Sequential\n",
    "from tensorflow.keras.layers import LSTM, Dense, Dropout, Bidirectional\n",
    "from tensorflow.keras.utils import plot_model\n"
   ]
  },
  {
   "cell_type": "markdown",
   "metadata": {
    "id": "s86_tweWD6Az"
   },
   "source": [
    "### **Model Start**\n",
    "Data: wide100 \\\n",
    "Model: LSTM"
   ]
  },
  {
   "cell_type": "code",
   "execution_count": 17,
   "metadata": {
    "id": "0rF-zGMqFRgF",
    "ExecuteTime": {
     "end_time": "2023-11-16T19:38:39.002709Z",
     "start_time": "2023-11-16T19:38:38.720978Z"
    }
   },
   "outputs": [],
   "source": [
    "# Get data\n",
    "wideset100 = pd.read_csv(\"../data/sliding_wide_100.csv\")\n",
    "wideset100.head()\n",
    "\n",
    "np.random.seed(42)\n",
    "\n",
    "# Train, test, val splits\n",
    "X = wideset100.iloc[:, :-1].values\n",
    "y = wideset100.iloc[:, -1].values\n",
    "\n",
    "# Split the data into training, testing, and validation sets using stratified sampling\n",
    "X_train, X_temp, y_train, y_temp = train_test_split(X, y, test_size=0.3, stratify=y, random_state=42)\n",
    "X_val, X_test, y_val, y_test = train_test_split(X_temp, y_temp, test_size=0.5, stratify=y_temp, random_state=42)"
   ]
  },
  {
   "cell_type": "code",
   "execution_count": 18,
   "metadata": {
    "colab": {
     "base_uri": "https://localhost:8080/"
    },
    "id": "TcIOcuBpQwKO",
    "outputId": "4fe1a186-4250-4b37-95da-be13c5d7a89a",
    "ExecuteTime": {
     "end_time": "2023-11-16T19:38:39.013685Z",
     "start_time": "2023-11-16T19:38:39.005988Z"
    }
   },
   "outputs": [
    {
     "data": {
      "text/plain": "(21204, 4544, 4544)"
     },
     "execution_count": 18,
     "metadata": {},
     "output_type": "execute_result"
    }
   ],
   "source": [
    "X_train.shape[0], X_val.shape[0], X_test.shape[0]"
   ]
  },
  {
   "cell_type": "code",
   "execution_count": 19,
   "metadata": {
    "colab": {
     "base_uri": "https://localhost:8080/"
    },
    "id": "QLYmhmRILf1C",
    "outputId": "145947e8-3f56-462e-84a5-612eba83cd1a",
    "ExecuteTime": {
     "end_time": "2023-11-16T19:38:39.019420Z",
     "start_time": "2023-11-16T19:38:39.012963Z"
    }
   },
   "outputs": [
    {
     "data": {
      "text/plain": "array([4.8552640e-08, 4.8575348e-08, 4.8590100e-08, 4.3660503e-08,\n       5.0097253e-08, 4.8511280e-08, 4.6309523e-08, 4.7605354e-08,\n       5.0638540e-08, 5.3045070e-08, 5.9455978e-08, 7.3097110e-08,\n       8.1431920e-08, 7.0905585e-08, 6.3971420e-08, 5.7160623e-08,\n       5.4177548e-08, 5.4571615e-08, 5.2110444e-08, 5.3595480e-08,\n       5.6887437e-08, 6.0838566e-08, 6.4248020e-08, 6.1719770e-08,\n       6.0132840e-08, 6.8387350e-08, 6.2766496e-08, 6.0154520e-08,\n       6.2832990e-08, 6.6171670e-08, 7.8895425e-08, 6.6619680e-08,\n       5.6559685e-08, 5.8655605e-08, 6.4435300e-08, 7.6989670e-08,\n       9.7830320e-08, 1.3071087e-07, 3.6200746e-07, 4.1406844e-07,\n       3.2519566e-07, 3.4693107e-07, 5.5512680e-07, 1.0192792e-06,\n       1.6051387e-06, 2.2272977e-06, 2.8538389e-06, 3.2089993e-06,\n       3.2397840e-06, 3.1457516e-06, 2.9955966e-06, 2.8246695e-06,\n       2.6427930e-06, 2.4894910e-06, 2.4570184e-06, 2.4967962e-06,\n       2.2407970e-06, 1.9444608e-06, 1.7713814e-06, 1.6520445e-06,\n       1.5262345e-06, 1.4130825e-06, 1.3124389e-06, 1.2217454e-06,\n       1.1444231e-06, 1.0673373e-06, 1.0091288e-06, 9.7822640e-07,\n       9.7107000e-07, 9.7944590e-07, 9.9004440e-07, 9.8988450e-07,\n       9.7386650e-07, 9.5084334e-07, 9.0714100e-07, 8.4119800e-07,\n       7.6591390e-07, 6.9570706e-07, 6.7121820e-07, 6.7609050e-07,\n       6.8108790e-07, 7.0389550e-07, 7.4172480e-07, 7.8113413e-07,\n       8.2754076e-07, 8.8476010e-07, 9.2565700e-07, 9.5445940e-07,\n       1.0527875e-06, 1.0836136e-06, 1.0755496e-06, 9.9853420e-07,\n       9.5024060e-07, 9.0362530e-07, 8.5938973e-07, 8.1512410e-07,\n       7.6476600e-07, 7.1871640e-07, 6.7074630e-07, 6.2588015e-07,\n       5.8123794e-07])"
     },
     "execution_count": 19,
     "metadata": {},
     "output_type": "execute_result"
    }
   ],
   "source": [
    "# Train example\n",
    "X_train[0]"
   ]
  },
  {
   "cell_type": "code",
   "execution_count": 20,
   "metadata": {
    "id": "WE728q-HGHy2",
    "ExecuteTime": {
     "end_time": "2023-11-16T19:38:39.048152Z",
     "start_time": "2023-11-16T19:38:39.016433Z"
    }
   },
   "outputs": [],
   "source": [
    "# Standardize data\n",
    "scaler = StandardScaler()\n",
    "X_train = scaler.fit_transform(X_train)\n",
    "X_val = scaler.transform(X_val)\n",
    "X_test = scaler.transform(X_test)"
   ]
  },
  {
   "cell_type": "code",
   "execution_count": 21,
   "metadata": {
    "colab": {
     "base_uri": "https://localhost:8080/"
    },
    "id": "H-m9Aay9GSzN",
    "outputId": "98295dd5-b564-4c5f-e1f0-901ef39dc4d6",
    "ExecuteTime": {
     "end_time": "2023-11-16T19:38:39.547342Z",
     "start_time": "2023-11-16T19:38:39.085568Z"
    }
   },
   "outputs": [
    {
     "name": "stdout",
     "output_type": "stream",
     "text": [
      "Model: \"sequential_1\"\n",
      "_________________________________________________________________\n",
      " Layer (type)                Output Shape              Param #   \n",
      "=================================================================\n",
      " bidirectional_3 (Bidirecti  (None, 101, 100)          20800     \n",
      " onal)                                                           \n",
      "                                                                 \n",
      " dropout_3 (Dropout)         (None, 101, 100)          0         \n",
      "                                                                 \n",
      " bidirectional_4 (Bidirecti  (None, 100)               60400     \n",
      " onal)                                                           \n",
      "                                                                 \n",
      " dropout_4 (Dropout)         (None, 100)               0         \n",
      "                                                                 \n",
      " dense_1 (Dense)             (None, 1)                 101       \n",
      "                                                                 \n",
      "=================================================================\n",
      "Total params: 81301 (317.58 KB)\n",
      "Trainable params: 81301 (317.58 KB)\n",
      "Non-trainable params: 0 (0.00 Byte)\n",
      "_________________________________________________________________\n"
     ]
    }
   ],
   "source": [
    "# LSTM model creation (LSTM1)\n",
    "def create_LSTM1():\n",
    "  tf.random.set_seed(1)\n",
    "  model = Sequential()\n",
    "  model.add(Bidirectional(LSTM(50, return_sequences=True), input_shape=(X_train.shape[1], 1)))\n",
    "  model.add(Dropout(0.3))\n",
    "  model.add(Bidirectional(LSTM(50), input_shape=(X_train.shape[1], 1)))\n",
    "  model.add(Dropout(0.3))\n",
    "  model.add(Dense(1, activation='sigmoid'))\n",
    "  model.compile(optimizer='adam', loss='binary_crossentropy',  metrics=['accuracy'])\n",
    "  return model\n",
    "\n",
    "LSTM1_model = create_LSTM1()\n",
    "LSTM1_model.summary()"
   ]
  },
  {
   "cell_type": "code",
   "execution_count": 22,
   "metadata": {
    "id": "_CH_gXhRGon6",
    "ExecuteTime": {
     "end_time": "2023-11-16T19:38:39.550541Z",
     "start_time": "2023-11-16T19:38:39.549447Z"
    }
   },
   "outputs": [],
   "source": [
    "# Reshape input data for LSTM\n",
    "\n",
    "\n",
    "X_train = X_train.reshape((X_train.shape[0], X_train.shape[1], 1))\n",
    "X_val = X_val.reshape((X_val.shape[0], X_val.shape[1], 1))\n",
    "X_test = X_test.reshape((X_test.shape[0], X_test.shape[1], 1))"
   ]
  },
  {
   "cell_type": "code",
   "execution_count": 23,
   "metadata": {
    "colab": {
     "base_uri": "https://localhost:8080/"
    },
    "id": "8jeMsOThIqpy",
    "outputId": "bdfa4356-57bb-41f2-9910-2911e80d0186",
    "ExecuteTime": {
     "end_time": "2023-11-16T19:38:39.555468Z",
     "start_time": "2023-11-16T19:38:39.550781Z"
    }
   },
   "outputs": [
    {
     "data": {
      "text/plain": "(21204, 101, 1)"
     },
     "execution_count": 23,
     "metadata": {},
     "output_type": "execute_result"
    }
   ],
   "source": [
    "# Shape of train data\n",
    "X_train.shape"
   ]
  },
  {
   "cell_type": "code",
   "execution_count": 24,
   "metadata": {
    "colab": {
     "base_uri": "https://localhost:8080/"
    },
    "id": "ywRUJdBWJcF3",
    "outputId": "1dc0530c-a1dd-43a3-f67d-429bedcc7756",
    "ExecuteTime": {
     "end_time": "2023-11-16T19:38:39.556061Z",
     "start_time": "2023-11-16T19:38:39.552715Z"
    }
   },
   "outputs": [
    {
     "data": {
      "text/plain": "array([[0.28814329],\n       [0.30553059],\n       [0.27910214],\n       [0.20282836],\n       [0.24607121],\n       [0.25812478],\n       [0.26806698],\n       [0.29515686],\n       [0.30106303],\n       [0.29215783],\n       [0.337336  ],\n       [0.45709088],\n       [0.54720554],\n       [0.33552897],\n       [0.2220832 ],\n       [0.25108263],\n       [0.27854984],\n       [0.32069711],\n       [0.33632978],\n       [0.37760247],\n       [0.42777743],\n       [0.47195404],\n       [0.49285417],\n       [0.44928532],\n       [0.42076153],\n       [0.48893375],\n       [0.4244112 ],\n       [0.3815877 ],\n       [0.37732191],\n       [0.3652645 ],\n       [0.38578764],\n       [0.26638083],\n       [0.19011725],\n       [0.19175979],\n       [0.20683936],\n       [0.23868609],\n       [0.28058486],\n       [0.34252638],\n       [0.94418845],\n       [0.97480997],\n       [0.68348438],\n       [0.67313783],\n       [1.04103647],\n       [1.82334427],\n       [2.68753898],\n       [3.49736908],\n       [4.21307835],\n       [4.33487715],\n       [3.80193352],\n       [3.05170022],\n       [2.66466188],\n       [2.94455383],\n       [3.28623807],\n       [3.61177298],\n       [4.03057451],\n       [4.539051  ],\n       [4.4266551 ],\n       [4.10278829],\n       [3.92814159],\n       [3.74030354],\n       [3.61354943],\n       [3.3779957 ],\n       [3.20517615],\n       [3.12403216],\n       [3.06715078],\n       [2.96695118],\n       [2.83742449],\n       [2.77937625],\n       [2.83528247],\n       [2.96723577],\n       [3.11522587],\n       [3.20174545],\n       [3.11138451],\n       [3.0047714 ],\n       [2.96515817],\n       [2.88119708],\n       [2.7088584 ],\n       [2.28071567],\n       [1.8379809 ],\n       [1.84797607],\n       [2.02711476],\n       [2.23282957],\n       [2.41803508],\n       [2.65639175],\n       [2.801425  ],\n       [3.18353167],\n       [3.55433514],\n       [3.81793823],\n       [4.17280066],\n       [4.00175224],\n       [3.6157019 ],\n       [3.20070724],\n       [3.02931636],\n       [2.89925094],\n       [2.73630692],\n       [2.60881219],\n       [2.45529525],\n       [2.2512034 ],\n       [1.99037006],\n       [1.74391409],\n       [1.56909835]])"
     },
     "execution_count": 24,
     "metadata": {},
     "output_type": "execute_result"
    }
   ],
   "source": [
    "# Train examples\n",
    "X_train[0]"
   ]
  },
  {
   "cell_type": "code",
   "execution_count": 24,
   "metadata": {
    "ExecuteTime": {
     "end_time": "2023-11-16T19:38:39.560673Z",
     "start_time": "2023-11-16T19:38:39.557009Z"
    }
   },
   "outputs": [],
   "source": []
  },
  {
   "cell_type": "code",
   "execution_count": 25,
   "metadata": {
    "colab": {
     "base_uri": "https://localhost:8080/"
    },
    "id": "cOQG_5VjJdcy",
    "outputId": "dfd888bc-b6be-4d5d-fe90-eaee688787d3",
    "ExecuteTime": {
     "end_time": "2023-11-16T19:44:50.232600Z",
     "start_time": "2023-11-16T19:38:39.559668Z"
    }
   },
   "outputs": [
    {
     "name": "stdout",
     "output_type": "stream",
     "text": [
      "Epoch 1/15\n",
      "663/663 [==============================] - 27s 38ms/step - loss: 0.2084 - accuracy: 0.9365 - val_loss: 0.2944 - val_accuracy: 0.9032\n",
      "Epoch 2/15\n",
      "663/663 [==============================] - 25s 38ms/step - loss: 0.2608 - accuracy: 0.9115 - val_loss: 0.3506 - val_accuracy: 0.9014\n",
      "Epoch 3/15\n",
      "663/663 [==============================] - 25s 38ms/step - loss: 0.3390 - accuracy: 0.8941 - val_loss: 0.4013 - val_accuracy: 0.8497\n",
      "Epoch 4/15\n",
      "663/663 [==============================] - 24s 37ms/step - loss: 0.3328 - accuracy: 0.8859 - val_loss: 0.2031 - val_accuracy: 0.9408\n",
      "Epoch 5/15\n",
      "663/663 [==============================] - 25s 37ms/step - loss: 0.1873 - accuracy: 0.9501 - val_loss: 0.1732 - val_accuracy: 0.9540\n",
      "Epoch 6/15\n",
      "663/663 [==============================] - 24s 36ms/step - loss: 0.1797 - accuracy: 0.9488 - val_loss: 0.1795 - val_accuracy: 0.9498\n",
      "Epoch 7/15\n",
      "663/663 [==============================] - 24s 37ms/step - loss: 0.1995 - accuracy: 0.9422 - val_loss: 0.2052 - val_accuracy: 0.9331\n",
      "Epoch 8/15\n",
      "663/663 [==============================] - 24s 37ms/step - loss: 0.2176 - accuracy: 0.9365 - val_loss: 0.9796 - val_accuracy: 0.2500\n",
      "Epoch 9/15\n",
      "663/663 [==============================] - 24s 37ms/step - loss: 0.2922 - accuracy: 0.8942 - val_loss: 0.2149 - val_accuracy: 0.9305\n",
      "Epoch 10/15\n",
      "663/663 [==============================] - 25s 38ms/step - loss: 0.1981 - accuracy: 0.9401 - val_loss: 0.1871 - val_accuracy: 0.9428\n",
      "Epoch 11/15\n",
      "663/663 [==============================] - 25s 37ms/step - loss: 0.1951 - accuracy: 0.9423 - val_loss: 0.1922 - val_accuracy: 0.9401\n",
      "Epoch 12/15\n",
      "663/663 [==============================] - 25s 37ms/step - loss: 0.1840 - accuracy: 0.9449 - val_loss: 0.1889 - val_accuracy: 0.9404\n",
      "Epoch 13/15\n",
      "663/663 [==============================] - 24s 37ms/step - loss: 0.1736 - accuracy: 0.9489 - val_loss: 0.1785 - val_accuracy: 0.9461\n",
      "Epoch 14/15\n",
      "663/663 [==============================] - 24s 37ms/step - loss: 0.1995 - accuracy: 0.9393 - val_loss: 0.2016 - val_accuracy: 0.9419\n",
      "Epoch 15/15\n",
      "663/663 [==============================] - 24s 37ms/step - loss: 0.1936 - accuracy: 0.9445 - val_loss: 0.1872 - val_accuracy: 0.9441\n"
     ]
    },
    {
     "data": {
      "text/plain": "<keras.src.callbacks.History at 0x1550905b0>"
     },
     "execution_count": 25,
     "metadata": {},
     "output_type": "execute_result"
    }
   ],
   "source": [
    "\n",
    "LSTM1_model.fit(\n",
    "    X_train, \n",
    "    y_train, \n",
    "    epochs=15,\n",
    "    batch_size=32,\n",
    "    validation_data=(X_val, y_val),\n",
    ")"
   ]
  },
  {
   "cell_type": "code",
   "execution_count": 25,
   "metadata": {
    "ExecuteTime": {
     "end_time": "2023-11-16T19:44:50.236778Z",
     "start_time": "2023-11-16T19:44:50.235775Z"
    }
   },
   "outputs": [],
   "source": []
  },
  {
   "cell_type": "code",
   "execution_count": 26,
   "metadata": {
    "colab": {
     "base_uri": "https://localhost:8080/"
    },
    "id": "72yK9r0crIzf",
    "outputId": "c4297f51-79d2-4e43-9443-9452a060594c",
    "ExecuteTime": {
     "end_time": "2023-11-16T19:44:50.238263Z",
     "start_time": "2023-11-16T19:44:50.235940Z"
    }
   },
   "outputs": [
    {
     "name": "stdout",
     "output_type": "stream",
     "text": [
      "(4544, 101, 1)\n",
      "<class 'numpy.ndarray'>\n"
     ]
    }
   ],
   "source": [
    "print(X_test.shape)\n",
    "print(type(X_test))\n",
    "\n"
   ]
  },
  {
   "cell_type": "code",
   "execution_count": 26,
   "metadata": {
    "ExecuteTime": {
     "end_time": "2023-11-16T19:44:50.241731Z",
     "start_time": "2023-11-16T19:44:50.238340Z"
    }
   },
   "outputs": [],
   "source": []
  },
  {
   "cell_type": "code",
   "execution_count": 44,
   "metadata": {
    "colab": {
     "base_uri": "https://localhost:8080/"
    },
    "id": "56g5BzAFJlhQ",
    "outputId": "12c085c0-0d35-4377-fb9f-d51798a32475",
    "ExecuteTime": {
     "end_time": "2023-11-16T20:41:17.058664Z",
     "start_time": "2023-11-16T20:41:15.793415Z"
    }
   },
   "outputs": [
    {
     "name": "stdout",
     "output_type": "stream",
     "text": [
      "142/142 [==============================] - 1s 9ms/step\n",
      "              precision    recall  f1-score   support\n",
      "\n",
      "           0       0.93      1.00      0.96      3408\n",
      "           1       0.98      0.79      0.87      1136\n",
      "\n",
      "    accuracy                           0.94      4544\n",
      "   macro avg       0.96      0.89      0.92      4544\n",
      "weighted avg       0.95      0.94      0.94      4544\n"
     ]
    }
   ],
   "source": [
    "# Evaluate the model on the test set\n",
    "y_pred = LSTM1_model.predict(X_test)\n",
    "y_pred = (y_pred > 0.5).astype(int)\n",
    "print(classification_report(y_test, y_pred))"
   ]
  },
  {
   "cell_type": "code",
   "execution_count": 28,
   "metadata": {
    "colab": {
     "base_uri": "https://localhost:8080/",
     "height": 471
    },
    "id": "yIFjfYbILt9m",
    "outputId": "3bed0c96-52a6-49b0-9115-fc3d71f156e8",
    "ExecuteTime": {
     "end_time": "2023-11-16T19:44:52.001518Z",
     "start_time": "2023-11-16T19:44:51.923032Z"
    }
   },
   "outputs": [
    {
     "data": {
      "text/plain": "<Figure size 640x480 with 2 Axes>",
      "image/png": "[encoded data removed]"
     },
     "metadata": {},
     "output_type": "display_data"
    }
   ],
   "source": [
    "# Classification Matrix\n",
    "cm = confusion_matrix(y_test, y_pred)\n",
    "disp = ConfusionMatrixDisplay(confusion_matrix=cm, display_labels=['Non-Peak', 'Peak'])\n",
    "disp.plot(cmap='Blues', values_format='d')\n",
    "plt.title('Confusion Matrix')\n",
    "plt.show()"
   ]
  },
  {
   "cell_type": "code",
   "execution_count": 29,
   "metadata": {
    "colab": {
     "base_uri": "https://localhost:8080/"
    },
    "id": "3d1zxOlPQEJb",
    "outputId": "53e7d2cc-6d70-4626-b239-d0a5c441f326",
    "ExecuteTime": {
     "end_time": "2023-11-16T19:44:52.002770Z",
     "start_time": "2023-11-16T19:44:51.999559Z"
    }
   },
   "outputs": [
    {
     "data": {
      "text/plain": "(4544,)"
     },
     "execution_count": 29,
     "metadata": {},
     "output_type": "execute_result"
    }
   ],
   "source": [
    "y_test.shape"
   ]
  },
  {
   "cell_type": "markdown",
   "metadata": {
    "id": "_kCq5uKZJxHk"
   },
   "source": [
    "### **Model End**"
   ]
  },
  {
   "cell_type": "markdown",
   "metadata": {
    "id": "H9Y5YOKYJ89s"
   },
   "source": [
    "### **Model Start**\n",
    "Data: foo1 \\\n",
    "Model: foo2"
   ]
  },
  {
   "cell_type": "code",
   "execution_count": 30,
   "metadata": {
    "id": "sA0P-X68J4H_",
    "ExecuteTime": {
     "end_time": "2023-11-16T19:44:52.005968Z",
     "start_time": "2023-11-16T19:44:52.003041Z"
    }
   },
   "outputs": [],
   "source": [
    "# Next Model"
   ]
  },
  {
   "cell_type": "markdown",
   "metadata": {
    "id": "yOLTJ8C6KIZo"
   },
   "source": [
    "### **Model End**"
   ]
  },
  {
   "cell_type": "code",
   "execution_count": 30,
   "metadata": {
    "id": "KI-p9fAnKLLk",
    "ExecuteTime": {
     "end_time": "2023-11-16T19:44:52.009315Z",
     "start_time": "2023-11-16T19:44:52.004918Z"
    }
   },
   "outputs": [],
   "source": []
  }
 ],
 "metadata": {
  "colab": {
   "provenance": []
  },
  "kernelspec": {
   "name": "python3",
   "language": "python",
   "display_name": "Python 3 (ipykernel)"
  },
  "language_info": {
   "codemirror_mode": {
    "name": "ipython",
    "version": 3
   },
   "file_extension": ".py",
   "mimetype": "text/x-python",
   "name": "python",
   "nbconvert_exporter": "python",
   "pygments_lexer": "ipython3",
   "version": "3.9.16"
  }
 },
 "nbformat": 4,
 "nbformat_minor": 0
}
