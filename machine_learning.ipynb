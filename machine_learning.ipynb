{
 "cells": [
  {
   "cell_type": "markdown",
   "id": "c03bc3c6feffb2a8",
   "metadata": {
    "collapsed": false
   },
   "source": [
    "# Flare Peak Detection Machine Learning Model\n",
    "This file will contain our data preprocessing, machine learning model set up, and model testing to detect flare peaks. \n",
    " "
   ]
  },
  {
   "cell_type": "markdown",
   "id": "b16cbb979f668346",
   "metadata": {
    "collapsed": false
   },
   "source": [
    "# Most Up To Date: \n",
    "Under this section you'll find the most up to date model."
   ]
  },
  {
   "cell_type": "code",
   "execution_count": null,
   "id": "5641a0f1acdcf17f",
   "metadata": {
    "collapsed": false
   },
   "outputs": [],
   "source": []
  },
  {
   "cell_type": "markdown",
   "id": "dc836682f795216d",
   "metadata": {
    "collapsed": false
   },
   "source": [
    "# Previous Attempts: \n",
    "Under here you'll have access to some of our previous attempts.  "
   ]
  },
  {
   "cell_type": "code",
   "execution_count": 1,
   "id": "38fd330c5c123b41",
   "metadata": {
    "ExecuteTime": {
     "end_time": "2023-11-16T19:11:08.616075Z",
     "start_time": "2023-11-16T19:11:08.570934Z"
    },
    "collapsed": false
   },
   "outputs": [
    {
     "name": "stderr",
     "output_type": "stream",
     "text": [
      "2023-11-28 13:46:15.768651: I tensorflow/core/platform/cpu_feature_guard.cc:193] This TensorFlow binary is optimized with oneAPI Deep Neural Network Library (oneDNN) to use the following CPU instructions in performance-critical operations:  SSE4.1 SSE4.2\n",
      "To enable them in other operations, rebuild TensorFlow with the appropriate compiler flags.\n"
     ]
    }
   ],
   "source": [
    "\n",
    "import pandas as pd\n",
    "import numpy as np\n",
    "import matplotlib.pyplot as plt\n",
    "import tensorflow as tf\n",
    "from sklearn.model_selection import train_test_split\n",
    "from sklearn.preprocessing import StandardScaler\n",
    "from sklearn.utils import class_weight\n",
    "from sklearn.metrics import classification_report, confusion_matrix, ConfusionMatrixDisplay\n",
    "from tensorflow.keras.models import Sequential\n",
    "from tensorflow.keras.layers import LSTM, Dense\n",
    "from tensorflow.keras.callbacks import EarlyStopping\n"
   ]
  },
  {
   "cell_type": "markdown",
   "id": "d3fcff28fdeb5ca2",
   "metadata": {
    "collapsed": false
   },
   "source": [
    "## Data: Random Shuffle \n",
    "In this approach, "
   ]
  },
  {
   "cell_type": "code",
   "execution_count": 62,
   "id": "20cc46f0114bff48",
   "metadata": {
    "ExecuteTime": {
     "end_time": "2023-11-16T19:11:08.807302Z",
     "start_time": "2023-11-16T19:11:08.575572Z"
    },
    "collapsed": false
   },
   "outputs": [
    {
     "data": {
      "text/html": [
       "<div>\n",
       "<style scoped>\n",
       "    .dataframe tbody tr th:only-of-type {\n",
       "        vertical-align: middle;\n",
       "    }\n",
       "\n",
       "    .dataframe tbody tr th {\n",
       "        vertical-align: top;\n",
       "    }\n",
       "\n",
       "    .dataframe thead th {\n",
       "        text-align: right;\n",
       "    }\n",
       "</style>\n",
       "<table border=\"1\" class=\"dataframe\">\n",
       "  <thead>\n",
       "    <tr style=\"text-align: right;\">\n",
       "      <th></th>\n",
       "      <th>0</th>\n",
       "      <th>1</th>\n",
       "      <th>2</th>\n",
       "      <th>3</th>\n",
       "      <th>4</th>\n",
       "      <th>5</th>\n",
       "      <th>6</th>\n",
       "      <th>7</th>\n",
       "      <th>8</th>\n",
       "      <th>9</th>\n",
       "      <th>...</th>\n",
       "      <th>92</th>\n",
       "      <th>93</th>\n",
       "      <th>94</th>\n",
       "      <th>95</th>\n",
       "      <th>96</th>\n",
       "      <th>97</th>\n",
       "      <th>98</th>\n",
       "      <th>99</th>\n",
       "      <th>100</th>\n",
       "      <th>Label</th>\n",
       "    </tr>\n",
       "  </thead>\n",
       "  <tbody>\n",
       "    <tr>\n",
       "      <th>0</th>\n",
       "      <td>1.536445e-09</td>\n",
       "      <td>3.079428e-09</td>\n",
       "      <td>2.603944e-09</td>\n",
       "      <td>2.551378e-09</td>\n",
       "      <td>2.558685e-09</td>\n",
       "      <td>1.432635e-09</td>\n",
       "      <td>1.874788e-09</td>\n",
       "      <td>2.721542e-09</td>\n",
       "      <td>4.285158e-09</td>\n",
       "      <td>3.629239e-09</td>\n",
       "      <td>...</td>\n",
       "      <td>2.856966e-09</td>\n",
       "      <td>4.389429e-09</td>\n",
       "      <td>3.694770e-09</td>\n",
       "      <td>4.274082e-09</td>\n",
       "      <td>3.263311e-09</td>\n",
       "      <td>4.095904e-09</td>\n",
       "      <td>4.768051e-09</td>\n",
       "      <td>2.979967e-09</td>\n",
       "      <td>3.660248e-09</td>\n",
       "      <td>0</td>\n",
       "    </tr>\n",
       "    <tr>\n",
       "      <th>1</th>\n",
       "      <td>1.000000e-09</td>\n",
       "      <td>1.000000e-09</td>\n",
       "      <td>1.000000e-09</td>\n",
       "      <td>1.000000e-09</td>\n",
       "      <td>1.000000e-09</td>\n",
       "      <td>1.000000e-09</td>\n",
       "      <td>1.000000e-09</td>\n",
       "      <td>1.000000e-09</td>\n",
       "      <td>1.000000e-09</td>\n",
       "      <td>1.000000e-09</td>\n",
       "      <td>...</td>\n",
       "      <td>1.526971e-09</td>\n",
       "      <td>1.000000e-09</td>\n",
       "      <td>1.000000e-09</td>\n",
       "      <td>1.649339e-09</td>\n",
       "      <td>1.540821e-09</td>\n",
       "      <td>1.000000e-09</td>\n",
       "      <td>1.000000e-09</td>\n",
       "      <td>1.541843e-09</td>\n",
       "      <td>1.000000e-09</td>\n",
       "      <td>0</td>\n",
       "    </tr>\n",
       "    <tr>\n",
       "      <th>2</th>\n",
       "      <td>5.248012e-09</td>\n",
       "      <td>5.624901e-09</td>\n",
       "      <td>6.257582e-09</td>\n",
       "      <td>5.772275e-09</td>\n",
       "      <td>6.182636e-09</td>\n",
       "      <td>6.658299e-09</td>\n",
       "      <td>6.329365e-09</td>\n",
       "      <td>4.159591e-09</td>\n",
       "      <td>4.723101e-09</td>\n",
       "      <td>4.167188e-09</td>\n",
       "      <td>...</td>\n",
       "      <td>5.897906e-09</td>\n",
       "      <td>5.774463e-09</td>\n",
       "      <td>5.901859e-09</td>\n",
       "      <td>7.200517e-09</td>\n",
       "      <td>6.219275e-09</td>\n",
       "      <td>6.868841e-09</td>\n",
       "      <td>6.631912e-09</td>\n",
       "      <td>5.008209e-09</td>\n",
       "      <td>6.311808e-09</td>\n",
       "      <td>0</td>\n",
       "    </tr>\n",
       "    <tr>\n",
       "      <th>3</th>\n",
       "      <td>1.000000e-09</td>\n",
       "      <td>1.996967e-09</td>\n",
       "      <td>1.357384e-09</td>\n",
       "      <td>1.118515e-09</td>\n",
       "      <td>1.433971e-09</td>\n",
       "      <td>1.508355e-09</td>\n",
       "      <td>2.165851e-09</td>\n",
       "      <td>1.193197e-09</td>\n",
       "      <td>1.000000e-09</td>\n",
       "      <td>1.135763e-09</td>\n",
       "      <td>...</td>\n",
       "      <td>1.270822e-09</td>\n",
       "      <td>1.173274e-09</td>\n",
       "      <td>1.000000e-09</td>\n",
       "      <td>1.000000e-09</td>\n",
       "      <td>1.000000e-09</td>\n",
       "      <td>1.000000e-09</td>\n",
       "      <td>1.000000e-09</td>\n",
       "      <td>1.000000e-09</td>\n",
       "      <td>1.000000e-09</td>\n",
       "      <td>0</td>\n",
       "    </tr>\n",
       "    <tr>\n",
       "      <th>4</th>\n",
       "      <td>1.000000e-09</td>\n",
       "      <td>1.000000e-09</td>\n",
       "      <td>1.000000e-09</td>\n",
       "      <td>1.000000e-09</td>\n",
       "      <td>1.000000e-09</td>\n",
       "      <td>1.000000e-09</td>\n",
       "      <td>1.000000e-09</td>\n",
       "      <td>1.000000e-09</td>\n",
       "      <td>1.603935e-09</td>\n",
       "      <td>1.000000e-09</td>\n",
       "      <td>...</td>\n",
       "      <td>1.000000e-09</td>\n",
       "      <td>1.000000e-09</td>\n",
       "      <td>1.000000e-09</td>\n",
       "      <td>1.000000e-09</td>\n",
       "      <td>1.000000e-09</td>\n",
       "      <td>1.000000e-09</td>\n",
       "      <td>1.000000e-09</td>\n",
       "      <td>1.000000e-09</td>\n",
       "      <td>1.000000e-09</td>\n",
       "      <td>0</td>\n",
       "    </tr>\n",
       "  </tbody>\n",
       "</table>\n",
       "<p>5 rows × 102 columns</p>\n",
       "</div>"
      ],
      "text/plain": [
       "              0             1             2             3             4  \\\n",
       "0  1.536445e-09  3.079428e-09  2.603944e-09  2.551378e-09  2.558685e-09   \n",
       "1  1.000000e-09  1.000000e-09  1.000000e-09  1.000000e-09  1.000000e-09   \n",
       "2  5.248012e-09  5.624901e-09  6.257582e-09  5.772275e-09  6.182636e-09   \n",
       "3  1.000000e-09  1.996967e-09  1.357384e-09  1.118515e-09  1.433971e-09   \n",
       "4  1.000000e-09  1.000000e-09  1.000000e-09  1.000000e-09  1.000000e-09   \n",
       "\n",
       "              5             6             7             8             9  ...  \\\n",
       "0  1.432635e-09  1.874788e-09  2.721542e-09  4.285158e-09  3.629239e-09  ...   \n",
       "1  1.000000e-09  1.000000e-09  1.000000e-09  1.000000e-09  1.000000e-09  ...   \n",
       "2  6.658299e-09  6.329365e-09  4.159591e-09  4.723101e-09  4.167188e-09  ...   \n",
       "3  1.508355e-09  2.165851e-09  1.193197e-09  1.000000e-09  1.135763e-09  ...   \n",
       "4  1.000000e-09  1.000000e-09  1.000000e-09  1.603935e-09  1.000000e-09  ...   \n",
       "\n",
       "             92            93            94            95            96  \\\n",
       "0  2.856966e-09  4.389429e-09  3.694770e-09  4.274082e-09  3.263311e-09   \n",
       "1  1.526971e-09  1.000000e-09  1.000000e-09  1.649339e-09  1.540821e-09   \n",
       "2  5.897906e-09  5.774463e-09  5.901859e-09  7.200517e-09  6.219275e-09   \n",
       "3  1.270822e-09  1.173274e-09  1.000000e-09  1.000000e-09  1.000000e-09   \n",
       "4  1.000000e-09  1.000000e-09  1.000000e-09  1.000000e-09  1.000000e-09   \n",
       "\n",
       "             97            98            99           100  Label  \n",
       "0  4.095904e-09  4.768051e-09  2.979967e-09  3.660248e-09      0  \n",
       "1  1.000000e-09  1.000000e-09  1.541843e-09  1.000000e-09      0  \n",
       "2  6.868841e-09  6.631912e-09  5.008209e-09  6.311808e-09      0  \n",
       "3  1.000000e-09  1.000000e-09  1.000000e-09  1.000000e-09      0  \n",
       "4  1.000000e-09  1.000000e-09  1.000000e-09  1.000000e-09      0  \n",
       "\n",
       "[5 rows x 102 columns]"
      ]
     },
     "execution_count": 62,
     "metadata": {},
     "output_type": "execute_result"
    }
   ],
   "source": [
    "\n",
    "\"path = \"../data/sliding_wide_100.csv\"\n",
    "\n",
    "full_set = pd.read_csv(path)\n",
    "full_set.head()\n",
    "\""
   ]
  },
  {
   "cell_type": "code",
   "execution_count": 63,
   "id": "921dc544ea6e2a0d",
   "metadata": {
    "ExecuteTime": {
     "end_time": "2023-11-16T19:11:08.870425Z",
     "start_time": "2023-11-16T19:11:08.809204Z"
    },
    "collapsed": false
   },
   "outputs": [],
   "source": [
    "\"\"\"\n",
    "# Train, test, val splits\n",
    "X = full_set.iloc[:, :-1].values\n",
    "y = full_set.iloc[:, -1].values\n",
    "\n",
    "# Split the data into training, testing, and validation sets using stratified sampling\n",
    "X_train, X_temp, y_train, y_temp = train_test_split(X, y, test_size=0.3, stratify=y, random_state=42)\n",
    "X_val, X_test, y_val, y_test = train_test_split(X_temp, y_temp, test_size=0.5, stratify=y_temp, random_state=42)\n",
    "\"\"\""
   ]
  },
  {
   "cell_type": "code",
   "execution_count": 64,
   "id": "ab15ba1e5e87f7a3",
   "metadata": {
    "ExecuteTime": {
     "end_time": "2023-11-16T19:11:08.870611Z",
     "start_time": "2023-11-16T19:11:08.851213Z"
    },
    "collapsed": false
   },
   "outputs": [
    {
     "data": {
      "text/plain": [
       "(21204, 4544, 4544)"
      ]
     },
     "execution_count": 64,
     "metadata": {},
     "output_type": "execute_result"
    }
   ],
   "source": [
    "# X_train.shape[0], X_val.shape[0], X_test.shape[0]"
   ]
  },
  {
   "cell_type": "code",
   "execution_count": 65,
   "id": "febbb245601177f4",
   "metadata": {
    "ExecuteTime": {
     "end_time": "2023-11-16T19:11:08.870771Z",
     "start_time": "2023-11-16T19:11:08.853899Z"
    },
    "collapsed": false
   },
   "outputs": [
    {
     "data": {
      "text/plain": [
       "30292"
      ]
     },
     "execution_count": 65,
     "metadata": {},
     "output_type": "execute_result"
    }
   ],
   "source": [
    "# full_set.shape[0]"
   ]
  },
  {
   "cell_type": "code",
   "execution_count": 66,
   "id": "579034896caac16e",
   "metadata": {
    "ExecuteTime": {
     "end_time": "2023-11-16T19:11:08.870885Z",
     "start_time": "2023-11-16T19:11:08.857662Z"
    },
    "collapsed": false
   },
   "outputs": [
    {
     "data": {
      "text/plain": [
       "array([4.8552640e-08, 4.8575348e-08, 4.8590100e-08, 4.3660503e-08,\n",
       "       5.0097253e-08, 4.8511280e-08, 4.6309523e-08, 4.7605354e-08,\n",
       "       5.0638540e-08, 5.3045070e-08, 5.9455978e-08, 7.3097110e-08,\n",
       "       8.1431920e-08, 7.0905585e-08, 6.3971420e-08, 5.7160623e-08,\n",
       "       5.4177548e-08, 5.4571615e-08, 5.2110444e-08, 5.3595480e-08,\n",
       "       5.6887437e-08, 6.0838566e-08, 6.4248020e-08, 6.1719770e-08,\n",
       "       6.0132840e-08, 6.8387350e-08, 6.2766496e-08, 6.0154520e-08,\n",
       "       6.2832990e-08, 6.6171670e-08, 7.8895425e-08, 6.6619680e-08,\n",
       "       5.6559685e-08, 5.8655605e-08, 6.4435300e-08, 7.6989670e-08,\n",
       "       9.7830320e-08, 1.3071087e-07, 3.6200746e-07, 4.1406844e-07,\n",
       "       3.2519566e-07, 3.4693107e-07, 5.5512680e-07, 1.0192792e-06,\n",
       "       1.6051387e-06, 2.2272977e-06, 2.8538389e-06, 3.2089993e-06,\n",
       "       3.2397840e-06, 3.1457516e-06, 2.9955966e-06, 2.8246695e-06,\n",
       "       2.6427930e-06, 2.4894910e-06, 2.4570184e-06, 2.4967962e-06,\n",
       "       2.2407970e-06, 1.9444608e-06, 1.7713814e-06, 1.6520445e-06,\n",
       "       1.5262345e-06, 1.4130825e-06, 1.3124389e-06, 1.2217454e-06,\n",
       "       1.1444231e-06, 1.0673373e-06, 1.0091288e-06, 9.7822640e-07,\n",
       "       9.7107000e-07, 9.7944590e-07, 9.9004440e-07, 9.8988450e-07,\n",
       "       9.7386650e-07, 9.5084334e-07, 9.0714100e-07, 8.4119800e-07,\n",
       "       7.6591390e-07, 6.9570706e-07, 6.7121820e-07, 6.7609050e-07,\n",
       "       6.8108790e-07, 7.0389550e-07, 7.4172480e-07, 7.8113413e-07,\n",
       "       8.2754076e-07, 8.8476010e-07, 9.2565700e-07, 9.5445940e-07,\n",
       "       1.0527875e-06, 1.0836136e-06, 1.0755496e-06, 9.9853420e-07,\n",
       "       9.5024060e-07, 9.0362530e-07, 8.5938973e-07, 8.1512410e-07,\n",
       "       7.6476600e-07, 7.1871640e-07, 6.7074630e-07, 6.2588015e-07,\n",
       "       5.8123794e-07])"
      ]
     },
     "execution_count": 66,
     "metadata": {},
     "output_type": "execute_result"
    }
   ],
   "source": [
    "# X_train[0]"
   ]
  },
  {
   "cell_type": "code",
   "execution_count": 67,
   "id": "13981ea4b7aee196",
   "metadata": {
    "ExecuteTime": {
     "end_time": "2023-11-16T19:11:08.890023Z",
     "start_time": "2023-11-16T19:11:08.860879Z"
    },
    "collapsed": false
   },
   "outputs": [],
   "source": [
    "\"\"\"scaler = StandardScaler()\n",
    "X_train = scaler.fit_transform(X_train)\n",
    "X_val = scaler.transform(X_val)\n",
    "X_test = scaler.transform(X_test)\"\"\""
   ]
  },
  {
   "cell_type": "code",
   "execution_count": 68,
   "id": "ca9623cc206eb76e",
   "metadata": {
    "ExecuteTime": {
     "end_time": "2023-11-16T19:11:09.000131Z",
     "start_time": "2023-11-16T19:11:08.895254Z"
    },
    "collapsed": false
   },
   "outputs": [
    {
     "name": "stdout",
     "output_type": "stream",
     "text": [
      "Model: \"sequential_4\"\n",
      "_________________________________________________________________\n",
      " Layer (type)                Output Shape              Param #   \n",
      "=================================================================\n",
      " lstm_4 (LSTM)               (None, 50)                10400     \n",
      "                                                                 \n",
      " dense_4 (Dense)             (None, 1)                 51        \n",
      "                                                                 \n",
      "=================================================================\n",
      "Total params: 10451 (40.82 KB)\n",
      "Trainable params: 10451 (40.82 KB)\n",
      "Non-trainable params: 0 (0.00 Byte)\n",
      "_________________________________________________________________\n"
     ]
    }
   ],
   "source": [
    "from tensorflow.keras.models import Sequential\n",
    "from tensorflow.keras.layers import Conv1D, MaxPooling1D, Flatten, Dense, Dropout\n",
    "\n",
    "def create_CNN():\n",
    "    model = Sequential()\n",
    "    model.add(Bidirectional(LSTM(64, return_sequences=True), input_shape=(X_train.shape[1], 1)))\n",
    "    model.add(Conv1D(16, 2, activation='relu', input_shape=(X_train.shape[1], 1)))\n",
    "    model.add(MaxPooling1D(pool_size=7))\n",
    "    model.add(Dropout(0.1))\n",
    "    model.add(Conv1D(64, 3, activation='relu'))\n",
    "    model.add(MaxPooling1D(pool_size=2))\n",
    "    model.add(Dropout(0.5))\n",
    "    model.add(Flatten())\n",
    "    model.add(Dense(32, activation='relu'))\n",
    "    model.add(Dropout(0.1))\n",
    "    model.add(Dense(1, activation='sigmoid'))\n",
    "    model.compile(optimizer='adam', loss='binary_crossentropy', metrics=['accuracy'])\n",
    "    return model\n",
    "\n",
    "CNN_model = create_CNN()\n",
    "CNN_model.summary()\n",
    "\n",
    "\n",
    "\"\"\"# LSTM model creation (LSTM1)\n",
    "def create_LSTM1():\n",
    "  tf.random.set_seed(1)\n",
    "  model = Sequential()\n",
    "  model.add(LSTM(50, input_shape=(X_train.shape[1], 1)))\n",
    "  model.add(Dense(1, activation='sigmoid'))\n",
    "  model.compile(optimizer='adam', loss='binary_crossentropy',  metrics=['accuracy'])\n",
    "  return model\n",
    "\n",
    "LSTM1_model = create_LSTM1()\n",
    "LSTM1_model.summary()\"\"\""
   ]
  },
  {
   "cell_type": "code",
   "execution_count": 69,
   "id": "69ccc8cce3a99df7",
   "metadata": {
    "ExecuteTime": {
     "end_time": "2023-11-16T19:11:09.004228Z",
     "start_time": "2023-11-16T19:11:09.001201Z"
    },
    "collapsed": false
   },
   "outputs": [],
   "source": [
    "\"\"\"# Reshape input data for LSTM\n",
    "X_train = X_train.reshape((X_train.shape[0], X_train.shape[1], 1))\n",
    "X_val = X_val.reshape((X_val.shape[0], X_val.shape[1], 1))\n",
    "X_test = X_test.reshape((X_test.shape[0], X_test.shape[1], 1))\"\"\""
   ]
  },
  {
   "cell_type": "code",
   "execution_count": 70,
   "id": "27f14f8b1a1ef5e9",
   "metadata": {
    "ExecuteTime": {
     "end_time": "2023-11-16T19:11:09.007685Z",
     "start_time": "2023-11-16T19:11:09.004968Z"
    },
    "collapsed": false
   },
   "outputs": [
    {
     "data": {
      "text/plain": [
       "(21204, 101, 1)"
      ]
     },
     "execution_count": 70,
     "metadata": {},
     "output_type": "execute_result"
    }
   ],
   "source": [
    "\"\"\"# Shape of train data\n",
    "X_train.shape\"\"\""
   ]
  },
  {
   "cell_type": "code",
   "execution_count": 71,
   "id": "a6331fa38ff9bf10",
   "metadata": {
    "ExecuteTime": {
     "end_time": "2023-11-16T19:11:09.011229Z",
     "start_time": "2023-11-16T19:11:09.008655Z"
    },
    "collapsed": false
   },
   "outputs": [
    {
     "data": {
      "text/plain": [
       "array([[0.28814329],\n",
       "       [0.30553059],\n",
       "       [0.27910214],\n",
       "       [0.20282836],\n",
       "       [0.24607121],\n",
       "       [0.25812478],\n",
       "       [0.26806698],\n",
       "       [0.29515686],\n",
       "       [0.30106303],\n",
       "       [0.29215783],\n",
       "       [0.337336  ],\n",
       "       [0.45709088],\n",
       "       [0.54720554],\n",
       "       [0.33552897],\n",
       "       [0.2220832 ],\n",
       "       [0.25108263],\n",
       "       [0.27854984],\n",
       "       [0.32069711],\n",
       "       [0.33632978],\n",
       "       [0.37760247],\n",
       "       [0.42777743],\n",
       "       [0.47195404],\n",
       "       [0.49285417],\n",
       "       [0.44928532],\n",
       "       [0.42076153],\n",
       "       [0.48893375],\n",
       "       [0.4244112 ],\n",
       "       [0.3815877 ],\n",
       "       [0.37732191],\n",
       "       [0.3652645 ],\n",
       "       [0.38578764],\n",
       "       [0.26638083],\n",
       "       [0.19011725],\n",
       "       [0.19175979],\n",
       "       [0.20683936],\n",
       "       [0.23868609],\n",
       "       [0.28058486],\n",
       "       [0.34252638],\n",
       "       [0.94418845],\n",
       "       [0.97480997],\n",
       "       [0.68348438],\n",
       "       [0.67313783],\n",
       "       [1.04103647],\n",
       "       [1.82334427],\n",
       "       [2.68753898],\n",
       "       [3.49736908],\n",
       "       [4.21307835],\n",
       "       [4.33487715],\n",
       "       [3.80193352],\n",
       "       [3.05170022],\n",
       "       [2.66466188],\n",
       "       [2.94455383],\n",
       "       [3.28623807],\n",
       "       [3.61177298],\n",
       "       [4.03057451],\n",
       "       [4.539051  ],\n",
       "       [4.4266551 ],\n",
       "       [4.10278829],\n",
       "       [3.92814159],\n",
       "       [3.74030354],\n",
       "       [3.61354943],\n",
       "       [3.3779957 ],\n",
       "       [3.20517615],\n",
       "       [3.12403216],\n",
       "       [3.06715078],\n",
       "       [2.96695118],\n",
       "       [2.83742449],\n",
       "       [2.77937625],\n",
       "       [2.83528247],\n",
       "       [2.96723577],\n",
       "       [3.11522587],\n",
       "       [3.20174545],\n",
       "       [3.11138451],\n",
       "       [3.0047714 ],\n",
       "       [2.96515817],\n",
       "       [2.88119708],\n",
       "       [2.7088584 ],\n",
       "       [2.28071567],\n",
       "       [1.8379809 ],\n",
       "       [1.84797607],\n",
       "       [2.02711476],\n",
       "       [2.23282957],\n",
       "       [2.41803508],\n",
       "       [2.65639175],\n",
       "       [2.801425  ],\n",
       "       [3.18353167],\n",
       "       [3.55433514],\n",
       "       [3.81793823],\n",
       "       [4.17280066],\n",
       "       [4.00175224],\n",
       "       [3.6157019 ],\n",
       "       [3.20070724],\n",
       "       [3.02931636],\n",
       "       [2.89925094],\n",
       "       [2.73630692],\n",
       "       [2.60881219],\n",
       "       [2.45529525],\n",
       "       [2.2512034 ],\n",
       "       [1.99037006],\n",
       "       [1.74391409],\n",
       "       [1.56909835]])"
      ]
     },
     "execution_count": 71,
     "metadata": {},
     "output_type": "execute_result"
    }
   ],
   "source": [
    "\"\"\"# Train examples\n",
    "X_train[0]\"\"\""
   ]
  },
  {
   "cell_type": "code",
   "execution_count": 72,
   "id": "7b4525a92b9c7b6",
   "metadata": {
    "ExecuteTime": {
     "end_time": "2023-11-16T19:11:33.241652Z",
     "start_time": "2023-11-16T19:11:09.011856Z"
    },
    "collapsed": false
   },
   "outputs": [
    {
     "name": "stdout",
     "output_type": "stream",
     "text": [
      "Epoch 1/3\n",
      "663/663 [==============================] - 9s 12ms/step - loss: 0.3710 - accuracy: 0.8646 - val_loss: 0.4905 - val_accuracy: 0.7520\n",
      "Epoch 2/3\n",
      "663/663 [==============================] - 8s 12ms/step - loss: 0.4569 - accuracy: 0.7965 - val_loss: 0.3075 - val_accuracy: 0.9001\n",
      "Epoch 3/3\n",
      "663/663 [==============================] - 8s 12ms/step - loss: 0.3825 - accuracy: 0.8659 - val_loss: 0.3446 - val_accuracy: 0.8849\n"
     ]
    },
    {
     "data": {
      "text/plain": [
       "<keras.src.callbacks.History at 0x2d8952730>"
      ]
     },
     "execution_count": 72,
     "metadata": {},
     "output_type": "execute_result"
    }
   ],
   "source": [
    "\"\"\"# Train the model\n",
    "LSTM1_model.fit(X_train, y_train, epochs=3, batch_size=32, validation_data=(X_val, y_val))\"\"\"\n",
    "\n",
    "\n",
    "early_stopping =  tf.keras.callbacks.EarlyStopping(monitor='val_loss', patience=5, mode='min')\n",
    "\n",
    "CNN_model.fit(X_train, y_train, epochs=15, validation_data=(X_val, y_val), callbacks=early_stopping)\n"
   ]
  },
  {
   "cell_type": "code",
   "execution_count": 73,
   "id": "cb3635ffe2107df9",
   "metadata": {
    "ExecuteTime": {
     "end_time": "2023-11-16T19:11:33.829907Z",
     "start_time": "2023-11-16T19:11:33.240376Z"
    },
    "collapsed": false
   },
   "outputs": [
    {
     "name": "stdout",
     "output_type": "stream",
     "text": [
      "142/142 [==============================] - 1s 3ms/step\n",
      "              precision    recall  f1-score   support\n",
      "\n",
      "           0       0.87      1.00      0.93      3408\n",
      "           1       1.00      0.54      0.70      1136\n",
      "\n",
      "    accuracy                           0.88      4544\n",
      "   macro avg       0.93      0.77      0.81      4544\n",
      "weighted avg       0.90      0.88      0.87      4544\n"
     ]
    }
   ],
   "source": [
    "\"\"\"# Evaluate the model on the test set\n",
    "y_pred = LSTM1_model.predict(X_test)\n",
    "y_pred = (y_pred > 0.5).astype(int)\n",
    "print(classification_report(y_test, y_pred))\"\"\""
   ]
  },
  {
   "cell_type": "code",
   "execution_count": null,
   "id": "3a8aefd1",
   "metadata": {},
   "outputs": [],
   "source": [
    "from sklearn.metrics import roc_curve, auc\n",
    "fpr, tpr, thresholds = roc_curve(y_test, y_pred)\n",
    "roc_auc = auc(fpr, tpr)\n",
    "\n",
    "plt.figure(figsize=(10,10))\n",
    "plt.title('ROC Curve')\n",
    "plt.plot(fpr, tpr, label = 'AUC = %0.2f' % roc_auc)\n",
    "plt.legend(loc = 'lower right')\n",
    "plt.plot([0,1], [0,1], 'r--')\n",
    "plt.xlim([0,1])\n",
    "plt.ylim([0,1])\n",
    "plt.ylabel('True Positive Rate')\n",
    "plt.xlabel('False Positive Rate')\n",
    "plt.show()"
   ]
  },
  {
   "cell_type": "code",
   "execution_count": 74,
   "id": "fbf730e2bb0e796c",
   "metadata": {
    "ExecuteTime": {
     "end_time": "2023-11-16T19:11:33.903871Z",
     "start_time": "2023-11-16T19:11:33.829319Z"
    },
    "collapsed": false
   },
   "outputs": [
    {
     "data": {
      "image/png": "[encoded data removed]",
      "text/plain": [
       "<Figure size 640x480 with 2 Axes>"
      ]
     },
     "metadata": {},
     "output_type": "display_data"
    }
   ],
   "source": [
    "\"\"\"# Classification Matrix\n",
    "cm = confusion_matrix(y_test, y_pred)\n",
    "disp = ConfusionMatrixDisplay(confusion_matrix=cm, display_labels=['Non-Peak', 'Peak'])\n",
    "disp.plot(cmap='Blues', values_format='d')\n",
    "plt.title('Confusion Matrix')\n",
    "plt.show()\"\"\""
   ]
  },
  {
   "cell_type": "code",
   "execution_count": 75,
   "id": "c9fb81b97c549bf6",
   "metadata": {
    "ExecuteTime": {
     "end_time": "2023-11-16T19:11:33.907154Z",
     "start_time": "2023-11-16T19:11:33.902832Z"
    },
    "collapsed": false
   },
   "outputs": [
    {
     "data": {
      "text/plain": [
       "(4544,)"
      ]
     },
     "execution_count": 75,
     "metadata": {},
     "output_type": "execute_result"
    }
   ],
   "source": [
    "\"\"\"y_test.shape\"\"\""
   ]
  },
  {
   "cell_type": "code",
   "execution_count": 75,
   "id": "c95b462be7a02141",
   "metadata": {
    "ExecuteTime": {
     "end_time": "2023-11-16T19:11:33.907223Z",
     "start_time": "2023-11-16T19:11:33.905336Z"
    },
    "collapsed": false
   },
   "outputs": [],
   "source": [
    "#Use independently trained model 10 times as an ensemble\n",
    "from sklearn.metrics import accuracy_score\n",
    "\n",
    "def train_and_evaluate_model(model_func, X_train, y_train, X_val, y_val, X_test, y_test, epochs=3):\n",
    "    # Create and compile the model\n",
    "    model = model_func()\n",
    "    # Train the model\n",
    "    model.fit(X_train, y_train, epochs=epochs, validation_data=(X_val, y_val))\n",
    "    # Predict on test data\n",
    "    y_pred = model.predict(X_test)\n",
    "    return y_pred\n",
    "\n",
    "# Number of models in the ensemble\n",
    "num_models = 10\n",
    "\n",
    "# Store predictions from each model\n",
    "ensemble_predictions = []\n",
    "\n",
    "for i in range(num_models):\n",
    "    print(f\"Training model {i+1}/{num_models}\")\n",
    "    y_pred = train_and_evaluate_model(create_CNN, X_train, y_train, X_val, y_val, X_test, y_test, epochs=15)\n",
    "    ensemble_predictions.append(y_pred)\n",
    "\n",
    "# Average the predictions\n",
    "average_predictions = np.mean(ensemble_predictions, axis=0)\n",
    "\n",
    "# Convert averaged predictions to binary output\n",
    "average_predictions_binary = (average_predictions >= 0.5).astype(int)\n",
    "\n",
    "# Evaluate the ensemble model\n",
    "ensemble_accuracy = accuracy_score(y_test, average_predictions_binary)\n",
    "print(f\"Ensemble Model Accuracy: {ensemble_accuracy}\")\n"
   ]
  }
 ],
 "metadata": {
  "kernelspec": {
   "display_name": "Python 3",
   "language": "python",
   "name": "python3"
  },
  "language_info": {
   "codemirror_mode": {
    "name": "ipython",
    "version": 3
   },
   "file_extension": ".py",
   "mimetype": "text/x-python",
   "name": "python",
   "nbconvert_exporter": "python",
   "pygments_lexer": "ipython3",
   "version": "3.9.16"
  }
 },
 "nbformat": 4,
 "nbformat_minor": 5
}
