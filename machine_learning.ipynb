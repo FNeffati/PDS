{
 "cells": [
  {
   "cell_type": "markdown",
   "id": "c03bc3c6feffb2a8",
   "metadata": {
    "collapsed": false
   },
   "source": [
    "# Flare Peak Detection Machine Learning Model\n",
    "This file will contain our data preprocessing, machine learning model set up, and model testing to detect flare peaks. \n",
    " "
   ]
  },
  {
   "cell_type": "code",
   "execution_count": 23,
   "outputs": [],
   "source": [
    "import pandas as pd\n",
    "import numpy as np\n",
    "import matplotlib.pyplot as plt\n",
    "import tensorflow as tf\n",
    "from sklearn.model_selection import train_test_split\n",
    "from sklearn.preprocessing import StandardScaler\n",
    "from sklearn.utils import class_weight\n",
    "from sklearn.metrics import classification_report, confusion_matrix, ConfusionMatrixDisplay\n",
    "from tensorflow.keras.models import Sequential\n",
    "from tensorflow.keras.layers import Conv1D, MaxPooling1D, Flatten, Dense, Dropout, LSTM, Bidirectional\n",
    "from tensorflow.keras.callbacks import EarlyStopping"
   ],
   "metadata": {
    "collapsed": false,
    "ExecuteTime": {
     "end_time": "2023-11-28T18:59:10.393822Z",
     "start_time": "2023-11-28T18:59:10.383813Z"
    }
   },
   "id": "65826f79eb3fc510"
  },
  {
   "cell_type": "markdown",
   "id": "b16cbb979f668346",
   "metadata": {
    "collapsed": false
   },
   "source": [
    "# Most Up To Date: \n",
    "Under this section you'll find the most up to date model."
   ]
  },
  {
   "cell_type": "code",
   "execution_count": 24,
   "id": "5641a0f1acdcf17f",
   "metadata": {
    "collapsed": false,
    "ExecuteTime": {
     "end_time": "2023-11-28T18:59:12.497152Z",
     "start_time": "2023-11-28T18:59:12.278444Z"
    }
   },
   "outputs": [
    {
     "name": "stdout",
     "output_type": "stream",
     "text": [
      "Model: \"sequential_1\"\n",
      "_________________________________________________________________\n",
      " Layer (type)                Output Shape              Param #   \n",
      "=================================================================\n",
      " bidirectional (Bidirection  (None, 101, 128)          33792     \n",
      " al)                                                             \n",
      "                                                                 \n",
      " conv1d (Conv1D)             (None, 100, 16)           4112      \n",
      "                                                                 \n",
      " max_pooling1d (MaxPooling1  (None, 14, 16)            0         \n",
      " D)                                                              \n",
      "                                                                 \n",
      " dropout (Dropout)           (None, 14, 16)            0         \n",
      "                                                                 \n",
      " conv1d_1 (Conv1D)           (None, 12, 64)            3136      \n",
      "                                                                 \n",
      " max_pooling1d_1 (MaxPoolin  (None, 6, 64)             0         \n",
      " g1D)                                                            \n",
      "                                                                 \n",
      " dropout_1 (Dropout)         (None, 6, 64)             0         \n",
      "                                                                 \n",
      " flatten (Flatten)           (None, 384)               0         \n",
      "                                                                 \n",
      " dense (Dense)               (None, 32)                12320     \n",
      "                                                                 \n",
      " dropout_2 (Dropout)         (None, 32)                0         \n",
      "                                                                 \n",
      " dense_1 (Dense)             (None, 1)                 33        \n",
      "                                                                 \n",
      "=================================================================\n",
      "Total params: 53393 (208.57 KB)\n",
      "Trainable params: 53393 (208.57 KB)\n",
      "Non-trainable params: 0 (0.00 Byte)\n",
      "_________________________________________________________________\n"
     ]
    }
   ],
   "source": [
    "def create_CNN():\n",
    "    model = Sequential()\n",
    "    model.add(Bidirectional(LSTM(64, return_sequences=True), input_shape=(X_train.shape[1], 1)))\n",
    "    model.add(Conv1D(16, 2, activation='relu', input_shape=(X_train.shape[1], 1)))\n",
    "    model.add(MaxPooling1D(pool_size=7))\n",
    "    model.add(Dropout(0.1))\n",
    "    model.add(Conv1D(64, 3, activation='relu'))\n",
    "    model.add(MaxPooling1D(pool_size=2))\n",
    "    model.add(Dropout(0.5))\n",
    "    model.add(Flatten())\n",
    "    model.add(Dense(32, activation='relu'))\n",
    "    model.add(Dropout(0.1))\n",
    "    model.add(Dense(1, activation='sigmoid'))\n",
    "    model.compile(optimizer='adam', loss='binary_crossentropy', metrics=['accuracy'])\n",
    "    return model\n",
    "\n",
    "CNN_model = create_CNN()\n",
    "CNN_model.summary()"
   ]
  },
  {
   "cell_type": "markdown",
   "source": [
    "Previous Model: "
   ],
   "metadata": {
    "collapsed": false
   },
   "id": "21d40c0074f4dcd2"
  },
  {
   "cell_type": "code",
   "execution_count": null,
   "outputs": [],
   "source": [
    "\"\"\"# LSTM model creation (LSTM1)\n",
    "def create_LSTM1():\n",
    "  tf.random.set_seed(1)\n",
    "  model = Sequential()\n",
    "  model.add(LSTM(50, input_shape=(X_train.shape[1], 1)))\n",
    "  model.add(Dense(1, activation='sigmoid'))\n",
    "  model.compile(optimizer='adam', loss='binary_crossentropy',  metrics=['accuracy'])\n",
    "  return model\n",
    "\n",
    "LSTM1_model = create_LSTM1()\n",
    "LSTM1_model.summary()\"\"\""
   ],
   "metadata": {
    "collapsed": false
   },
   "id": "4e93e603c3759ce3"
  },
  {
   "cell_type": "markdown",
   "id": "d3fcff28fdeb5ca2",
   "metadata": {
    "collapsed": false
   },
   "source": [
    "### Data: Random Shuffle \n",
    "In this approach, "
   ]
  },
  {
   "cell_type": "code",
   "execution_count": 10,
   "id": "20cc46f0114bff48",
   "metadata": {
    "collapsed": false,
    "ExecuteTime": {
     "end_time": "2023-11-28T18:56:11.783299Z",
     "start_time": "2023-11-28T18:56:11.538435Z"
    }
   },
   "outputs": [
    {
     "data": {
      "text/plain": "                                0             1             2             3  \\\ntime                                                                          \n2018-01-04 16:14:00  5.149268e-09  2.713372e-09  2.062562e-09  1.878039e-09   \n2018-01-03 20:35:00  2.279154e-09  3.845985e-09  1.000000e-09  1.000000e-09   \n2018-01-05 17:41:00  1.349381e-09  1.000000e-09  1.000000e-09  1.477174e-09   \n2018-01-08 09:52:00  6.612365e-09  7.214910e-09  5.770664e-09  8.107215e-09   \n2018-01-06 05:53:00  4.175134e-09  4.754023e-09  5.727439e-09  4.476072e-09   \n\n                                4             5             6             7  \\\ntime                                                                          \n2018-01-04 16:14:00  2.853294e-09  2.884146e-09  2.581892e-09  2.362232e-09   \n2018-01-03 20:35:00  2.312011e-09  1.000000e-09  2.576641e-09  1.412642e-09   \n2018-01-05 17:41:00  2.204487e-09  2.554508e-09  2.468002e-09  2.292788e-09   \n2018-01-08 09:52:00  8.031316e-09  8.750630e-09  9.141085e-09  8.776988e-09   \n2018-01-06 05:53:00  4.637268e-09  6.822878e-09  5.989311e-09  5.618509e-09   \n\n                                8             9  ...            92  \\\ntime                                             ...                 \n2018-01-04 16:14:00  2.832257e-09  4.041982e-09  ...  3.647174e-09   \n2018-01-03 20:35:00  1.713135e-09  2.936919e-09  ...  3.263373e-09   \n2018-01-05 17:41:00  2.380516e-09  2.542112e-09  ...  3.249232e-09   \n2018-01-08 09:52:00  8.462333e-09  8.070968e-09  ...  7.876035e-09   \n2018-01-06 05:53:00  5.417833e-09  6.231001e-09  ...  4.621428e-09   \n\n                               93            94            95            96  \\\ntime                                                                          \n2018-01-04 16:14:00  3.914213e-09  1.562427e-09  2.639643e-09  2.576929e-09   \n2018-01-03 20:35:00  3.647482e-09  2.107806e-09  2.802839e-09  3.163351e-09   \n2018-01-05 17:41:00  3.088156e-09  3.383143e-09  1.904150e-09  2.159639e-09   \n2018-01-08 09:52:00  6.990665e-09  6.763403e-09  4.998703e-09  5.717303e-09   \n2018-01-06 05:53:00  3.537122e-09  5.014333e-09  3.789191e-09  4.092928e-09   \n\n                               97            98            99           100  \\\ntime                                                                          \n2018-01-04 16:14:00  2.822219e-09  4.070104e-09  3.628872e-09  3.802066e-09   \n2018-01-03 20:35:00  2.691775e-09  2.131290e-09  2.425455e-09  2.683538e-09   \n2018-01-05 17:41:00  3.376447e-09  4.184607e-09  1.928010e-09  1.231803e-09   \n2018-01-08 09:52:00  6.872478e-09  7.336201e-09  9.348832e-09  7.306886e-09   \n2018-01-06 05:53:00  4.349753e-09  4.516324e-09  4.509616e-09  3.991231e-09   \n\n                     Label  \ntime                        \n2018-01-04 16:14:00      0  \n2018-01-03 20:35:00      0  \n2018-01-05 17:41:00      0  \n2018-01-08 09:52:00      0  \n2018-01-06 05:53:00      0  \n\n[5 rows x 102 columns]",
      "text/html": "<div>\n<style scoped>\n    .dataframe tbody tr th:only-of-type {\n        vertical-align: middle;\n    }\n\n    .dataframe tbody tr th {\n        vertical-align: top;\n    }\n\n    .dataframe thead th {\n        text-align: right;\n    }\n</style>\n<table border=\"1\" class=\"dataframe\">\n  <thead>\n    <tr style=\"text-align: right;\">\n      <th></th>\n      <th>0</th>\n      <th>1</th>\n      <th>2</th>\n      <th>3</th>\n      <th>4</th>\n      <th>5</th>\n      <th>6</th>\n      <th>7</th>\n      <th>8</th>\n      <th>9</th>\n      <th>...</th>\n      <th>92</th>\n      <th>93</th>\n      <th>94</th>\n      <th>95</th>\n      <th>96</th>\n      <th>97</th>\n      <th>98</th>\n      <th>99</th>\n      <th>100</th>\n      <th>Label</th>\n    </tr>\n    <tr>\n      <th>time</th>\n      <th></th>\n      <th></th>\n      <th></th>\n      <th></th>\n      <th></th>\n      <th></th>\n      <th></th>\n      <th></th>\n      <th></th>\n      <th></th>\n      <th></th>\n      <th></th>\n      <th></th>\n      <th></th>\n      <th></th>\n      <th></th>\n      <th></th>\n      <th></th>\n      <th></th>\n      <th></th>\n      <th></th>\n    </tr>\n  </thead>\n  <tbody>\n    <tr>\n      <th>2018-01-04 16:14:00</th>\n      <td>5.149268e-09</td>\n      <td>2.713372e-09</td>\n      <td>2.062562e-09</td>\n      <td>1.878039e-09</td>\n      <td>2.853294e-09</td>\n      <td>2.884146e-09</td>\n      <td>2.581892e-09</td>\n      <td>2.362232e-09</td>\n      <td>2.832257e-09</td>\n      <td>4.041982e-09</td>\n      <td>...</td>\n      <td>3.647174e-09</td>\n      <td>3.914213e-09</td>\n      <td>1.562427e-09</td>\n      <td>2.639643e-09</td>\n      <td>2.576929e-09</td>\n      <td>2.822219e-09</td>\n      <td>4.070104e-09</td>\n      <td>3.628872e-09</td>\n      <td>3.802066e-09</td>\n      <td>0</td>\n    </tr>\n    <tr>\n      <th>2018-01-03 20:35:00</th>\n      <td>2.279154e-09</td>\n      <td>3.845985e-09</td>\n      <td>1.000000e-09</td>\n      <td>1.000000e-09</td>\n      <td>2.312011e-09</td>\n      <td>1.000000e-09</td>\n      <td>2.576641e-09</td>\n      <td>1.412642e-09</td>\n      <td>1.713135e-09</td>\n      <td>2.936919e-09</td>\n      <td>...</td>\n      <td>3.263373e-09</td>\n      <td>3.647482e-09</td>\n      <td>2.107806e-09</td>\n      <td>2.802839e-09</td>\n      <td>3.163351e-09</td>\n      <td>2.691775e-09</td>\n      <td>2.131290e-09</td>\n      <td>2.425455e-09</td>\n      <td>2.683538e-09</td>\n      <td>0</td>\n    </tr>\n    <tr>\n      <th>2018-01-05 17:41:00</th>\n      <td>1.349381e-09</td>\n      <td>1.000000e-09</td>\n      <td>1.000000e-09</td>\n      <td>1.477174e-09</td>\n      <td>2.204487e-09</td>\n      <td>2.554508e-09</td>\n      <td>2.468002e-09</td>\n      <td>2.292788e-09</td>\n      <td>2.380516e-09</td>\n      <td>2.542112e-09</td>\n      <td>...</td>\n      <td>3.249232e-09</td>\n      <td>3.088156e-09</td>\n      <td>3.383143e-09</td>\n      <td>1.904150e-09</td>\n      <td>2.159639e-09</td>\n      <td>3.376447e-09</td>\n      <td>4.184607e-09</td>\n      <td>1.928010e-09</td>\n      <td>1.231803e-09</td>\n      <td>0</td>\n    </tr>\n    <tr>\n      <th>2018-01-08 09:52:00</th>\n      <td>6.612365e-09</td>\n      <td>7.214910e-09</td>\n      <td>5.770664e-09</td>\n      <td>8.107215e-09</td>\n      <td>8.031316e-09</td>\n      <td>8.750630e-09</td>\n      <td>9.141085e-09</td>\n      <td>8.776988e-09</td>\n      <td>8.462333e-09</td>\n      <td>8.070968e-09</td>\n      <td>...</td>\n      <td>7.876035e-09</td>\n      <td>6.990665e-09</td>\n      <td>6.763403e-09</td>\n      <td>4.998703e-09</td>\n      <td>5.717303e-09</td>\n      <td>6.872478e-09</td>\n      <td>7.336201e-09</td>\n      <td>9.348832e-09</td>\n      <td>7.306886e-09</td>\n      <td>0</td>\n    </tr>\n    <tr>\n      <th>2018-01-06 05:53:00</th>\n      <td>4.175134e-09</td>\n      <td>4.754023e-09</td>\n      <td>5.727439e-09</td>\n      <td>4.476072e-09</td>\n      <td>4.637268e-09</td>\n      <td>6.822878e-09</td>\n      <td>5.989311e-09</td>\n      <td>5.618509e-09</td>\n      <td>5.417833e-09</td>\n      <td>6.231001e-09</td>\n      <td>...</td>\n      <td>4.621428e-09</td>\n      <td>3.537122e-09</td>\n      <td>5.014333e-09</td>\n      <td>3.789191e-09</td>\n      <td>4.092928e-09</td>\n      <td>4.349753e-09</td>\n      <td>4.516324e-09</td>\n      <td>4.509616e-09</td>\n      <td>3.991231e-09</td>\n      <td>0</td>\n    </tr>\n  </tbody>\n</table>\n<p>5 rows × 102 columns</p>\n</div>"
     },
     "execution_count": 10,
     "metadata": {},
     "output_type": "execute_result"
    }
   ],
   "source": [
    "# path = \"../data/sliding_wide_100.csv\"\n",
    "path = \"../data/wide_100_timein.csv\"\n",
    "\n",
    "full_set = pd.read_csv(path, index_col='time')\n",
    "full_set.head()"
   ]
  },
  {
   "cell_type": "code",
   "execution_count": 11,
   "id": "921dc544ea6e2a0d",
   "metadata": {
    "collapsed": false,
    "ExecuteTime": {
     "end_time": "2023-11-28T18:56:14.796768Z",
     "start_time": "2023-11-28T18:56:14.730133Z"
    }
   },
   "outputs": [],
   "source": [
    "# Train, test, val splits\n",
    "X = full_set.iloc[:, :-1].values\n",
    "y = full_set.iloc[:, -1].values\n",
    "\n",
    "# Split the data into training, testing, and validation sets using stratified sampling\n",
    "X_train, X_temp, y_train, y_temp = train_test_split(X, y, test_size=0.3, stratify=y, random_state=42)\n",
    "X_val, X_test, y_val, y_test = train_test_split(X_temp, y_temp, test_size=0.5, stratify=y_temp, random_state=42)\n"
   ]
  },
  {
   "cell_type": "code",
   "execution_count": 12,
   "id": "ab15ba1e5e87f7a3",
   "metadata": {
    "collapsed": false,
    "ExecuteTime": {
     "end_time": "2023-11-28T18:56:16.016747Z",
     "start_time": "2023-11-28T18:56:16.009347Z"
    }
   },
   "outputs": [
    {
     "data": {
      "text/plain": "(21204, 4544, 4544)"
     },
     "execution_count": 12,
     "metadata": {},
     "output_type": "execute_result"
    }
   ],
   "source": [
    "X_train.shape[0], X_val.shape[0], X_test.shape[0]"
   ]
  },
  {
   "cell_type": "code",
   "execution_count": 13,
   "id": "febbb245601177f4",
   "metadata": {
    "collapsed": false,
    "ExecuteTime": {
     "end_time": "2023-11-28T18:56:16.784240Z",
     "start_time": "2023-11-28T18:56:16.777132Z"
    }
   },
   "outputs": [
    {
     "data": {
      "text/plain": "30292"
     },
     "execution_count": 13,
     "metadata": {},
     "output_type": "execute_result"
    }
   ],
   "source": [
    "full_set.shape[0]"
   ]
  },
  {
   "cell_type": "code",
   "execution_count": 14,
   "id": "579034896caac16e",
   "metadata": {
    "collapsed": false,
    "ExecuteTime": {
     "end_time": "2023-11-28T18:56:17.492010Z",
     "start_time": "2023-11-28T18:56:17.482803Z"
    }
   },
   "outputs": [
    {
     "data": {
      "text/plain": "array([3.0821290e-08, 2.7466568e-08, 2.2513944e-08, 2.1720021e-08,\n       2.1880476e-08, 2.1000863e-08, 2.0087432e-08, 2.0463606e-08,\n       2.0874461e-08, 1.9617639e-08, 1.9004736e-08, 2.0416268e-08,\n       1.9758035e-08, 2.0936744e-08, 2.1535680e-08, 2.1068628e-08,\n       2.1375946e-08, 2.1837424e-08, 2.3625942e-08, 2.1955014e-08,\n       2.1700618e-08, 2.3569383e-08, 2.3156916e-08, 2.3248266e-08,\n       2.3891127e-08, 2.3838846e-08, 2.3888170e-08, 2.2514720e-08,\n       2.3571703e-08, 2.4604626e-08, 2.3699656e-08, 2.4952149e-08,\n       2.7414200e-08, 3.0615418e-08, 5.8248997e-08, 7.4267504e-08,\n       6.5413026e-08, 6.7016680e-08, 6.5570056e-08, 6.4135060e-08,\n       5.9044613e-08, 5.5323085e-08, 5.2018102e-08, 4.9550990e-08,\n       4.6609134e-08, 4.7737810e-08, 5.0878576e-08, 5.7353990e-08,\n       6.9897600e-08, 7.6680050e-08, 7.5250526e-08, 7.3682100e-08,\n       6.9717565e-08, 6.9171100e-08, 6.9206920e-08, 7.0155510e-08,\n       7.0976455e-08, 7.0613320e-08, 6.9579734e-08, 6.9376950e-08,\n       6.8042280e-08, 6.6957140e-08, 6.6904770e-08, 6.3362570e-08,\n       5.7655356e-08, 5.4417180e-08, 5.0068870e-08, 4.6803624e-08,\n       4.4691994e-08, 4.2769187e-08, 4.0257518e-08, 3.8428865e-08,\n       3.7088320e-08, 3.7020445e-08, 3.7040778e-08, 4.0537994e-08,\n       3.9649183e-08, 3.5658605e-08, 3.4345533e-08, 3.3019470e-08,\n       3.1450806e-08, 3.1808028e-08, 3.1612940e-08, 3.1364795e-08,\n       3.0024960e-08, 2.9671103e-08, 2.9398770e-08, 2.8497652e-08,\n       2.7917666e-08, 2.8805266e-08, 3.0759473e-08, 3.4809870e-08,\n       3.8998290e-08, 5.2908177e-08, 7.1550616e-08, 9.5390010e-08,\n       1.1162258e-07, 1.1904485e-07, 1.2735228e-07, 1.3304937e-07,\n       1.3962660e-07])"
     },
     "execution_count": 14,
     "metadata": {},
     "output_type": "execute_result"
    }
   ],
   "source": [
    "X_train[0]"
   ]
  },
  {
   "cell_type": "code",
   "execution_count": 16,
   "id": "13981ea4b7aee196",
   "metadata": {
    "collapsed": false,
    "ExecuteTime": {
     "end_time": "2023-11-28T18:57:02.400810Z",
     "start_time": "2023-11-28T18:57:02.376219Z"
    }
   },
   "outputs": [],
   "source": [
    "scaler = StandardScaler()\n",
    "X_train = scaler.fit_transform(X_train)\n",
    "X_val = scaler.transform(X_val)\n",
    "X_test = scaler.transform(X_test)"
   ]
  },
  {
   "cell_type": "code",
   "execution_count": 17,
   "id": "69ccc8cce3a99df7",
   "metadata": {
    "collapsed": false,
    "ExecuteTime": {
     "end_time": "2023-11-28T18:57:09.552339Z",
     "start_time": "2023-11-28T18:57:09.545877Z"
    }
   },
   "outputs": [],
   "source": [
    "# Reshape input data for LSTM\n",
    "X_train = X_train.reshape((X_train.shape[0], X_train.shape[1], 1))\n",
    "X_val = X_val.reshape((X_val.shape[0], X_val.shape[1], 1))\n",
    "X_test = X_test.reshape((X_test.shape[0], X_test.shape[1], 1))"
   ]
  },
  {
   "cell_type": "code",
   "execution_count": 18,
   "id": "27f14f8b1a1ef5e9",
   "metadata": {
    "collapsed": false,
    "ExecuteTime": {
     "end_time": "2023-11-28T18:57:16.377579Z",
     "start_time": "2023-11-28T18:57:16.362939Z"
    }
   },
   "outputs": [
    {
     "data": {
      "text/plain": "(21204, 101, 1)"
     },
     "execution_count": 18,
     "metadata": {},
     "output_type": "execute_result"
    }
   ],
   "source": [
    "# Shape of train data\n",
    "X_train.shape"
   ]
  },
  {
   "cell_type": "code",
   "execution_count": 19,
   "id": "a6331fa38ff9bf10",
   "metadata": {
    "collapsed": false,
    "ExecuteTime": {
     "end_time": "2023-11-28T18:57:21.643588Z",
     "start_time": "2023-11-28T18:57:21.633275Z"
    }
   },
   "outputs": [
    {
     "data": {
      "text/plain": "array([[ 0.14089445],\n       [ 0.11879512],\n       [ 0.07428644],\n       [ 0.06683293],\n       [ 0.0701008 ],\n       [ 0.06276001],\n       [ 0.05214425],\n       [ 0.05317758],\n       [ 0.04920277],\n       [ 0.03171374],\n       [ 0.02403999],\n       [ 0.03696966],\n       [ 0.0337274 ],\n       [ 0.02657589],\n       [ 0.01963177],\n       [ 0.02636442],\n       [ 0.03762681],\n       [ 0.04679764],\n       [ 0.06988481],\n       [ 0.06094186],\n       [ 0.05934936],\n       [ 0.07296847],\n       [ 0.06345097],\n       [ 0.06381157],\n       [ 0.06918302],\n       [ 0.06620207],\n       [ 0.06211117],\n       [ 0.04493157],\n       [ 0.04793035],\n       [ 0.04979487],\n       [ 0.03688211],\n       [ 0.04104612],\n       [ 0.0500075 ],\n       [ 0.05958343],\n       [ 0.18861941],\n       [ 0.23662216],\n       [ 0.17149488],\n       [ 0.15643024],\n       [ 0.1339502 ],\n       [ 0.11561292],\n       [ 0.08786668],\n       [ 0.06542683],\n       [ 0.04434226],\n       [ 0.02405355],\n       [ 0.00370091],\n       [-0.00813947],\n       [-0.0189548 ],\n       [-0.02702029],\n       [-0.0278322 ],\n       [-0.03475081],\n       [-0.03788169],\n       [-0.02843859],\n       [-0.02009772],\n       [-0.00857081],\n       [ 0.00403761],\n       [ 0.01828258],\n       [ 0.03259353],\n       [ 0.04402191],\n       [ 0.05228294],\n       [ 0.05997281],\n       [ 0.06756263],\n       [ 0.07233568],\n       [ 0.08009326],\n       [ 0.07411433],\n       [ 0.06037443],\n       [ 0.0535961 ],\n       [ 0.04148448],\n       [ 0.03475034],\n       [ 0.03197896],\n       [ 0.02866931],\n       [ 0.02283508],\n       [ 0.0183838 ],\n       [ 0.01426467],\n       [ 0.01492031],\n       [ 0.01631756],\n       [ 0.02933604],\n       [ 0.03207905],\n       [ 0.02203684],\n       [ 0.01909331],\n       [ 0.01536112],\n       [ 0.01135383],\n       [ 0.01412086],\n       [ 0.01330284],\n       [ 0.0112315 ],\n       [ 0.00378504],\n       [ 0.00350209],\n       [ 0.00427129],\n       [ 0.00208109],\n       [ 0.00058223],\n       [ 0.0035367 ],\n       [ 0.00918734],\n       [ 0.02169558],\n       [ 0.03568091],\n       [ 0.08292068],\n       [ 0.14476439],\n       [ 0.22750417],\n       [ 0.28592263],\n       [ 0.31006001],\n       [ 0.32306779],\n       [ 0.31934435],\n       [ 0.32546829]])"
     },
     "execution_count": 19,
     "metadata": {},
     "output_type": "execute_result"
    }
   ],
   "source": [
    "# Train examples\n",
    "X_train[0]"
   ]
  },
  {
   "cell_type": "code",
   "execution_count": 25,
   "id": "7b4525a92b9c7b6",
   "metadata": {
    "collapsed": false,
    "ExecuteTime": {
     "end_time": "2023-11-28T19:02:56.860462Z",
     "start_time": "2023-11-28T18:59:19.136208Z"
    }
   },
   "outputs": [
    {
     "name": "stdout",
     "output_type": "stream",
     "text": [
      "Epoch 1/15\n",
      "663/663 [==============================] - 15s 20ms/step - loss: 0.1982 - accuracy: 0.9399 - val_loss: 0.1455 - val_accuracy: 0.9577\n",
      "Epoch 2/15\n",
      "663/663 [==============================] - 14s 21ms/step - loss: 0.1493 - accuracy: 0.9583 - val_loss: 0.1374 - val_accuracy: 0.9588\n",
      "Epoch 3/15\n",
      "663/663 [==============================] - 14s 21ms/step - loss: 0.1367 - accuracy: 0.9630 - val_loss: 0.1078 - val_accuracy: 0.9681\n",
      "Epoch 4/15\n",
      "663/663 [==============================] - 14s 21ms/step - loss: 0.1280 - accuracy: 0.9648 - val_loss: 0.1179 - val_accuracy: 0.9652\n",
      "Epoch 5/15\n",
      "663/663 [==============================] - 14s 21ms/step - loss: 0.1303 - accuracy: 0.9633 - val_loss: 0.0966 - val_accuracy: 0.9714\n",
      "Epoch 6/15\n",
      "663/663 [==============================] - 14s 21ms/step - loss: 0.1171 - accuracy: 0.9681 - val_loss: 0.0910 - val_accuracy: 0.9723\n",
      "Epoch 7/15\n",
      "663/663 [==============================] - 15s 22ms/step - loss: 0.1116 - accuracy: 0.9691 - val_loss: 0.1299 - val_accuracy: 0.9608\n",
      "Epoch 8/15\n",
      "663/663 [==============================] - 15s 22ms/step - loss: 0.1157 - accuracy: 0.9680 - val_loss: 0.0828 - val_accuracy: 0.9767\n",
      "Epoch 9/15\n",
      "663/663 [==============================] - 15s 22ms/step - loss: 0.0940 - accuracy: 0.9739 - val_loss: 0.0993 - val_accuracy: 0.9716\n",
      "Epoch 10/15\n",
      "663/663 [==============================] - 15s 22ms/step - loss: 0.0950 - accuracy: 0.9749 - val_loss: 0.0717 - val_accuracy: 0.9784\n",
      "Epoch 11/15\n",
      "663/663 [==============================] - 15s 23ms/step - loss: 0.0891 - accuracy: 0.9759 - val_loss: 0.0852 - val_accuracy: 0.9760\n",
      "Epoch 12/15\n",
      "663/663 [==============================] - 15s 23ms/step - loss: 0.0788 - accuracy: 0.9789 - val_loss: 0.0515 - val_accuracy: 0.9857\n",
      "Epoch 13/15\n",
      "663/663 [==============================] - 15s 22ms/step - loss: 0.0809 - accuracy: 0.9783 - val_loss: 0.0506 - val_accuracy: 0.9833\n",
      "Epoch 14/15\n",
      "663/663 [==============================] - 15s 22ms/step - loss: 0.0799 - accuracy: 0.9784 - val_loss: 0.0657 - val_accuracy: 0.9820\n",
      "Epoch 15/15\n",
      "663/663 [==============================] - 15s 23ms/step - loss: 0.0737 - accuracy: 0.9809 - val_loss: 0.1329 - val_accuracy: 0.9654\n"
     ]
    },
    {
     "data": {
      "text/plain": "<keras.src.callbacks.History at 0x2dd37abb0>"
     },
     "execution_count": 25,
     "metadata": {},
     "output_type": "execute_result"
    }
   ],
   "source": [
    "# Train the model\n",
    "# LSTM1_model.fit(X_train, y_train, epochs=3, batch_size=32, validation_data=(X_val, y_val))\n",
    "\n",
    "early_stopping =  tf.keras.callbacks.EarlyStopping(monitor='val_loss', patience=5, mode='min')\n",
    "CNN_model.fit(X_train, y_train, epochs=15, validation_data=(X_val, y_val), callbacks=early_stopping)\n"
   ]
  },
  {
   "cell_type": "code",
   "execution_count": 50,
   "id": "cb3635ffe2107df9",
   "metadata": {
    "collapsed": false,
    "ExecuteTime": {
     "end_time": "2023-11-28T19:17:26.489472Z",
     "start_time": "2023-11-28T19:17:25.660898Z"
    }
   },
   "outputs": [
    {
     "name": "stdout",
     "output_type": "stream",
     "text": [
      "142/142 [==============================] - 1s 6ms/step\n",
      "              precision    recall  f1-score   support\n",
      "\n",
      "           0       0.97      1.00      0.98      3408\n",
      "           1       0.99      0.91      0.95      1136\n",
      "\n",
      "    accuracy                           0.98      4544\n",
      "   macro avg       0.98      0.95      0.97      4544\n",
      "weighted avg       0.98      0.98      0.98      4544\n"
     ]
    }
   ],
   "source": [
    "# Evaluate the model on the test set\n",
    "# y_pred = LSTM1_model.predict(X_test)\n",
    "y_pred = CNN_model.predict(X_test)\n",
    "y_pred = (y_pred > 0.1).astype(int)\n",
    "print(classification_report(y_test, y_pred))\n"
   ]
  },
  {
   "cell_type": "code",
   "execution_count": 46,
   "id": "3a8aefd1",
   "metadata": {
    "ExecuteTime": {
     "end_time": "2023-11-28T19:16:18.042180Z",
     "start_time": "2023-11-28T19:16:17.953524Z"
    }
   },
   "outputs": [
    {
     "data": {
      "text/plain": "<Figure size 640x480 with 1 Axes>",
      "image/png": "[encoded data removed]"
     },
     "metadata": {},
     "output_type": "display_data"
    }
   ],
   "source": [
    "from sklearn.metrics import roc_curve, auc\n",
    "fpr, tpr, thresholds = roc_curve(y_test, y_pred)\n",
    "roc_auc = auc(fpr, tpr)\n",
    "\n",
    "plt.figure()\n",
    "plt.title('ROC Curve')\n",
    "plt.plot(fpr, tpr, label = 'AUC = %0.2f' % roc_auc)\n",
    "plt.legend(loc = 'lower right')\n",
    "plt.plot([0,1], [0,1], 'r--')\n",
    "plt.ylabel('True Positive Rate')\n",
    "plt.xlabel('False Positive Rate')\n",
    "plt.show()"
   ]
  },
  {
   "cell_type": "code",
   "execution_count": 47,
   "id": "fbf730e2bb0e796c",
   "metadata": {
    "collapsed": false,
    "ExecuteTime": {
     "end_time": "2023-11-28T19:16:44.925825Z",
     "start_time": "2023-11-28T19:16:44.830500Z"
    }
   },
   "outputs": [
    {
     "data": {
      "text/plain": "<Figure size 640x480 with 2 Axes>",
      "image/png": "[encoded data removed]"
     },
     "metadata": {},
     "output_type": "display_data"
    }
   ],
   "source": [
    "# Classification Matrix\n",
    "cm = confusion_matrix(y_test, y_pred)\n",
    "disp = ConfusionMatrixDisplay(confusion_matrix=cm, display_labels=['Non-Peak', 'Peak'])\n",
    "disp.plot(cmap='Blues', values_format='d')\n",
    "plt.title('Confusion Matrix')\n",
    "plt.show()\n"
   ]
  },
  {
   "cell_type": "code",
   "execution_count": 48,
   "id": "c9fb81b97c549bf6",
   "metadata": {
    "collapsed": false,
    "ExecuteTime": {
     "end_time": "2023-11-28T19:16:51.073566Z",
     "start_time": "2023-11-28T19:16:51.069732Z"
    }
   },
   "outputs": [
    {
     "data": {
      "text/plain": "(4544,)"
     },
     "execution_count": 48,
     "metadata": {},
     "output_type": "execute_result"
    }
   ],
   "source": [
    "y_test.shape"
   ]
  },
  {
   "cell_type": "code",
   "execution_count": 75,
   "id": "c95b462be7a02141",
   "metadata": {
    "ExecuteTime": {
     "end_time": "2023-11-16T19:11:33.907223Z",
     "start_time": "2023-11-16T19:11:33.905336Z"
    },
    "collapsed": false
   },
   "outputs": [],
   "source": [
    "#Use independently trained model 10 times as an ensemble\n",
    "from sklearn.metrics import accuracy_score\n",
    "\n",
    "def train_and_evaluate_model(model_func, X_train, y_train, X_val, y_val, X_test, y_test, epochs=3):\n",
    "    # Create and compile the model\n",
    "    model = model_func()\n",
    "    # Train the model\n",
    "    model.fit(X_train, y_train, epochs=epochs, validation_data=(X_val, y_val))\n",
    "    # Predict on test data\n",
    "    y_pred = model.predict(X_test)\n",
    "    return y_pred\n",
    "\n",
    "# Number of models in the ensemble\n",
    "num_models = 10\n",
    "\n",
    "# Store predictions from each model\n",
    "ensemble_predictions = []\n",
    "\n",
    "for i in range(num_models):\n",
    "    print(f\"Training model {i+1}/{num_models}\")\n",
    "    y_pred = train_and_evaluate_model(create_CNN, X_train, y_train, X_val, y_val, X_test, y_test, epochs=15)\n",
    "    ensemble_predictions.append(y_pred)\n",
    "\n",
    "# Average the predictions\n",
    "average_predictions = np.mean(ensemble_predictions, axis=0)\n",
    "\n",
    "# Convert averaged predictions to binary output\n",
    "average_predictions_binary = (average_predictions >= 0.5).astype(int)\n",
    "\n",
    "# Evaluate the ensemble model\n",
    "ensemble_accuracy = accuracy_score(y_test, average_predictions_binary)\n",
    "print(f\"Ensemble Model Accuracy: {ensemble_accuracy}\")\n"
   ]
  }
 ],
 "metadata": {
  "kernelspec": {
   "display_name": "Python 3",
   "language": "python",
   "name": "python3"
  },
  "language_info": {
   "codemirror_mode": {
    "name": "ipython",
    "version": 3
   },
   "file_extension": ".py",
   "mimetype": "text/x-python",
   "name": "python",
   "nbconvert_exporter": "python",
   "pygments_lexer": "ipython3",
   "version": "3.9.16"
  }
 },
 "nbformat": 4,
 "nbformat_minor": 5
}
