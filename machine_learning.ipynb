{
 "cells": [
  {
   "cell_type": "markdown",
   "source": [
    "# Flare Peak Detection Machine Learning Model\n",
    "This file will contain our data preprocessing, machine learning model set up, and model testing to detect flare peaks. \n",
    " "
   ],
   "metadata": {
    "collapsed": false
   },
   "id": "c03bc3c6feffb2a8"
  },
  {
   "cell_type": "code",
   "execution_count": 1,
   "outputs": [],
   "source": [
    "import numpy as np\n",
    "import pandas as pd\n"
   ],
   "metadata": {
    "collapsed": false,
    "ExecuteTime": {
     "end_time": "2023-10-14T13:39:26.339393Z",
     "start_time": "2023-10-14T13:39:25.104105Z"
    }
   },
   "id": "38fd330c5c123b41"
  },
  {
   "cell_type": "code",
   "execution_count": 2,
   "outputs": [
    {
     "name": "stderr",
     "output_type": "stream",
     "text": [
      "/var/folders/r7/6cts6h556zzgbx26m_g0p4gw0000gn/T/ipykernel_8241/2582708940.py:3: DtypeWarning: Columns (3) have mixed types. Specify dtype option on import or set low_memory=False.\n",
      "  full_set = pd.read_csv(path)\n"
     ]
    },
    {
     "data": {
      "text/plain": "                  time     xrsa_flux     xrsb_flux status\n0  2017-02-07 00:00:00  2.949822e-08  7.072423e-08    NaN\n1  2017-02-07 00:01:00  2.716477e-08  6.869706e-08    NaN\n2  2017-02-07 00:02:00  2.996076e-08  6.933664e-08    NaN\n3  2017-02-07 00:03:00  3.124979e-08  6.796333e-08    NaN\n4  2017-02-07 00:04:00  3.095799e-08  6.928261e-08    NaN",
      "text/html": "<div>\n<style scoped>\n    .dataframe tbody tr th:only-of-type {\n        vertical-align: middle;\n    }\n\n    .dataframe tbody tr th {\n        vertical-align: top;\n    }\n\n    .dataframe thead th {\n        text-align: right;\n    }\n</style>\n<table border=\"1\" class=\"dataframe\">\n  <thead>\n    <tr style=\"text-align: right;\">\n      <th></th>\n      <th>time</th>\n      <th>xrsa_flux</th>\n      <th>xrsb_flux</th>\n      <th>status</th>\n    </tr>\n  </thead>\n  <tbody>\n    <tr>\n      <th>0</th>\n      <td>2017-02-07 00:00:00</td>\n      <td>2.949822e-08</td>\n      <td>7.072423e-08</td>\n      <td>NaN</td>\n    </tr>\n    <tr>\n      <th>1</th>\n      <td>2017-02-07 00:01:00</td>\n      <td>2.716477e-08</td>\n      <td>6.869706e-08</td>\n      <td>NaN</td>\n    </tr>\n    <tr>\n      <th>2</th>\n      <td>2017-02-07 00:02:00</td>\n      <td>2.996076e-08</td>\n      <td>6.933664e-08</td>\n      <td>NaN</td>\n    </tr>\n    <tr>\n      <th>3</th>\n      <td>2017-02-07 00:03:00</td>\n      <td>3.124979e-08</td>\n      <td>6.796333e-08</td>\n      <td>NaN</td>\n    </tr>\n    <tr>\n      <th>4</th>\n      <td>2017-02-07 00:04:00</td>\n      <td>3.095799e-08</td>\n      <td>6.928261e-08</td>\n      <td>NaN</td>\n    </tr>\n  </tbody>\n</table>\n</div>"
     },
     "execution_count": 2,
     "metadata": {},
     "output_type": "execute_result"
    }
   ],
   "source": [
    "path = \"../data/fullSet.csv\"\n",
    "\n",
    "full_set = pd.read_csv(path)\n",
    "full_set.head()"
   ],
   "metadata": {
    "collapsed": false,
    "ExecuteTime": {
     "end_time": "2023-10-14T13:39:28.405906Z",
     "start_time": "2023-10-14T13:39:26.339867Z"
    }
   },
   "id": "20cc46f0114bff48"
  },
  {
   "cell_type": "code",
   "execution_count": 3,
   "id": "initial_id",
   "metadata": {
    "collapsed": true,
    "ExecuteTime": {
     "end_time": "2023-10-14T13:39:34.217265Z",
     "start_time": "2023-10-14T13:39:32.944316Z"
    }
   },
   "outputs": [
    {
     "data": {
      "text/plain": "                     time     xrsa_flux     xrsb_flux status  flare\n0     2017-02-07 00:00:00  2.949822e-08  7.072423e-08    NaN      0\n1     2017-02-07 00:01:00  2.716477e-08  6.869706e-08    NaN      0\n2     2017-02-07 00:02:00  2.996076e-08  6.933664e-08    NaN      0\n3     2017-02-07 00:03:00  3.124979e-08  6.796333e-08    NaN      0\n4     2017-02-07 00:04:00  3.095799e-08  6.928261e-08    NaN      0\n...                   ...           ...           ...    ...    ...\n9995  2017-02-14 19:56:00  4.130439e-09  3.169877e-08    NaN      0\n9996  2017-02-14 19:57:00  3.370558e-09  3.293717e-08    NaN      0\n9997  2017-02-14 19:58:00  4.871447e-09  3.275998e-08    NaN      0\n9998  2017-02-14 19:59:00  4.171957e-09  3.249245e-08    NaN      0\n9999  2017-02-14 20:00:00  4.031610e-09  3.261046e-08    NaN      0\n\n[10000 rows x 5 columns]",
      "text/html": "<div>\n<style scoped>\n    .dataframe tbody tr th:only-of-type {\n        vertical-align: middle;\n    }\n\n    .dataframe tbody tr th {\n        vertical-align: top;\n    }\n\n    .dataframe thead th {\n        text-align: right;\n    }\n</style>\n<table border=\"1\" class=\"dataframe\">\n  <thead>\n    <tr style=\"text-align: right;\">\n      <th></th>\n      <th>time</th>\n      <th>xrsa_flux</th>\n      <th>xrsb_flux</th>\n      <th>status</th>\n      <th>flare</th>\n    </tr>\n  </thead>\n  <tbody>\n    <tr>\n      <th>0</th>\n      <td>2017-02-07 00:00:00</td>\n      <td>2.949822e-08</td>\n      <td>7.072423e-08</td>\n      <td>NaN</td>\n      <td>0</td>\n    </tr>\n    <tr>\n      <th>1</th>\n      <td>2017-02-07 00:01:00</td>\n      <td>2.716477e-08</td>\n      <td>6.869706e-08</td>\n      <td>NaN</td>\n      <td>0</td>\n    </tr>\n    <tr>\n      <th>2</th>\n      <td>2017-02-07 00:02:00</td>\n      <td>2.996076e-08</td>\n      <td>6.933664e-08</td>\n      <td>NaN</td>\n      <td>0</td>\n    </tr>\n    <tr>\n      <th>3</th>\n      <td>2017-02-07 00:03:00</td>\n      <td>3.124979e-08</td>\n      <td>6.796333e-08</td>\n      <td>NaN</td>\n      <td>0</td>\n    </tr>\n    <tr>\n      <th>4</th>\n      <td>2017-02-07 00:04:00</td>\n      <td>3.095799e-08</td>\n      <td>6.928261e-08</td>\n      <td>NaN</td>\n      <td>0</td>\n    </tr>\n    <tr>\n      <th>...</th>\n      <td>...</td>\n      <td>...</td>\n      <td>...</td>\n      <td>...</td>\n      <td>...</td>\n    </tr>\n    <tr>\n      <th>9995</th>\n      <td>2017-02-14 19:56:00</td>\n      <td>4.130439e-09</td>\n      <td>3.169877e-08</td>\n      <td>NaN</td>\n      <td>0</td>\n    </tr>\n    <tr>\n      <th>9996</th>\n      <td>2017-02-14 19:57:00</td>\n      <td>3.370558e-09</td>\n      <td>3.293717e-08</td>\n      <td>NaN</td>\n      <td>0</td>\n    </tr>\n    <tr>\n      <th>9997</th>\n      <td>2017-02-14 19:58:00</td>\n      <td>4.871447e-09</td>\n      <td>3.275998e-08</td>\n      <td>NaN</td>\n      <td>0</td>\n    </tr>\n    <tr>\n      <th>9998</th>\n      <td>2017-02-14 19:59:00</td>\n      <td>4.171957e-09</td>\n      <td>3.249245e-08</td>\n      <td>NaN</td>\n      <td>0</td>\n    </tr>\n    <tr>\n      <th>9999</th>\n      <td>2017-02-14 20:00:00</td>\n      <td>4.031610e-09</td>\n      <td>3.261046e-08</td>\n      <td>NaN</td>\n      <td>0</td>\n    </tr>\n  </tbody>\n</table>\n<p>10000 rows × 5 columns</p>\n</div>"
     },
     "execution_count": 3,
     "metadata": {},
     "output_type": "execute_result"
    }
   ],
   "source": [
    "# full_set['peak'] = np.where(full_set['status'] == 'EVENT_PEAK', 1, 0)\n",
    "in_event = False\n",
    "event_label = 0\n",
    "labels = []\n",
    "\n",
    "for status in full_set['status']:\n",
    "    if status == 'EVENT_START':\n",
    "        in_event = True\n",
    "        event_label = 1\n",
    "    elif status == 'EVENT_END':\n",
    "        in_event = False\n",
    "        event_label = 0\n",
    "    labels.append(event_label)\n",
    "\n",
    "full_set['flare'] = labels\n",
    "\n",
    "full_set.head(10000)  "
   ]
  },
  {
   "cell_type": "code",
   "execution_count": 11,
   "outputs": [],
   "source": [],
   "metadata": {
    "collapsed": false,
    "ExecuteTime": {
     "end_time": "2023-10-12T17:23:33.717142Z",
     "start_time": "2023-10-12T17:23:33.702551Z"
    }
   },
   "id": "e6f276e3460d9e6f"
  }
 ],
 "metadata": {
  "kernelspec": {
   "display_name": "Python 3",
   "language": "python",
   "name": "python3"
  },
  "language_info": {
   "codemirror_mode": {
    "name": "ipython",
    "version": 2
   },
   "file_extension": ".py",
   "mimetype": "text/x-python",
   "name": "python",
   "nbconvert_exporter": "python",
   "pygments_lexer": "ipython2",
   "version": "2.7.6"
  }
 },
 "nbformat": 4,
 "nbformat_minor": 5
}
