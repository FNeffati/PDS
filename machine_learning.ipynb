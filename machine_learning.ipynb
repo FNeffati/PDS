{
 "cells": [
  {
   "cell_type": "markdown",
   "id": "c03bc3c6feffb2a8",
   "metadata": {
    "collapsed": false
   },
   "source": [
    "# Flare Peak Detection Machine Learning Model\n",
    "This file will contain our data preprocessing, machine learning model set up, and model testing to detect flare peaks. \n",
    " "
   ]
  },
  {
   "cell_type": "code",
   "execution_count": 24,
   "id": "38fd330c5c123b41",
   "metadata": {
    "ExecuteTime": {
     "end_time": "2023-10-14T13:39:26.339393Z",
     "start_time": "2023-10-14T13:39:25.104105Z"
    },
    "collapsed": false
   },
   "outputs": [],
   "source": [
    "import numpy as np\n",
    "import pandas as pd\n",
    "import matplotlib.pyplot as plt"
   ]
  },
  {
   "cell_type": "code",
   "execution_count": 25,
   "id": "20cc46f0114bff48",
   "metadata": {
    "ExecuteTime": {
     "end_time": "2023-10-14T13:39:28.405906Z",
     "start_time": "2023-10-14T13:39:26.339867Z"
    },
    "collapsed": false
   },
   "outputs": [
    {
     "data": {
      "text/html": [
       "<div>\n",
       "<style scoped>\n",
       "    .dataframe tbody tr th:only-of-type {\n",
       "        vertical-align: middle;\n",
       "    }\n",
       "\n",
       "    .dataframe tbody tr th {\n",
       "        vertical-align: top;\n",
       "    }\n",
       "\n",
       "    .dataframe thead th {\n",
       "        text-align: right;\n",
       "    }\n",
       "</style>\n",
       "<table border=\"1\" class=\"dataframe\">\n",
       "  <thead>\n",
       "    <tr style=\"text-align: right;\">\n",
       "      <th></th>\n",
       "      <th>time</th>\n",
       "      <th>xrsa_flux</th>\n",
       "      <th>xrsb_flux</th>\n",
       "      <th>status</th>\n",
       "    </tr>\n",
       "  </thead>\n",
       "  <tbody>\n",
       "    <tr>\n",
       "      <th>0</th>\n",
       "      <td>2017-02-07 00:00:00</td>\n",
       "      <td>2.949822e-08</td>\n",
       "      <td>7.072423e-08</td>\n",
       "      <td>NaN</td>\n",
       "    </tr>\n",
       "    <tr>\n",
       "      <th>1</th>\n",
       "      <td>2017-02-07 00:01:00</td>\n",
       "      <td>2.716477e-08</td>\n",
       "      <td>6.869706e-08</td>\n",
       "      <td>NaN</td>\n",
       "    </tr>\n",
       "    <tr>\n",
       "      <th>2</th>\n",
       "      <td>2017-02-07 00:02:00</td>\n",
       "      <td>2.996076e-08</td>\n",
       "      <td>6.933664e-08</td>\n",
       "      <td>NaN</td>\n",
       "    </tr>\n",
       "    <tr>\n",
       "      <th>3</th>\n",
       "      <td>2017-02-07 00:03:00</td>\n",
       "      <td>3.124979e-08</td>\n",
       "      <td>6.796333e-08</td>\n",
       "      <td>NaN</td>\n",
       "    </tr>\n",
       "    <tr>\n",
       "      <th>4</th>\n",
       "      <td>2017-02-07 00:04:00</td>\n",
       "      <td>3.095799e-08</td>\n",
       "      <td>6.928261e-08</td>\n",
       "      <td>NaN</td>\n",
       "    </tr>\n",
       "  </tbody>\n",
       "</table>\n",
       "</div>"
      ],
      "text/plain": [
       "                  time     xrsa_flux     xrsb_flux status\n",
       "0  2017-02-07 00:00:00  2.949822e-08  7.072423e-08    NaN\n",
       "1  2017-02-07 00:01:00  2.716477e-08  6.869706e-08    NaN\n",
       "2  2017-02-07 00:02:00  2.996076e-08  6.933664e-08    NaN\n",
       "3  2017-02-07 00:03:00  3.124979e-08  6.796333e-08    NaN\n",
       "4  2017-02-07 00:04:00  3.095799e-08  6.928261e-08    NaN"
      ]
     },
     "execution_count": 25,
     "metadata": {},
     "output_type": "execute_result"
    }
   ],
   "source": [
    "path = \"../data/fullSet.csv\"\n",
    "\n",
    "full_set = pd.read_csv(path, dtype={'status': str})\n",
    "full_set.head()"
   ]
  },
  {
   "cell_type": "code",
   "execution_count": 26,
   "id": "c814d860",
   "metadata": {},
   "outputs": [
    {
     "data": {
      "text/plain": [
       "6040249"
      ]
     },
     "execution_count": 26,
     "metadata": {},
     "output_type": "execute_result"
    }
   ],
   "source": [
    "full_set.shape[0]"
   ]
  },
  {
   "cell_type": "code",
   "execution_count": 27,
   "id": "initial_id",
   "metadata": {
    "ExecuteTime": {
     "end_time": "2023-10-14T13:39:34.217265Z",
     "start_time": "2023-10-14T13:39:32.944316Z"
    },
    "collapsed": true
   },
   "outputs": [
    {
     "data": {
      "text/html": [
       "<div>\n",
       "<style scoped>\n",
       "    .dataframe tbody tr th:only-of-type {\n",
       "        vertical-align: middle;\n",
       "    }\n",
       "\n",
       "    .dataframe tbody tr th {\n",
       "        vertical-align: top;\n",
       "    }\n",
       "\n",
       "    .dataframe thead th {\n",
       "        text-align: right;\n",
       "    }\n",
       "</style>\n",
       "<table border=\"1\" class=\"dataframe\">\n",
       "  <thead>\n",
       "    <tr style=\"text-align: right;\">\n",
       "      <th></th>\n",
       "      <th>time</th>\n",
       "      <th>xrsa_flux</th>\n",
       "      <th>xrsb_flux</th>\n",
       "      <th>status</th>\n",
       "      <th>flare</th>\n",
       "    </tr>\n",
       "  </thead>\n",
       "  <tbody>\n",
       "    <tr>\n",
       "      <th>0</th>\n",
       "      <td>2017-02-07 00:00:00</td>\n",
       "      <td>2.949822e-08</td>\n",
       "      <td>7.072423e-08</td>\n",
       "      <td>NaN</td>\n",
       "      <td>0</td>\n",
       "    </tr>\n",
       "    <tr>\n",
       "      <th>1</th>\n",
       "      <td>2017-02-07 00:01:00</td>\n",
       "      <td>2.716477e-08</td>\n",
       "      <td>6.869706e-08</td>\n",
       "      <td>NaN</td>\n",
       "      <td>0</td>\n",
       "    </tr>\n",
       "    <tr>\n",
       "      <th>2</th>\n",
       "      <td>2017-02-07 00:02:00</td>\n",
       "      <td>2.996076e-08</td>\n",
       "      <td>6.933664e-08</td>\n",
       "      <td>NaN</td>\n",
       "      <td>0</td>\n",
       "    </tr>\n",
       "    <tr>\n",
       "      <th>3</th>\n",
       "      <td>2017-02-07 00:03:00</td>\n",
       "      <td>3.124979e-08</td>\n",
       "      <td>6.796333e-08</td>\n",
       "      <td>NaN</td>\n",
       "      <td>0</td>\n",
       "    </tr>\n",
       "    <tr>\n",
       "      <th>4</th>\n",
       "      <td>2017-02-07 00:04:00</td>\n",
       "      <td>3.095799e-08</td>\n",
       "      <td>6.928261e-08</td>\n",
       "      <td>NaN</td>\n",
       "      <td>0</td>\n",
       "    </tr>\n",
       "    <tr>\n",
       "      <th>...</th>\n",
       "      <td>...</td>\n",
       "      <td>...</td>\n",
       "      <td>...</td>\n",
       "      <td>...</td>\n",
       "      <td>...</td>\n",
       "    </tr>\n",
       "    <tr>\n",
       "      <th>9995</th>\n",
       "      <td>2017-02-14 19:56:00</td>\n",
       "      <td>4.130439e-09</td>\n",
       "      <td>3.169877e-08</td>\n",
       "      <td>NaN</td>\n",
       "      <td>0</td>\n",
       "    </tr>\n",
       "    <tr>\n",
       "      <th>9996</th>\n",
       "      <td>2017-02-14 19:57:00</td>\n",
       "      <td>3.370558e-09</td>\n",
       "      <td>3.293717e-08</td>\n",
       "      <td>NaN</td>\n",
       "      <td>0</td>\n",
       "    </tr>\n",
       "    <tr>\n",
       "      <th>9997</th>\n",
       "      <td>2017-02-14 19:58:00</td>\n",
       "      <td>4.871447e-09</td>\n",
       "      <td>3.275998e-08</td>\n",
       "      <td>NaN</td>\n",
       "      <td>0</td>\n",
       "    </tr>\n",
       "    <tr>\n",
       "      <th>9998</th>\n",
       "      <td>2017-02-14 19:59:00</td>\n",
       "      <td>4.171957e-09</td>\n",
       "      <td>3.249245e-08</td>\n",
       "      <td>NaN</td>\n",
       "      <td>0</td>\n",
       "    </tr>\n",
       "    <tr>\n",
       "      <th>9999</th>\n",
       "      <td>2017-02-14 20:00:00</td>\n",
       "      <td>4.031610e-09</td>\n",
       "      <td>3.261046e-08</td>\n",
       "      <td>NaN</td>\n",
       "      <td>0</td>\n",
       "    </tr>\n",
       "  </tbody>\n",
       "</table>\n",
       "<p>10000 rows × 5 columns</p>\n",
       "</div>"
      ],
      "text/plain": [
       "                     time     xrsa_flux     xrsb_flux status  flare\n",
       "0     2017-02-07 00:00:00  2.949822e-08  7.072423e-08    NaN      0\n",
       "1     2017-02-07 00:01:00  2.716477e-08  6.869706e-08    NaN      0\n",
       "2     2017-02-07 00:02:00  2.996076e-08  6.933664e-08    NaN      0\n",
       "3     2017-02-07 00:03:00  3.124979e-08  6.796333e-08    NaN      0\n",
       "4     2017-02-07 00:04:00  3.095799e-08  6.928261e-08    NaN      0\n",
       "...                   ...           ...           ...    ...    ...\n",
       "9995  2017-02-14 19:56:00  4.130439e-09  3.169877e-08    NaN      0\n",
       "9996  2017-02-14 19:57:00  3.370558e-09  3.293717e-08    NaN      0\n",
       "9997  2017-02-14 19:58:00  4.871447e-09  3.275998e-08    NaN      0\n",
       "9998  2017-02-14 19:59:00  4.171957e-09  3.249245e-08    NaN      0\n",
       "9999  2017-02-14 20:00:00  4.031610e-09  3.261046e-08    NaN      0\n",
       "\n",
       "[10000 rows x 5 columns]"
      ]
     },
     "execution_count": 27,
     "metadata": {},
     "output_type": "execute_result"
    }
   ],
   "source": [
    "# full_set['peak'] = np.where(full_set['status'] == 'EVENT_PEAK', 1, 0)\n",
    "in_event = False\n",
    "event_label = 0\n",
    "labels = []\n",
    "\n",
    "for status in full_set['status']:\n",
    "    if status == 'EVENT_START':\n",
    "        in_event = True\n",
    "        event_label = 1\n",
    "    elif status == 'EVENT_END':\n",
    "        in_event = False\n",
    "        event_label = 0\n",
    "    labels.append(event_label)\n",
    "\n",
    "full_set['flare'] = labels\n",
    "\n",
    "full_set.head(10000)  "
   ]
  },
  {
   "cell_type": "code",
   "execution_count": 28,
   "id": "fd80f1d0",
   "metadata": {},
   "outputs": [
    {
     "name": "stdout",
     "output_type": "stream",
     "text": [
      "56.879724660357546 43.120275339642454\n"
     ]
    }
   ],
   "source": [
    "# percentage of unique rows and duplicate rows with respect to \"time\" column\n",
    "# roughly 43% of the rows have a repeated time value\n",
    "p = (full_set['time'].nunique() / full_set.shape[0] ) * 100\n",
    "print(p, 100-p)"
   ]
  },
  {
   "cell_type": "code",
   "execution_count": 29,
   "id": "e6f276e3460d9e6f",
   "metadata": {
    "ExecuteTime": {
     "end_time": "2023-10-12T17:23:33.717142Z",
     "start_time": "2023-10-12T17:23:33.702551Z"
    },
    "collapsed": false
   },
   "outputs": [
    {
     "data": {
      "text/html": [
       "<div>\n",
       "<style scoped>\n",
       "    .dataframe tbody tr th:only-of-type {\n",
       "        vertical-align: middle;\n",
       "    }\n",
       "\n",
       "    .dataframe tbody tr th {\n",
       "        vertical-align: top;\n",
       "    }\n",
       "\n",
       "    .dataframe thead th {\n",
       "        text-align: right;\n",
       "    }\n",
       "</style>\n",
       "<table border=\"1\" class=\"dataframe\">\n",
       "  <thead>\n",
       "    <tr style=\"text-align: right;\">\n",
       "      <th></th>\n",
       "      <th>time</th>\n",
       "      <th>xrsa_flux</th>\n",
       "      <th>xrsb_flux</th>\n",
       "      <th>status</th>\n",
       "      <th>flare</th>\n",
       "    </tr>\n",
       "  </thead>\n",
       "  <tbody>\n",
       "    <tr>\n",
       "      <th>0</th>\n",
       "      <td>2017-02-07 00:00:00</td>\n",
       "      <td>2.949822e-08</td>\n",
       "      <td>7.072423e-08</td>\n",
       "      <td>NaN</td>\n",
       "      <td>0</td>\n",
       "    </tr>\n",
       "    <tr>\n",
       "      <th>1</th>\n",
       "      <td>2017-02-07 00:01:00</td>\n",
       "      <td>2.716477e-08</td>\n",
       "      <td>6.869706e-08</td>\n",
       "      <td>NaN</td>\n",
       "      <td>0</td>\n",
       "    </tr>\n",
       "    <tr>\n",
       "      <th>2</th>\n",
       "      <td>2017-02-07 00:02:00</td>\n",
       "      <td>2.996076e-08</td>\n",
       "      <td>6.933664e-08</td>\n",
       "      <td>NaN</td>\n",
       "      <td>0</td>\n",
       "    </tr>\n",
       "    <tr>\n",
       "      <th>3</th>\n",
       "      <td>2017-02-07 00:03:00</td>\n",
       "      <td>3.124979e-08</td>\n",
       "      <td>6.796333e-08</td>\n",
       "      <td>NaN</td>\n",
       "      <td>0</td>\n",
       "    </tr>\n",
       "    <tr>\n",
       "      <th>4</th>\n",
       "      <td>2017-02-07 00:04:00</td>\n",
       "      <td>3.095799e-08</td>\n",
       "      <td>6.928261e-08</td>\n",
       "      <td>NaN</td>\n",
       "      <td>0</td>\n",
       "    </tr>\n",
       "  </tbody>\n",
       "</table>\n",
       "</div>"
      ],
      "text/plain": [
       "                  time     xrsa_flux     xrsb_flux status  flare\n",
       "0  2017-02-07 00:00:00  2.949822e-08  7.072423e-08    NaN      0\n",
       "1  2017-02-07 00:01:00  2.716477e-08  6.869706e-08    NaN      0\n",
       "2  2017-02-07 00:02:00  2.996076e-08  6.933664e-08    NaN      0\n",
       "3  2017-02-07 00:03:00  3.124979e-08  6.796333e-08    NaN      0\n",
       "4  2017-02-07 00:04:00  3.095799e-08  6.928261e-08    NaN      0"
      ]
     },
     "execution_count": 29,
     "metadata": {},
     "output_type": "execute_result"
    }
   ],
   "source": [
    "def remove_zeroed_copies(df):\n",
    "    '''\n",
    "    Separates rows based on flare status, into zero flares and one flares\n",
    "    Removes duplicate zero flares by keeping the first occurence of the row\n",
    "    Merges zero flares and one flares back together \n",
    "\n",
    "    \n",
    "    *** This removes any duplicate rows in the zero flares df, there may still be dupliate rows in the one flares df ***\n",
    "\n",
    "        removing duplicate rows within one flares will have to be handled more carefully because these are sequences of rows that\n",
    "        are associated to actual flares so removing duplication here could result in the loss of a row that contain \n",
    "        event_start, event_peak, or event_end status\n",
    "    \n",
    "    Parameters:\n",
    "\n",
    "    Input:\n",
    "        df: dataframe with 'flare' column\n",
    "\n",
    "    Output:\n",
    "        df: dataframe with no duplicate rows that have flare status 0 \n",
    "    '''\n",
    "\n",
    "    df_zero_flares = df[df['flare'] == 0]                                           # get rows with flare status 0, zero_flares\n",
    "    df_one_flares = df[df['flare'] == 1]                                            # get rows with flare status 1, one_flares\n",
    "    df_zero_flares = df_zero_flares.drop_duplicates(subset='time', keep='first')    # remove duplicate rows in zero flares\n",
    "    df = pd.concat([df_zero_flares, df_one_flares])                                 # concatenate the two dataframes, df\n",
    "    df.sort_values(by=['time'], inplace=True)                                       # sort df by time\n",
    "    return df\n",
    "    \n",
    "full_set = remove_zeroed_copies(full_set)\n",
    "full_set.head()"
   ]
  },
  {
   "cell_type": "code",
   "execution_count": 30,
   "id": "9296981f",
   "metadata": {},
   "outputs": [
    {
     "name": "stdout",
     "output_type": "stream",
     "text": [
      "94.2818551561738 5.718144843826195\n"
     ]
    }
   ],
   "source": [
    "# percentage of unique rows and duplicate rows with respect to \"time\" column\n",
    "p = (full_set['time'].nunique() / full_set.shape[0] ) * 100\n",
    "print(p, 100-p)"
   ]
  },
  {
   "cell_type": "code",
   "execution_count": 31,
   "id": "d09f8666",
   "metadata": {},
   "outputs": [
    {
     "data": {
      "image/png": "[encoded data removed]",
      "text/plain": [
       "<Figure size 640x480 with 1 Axes>"
      ]
     },
     "metadata": {},
     "output_type": "display_data"
    }
   ],
   "source": [
    "# plot peaks per year using peaks dataframe with counts of event peaks per year\n",
    "peaks = full_set[['time', 'status']]\n",
    "peaks = peaks[peaks['status'] == 'EVENT_PEAK']\n",
    "peaks['year'] = pd.to_datetime(peaks['time']).dt.year\n",
    "peaks_per_year = peaks.groupby('year')['status'].count()\n",
    "\n",
    "ax = peaks_per_year.plot(kind='bar', legend=False)\n",
    "ax.set_title('Event Peaks per Year')\n",
    "ax.set_xlabel('Year')\n",
    "ax.set_ylabel('Count of Event Peaks')\n",
    "for p in ax.patches:\n",
    "    ax.annotate(str(p.get_height()), (p.get_x() * 1.005, p.get_height() * 1.005))\n",
    "plt.show()"
   ]
  },
  {
   "cell_type": "code",
   "execution_count": 32,
   "id": "b449800b",
   "metadata": {},
   "outputs": [
    {
     "data": {
      "text/plain": [
       "3644049"
      ]
     },
     "execution_count": 32,
     "metadata": {},
     "output_type": "execute_result"
    }
   ],
   "source": [
    "full_set.shape[0]"
   ]
  }
 ],
 "metadata": {
  "kernelspec": {
   "display_name": "Python 3",
   "language": "python",
   "name": "python3"
  },
  "language_info": {
   "codemirror_mode": {
    "name": "ipython",
    "version": 3
   },
   "file_extension": ".py",
   "mimetype": "text/x-python",
   "name": "python",
   "nbconvert_exporter": "python",
   "pygments_lexer": "ipython3",
   "version": "3.11.1"
  }
 },
 "nbformat": 4,
 "nbformat_minor": 5
}
