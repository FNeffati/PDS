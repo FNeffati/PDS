{
 "cells": [
  {
   "cell_type": "code",
   "execution_count": 1,
   "metadata": {},
   "outputs": [],
   "source": [
    "import pandas as pd\n",
    "import xarray as xr"
   ]
  },
  {
   "cell_type": "code",
   "execution_count": 2,
   "metadata": {},
   "outputs": [],
   "source": [
    "min_averages = '../Data/XRS 1-minute AVG GOES17/sci_xrsf-l2-avg1m_g17_s20180601_e20230110_v2-2-0.nc'\n",
    "summaries = '../Data/XRS Flare Summary GOES17/sci_xrsf-l2-flsum_g17_s20180601_e20230110_v2-2-0.nc'\n",
    "\n",
    "file1 = xr.open_dataset(min_averages)\n",
    "file2 = xr.open_dataset(summaries)\n",
    "\n",
    "var1 = file1['time']\n",
    "var2 = file1['xrsa_flux']\n",
    "var3 = file1['xrsb_flux']\n",
    "\n",
    "var4 = file2['time']\n",
    "var5 = file2['status']\n",
    "var6 = file2['flare_class']"
   ]
  },
  {
   "cell_type": "code",
   "execution_count": 3,
   "metadata": {},
   "outputs": [],
   "source": [
    "new_dataset1 = xr.Dataset({\n",
    "    'time': var1,\n",
    "    'xrsa_flux': var2,\n",
    "    'xrsb_flux': var3,\n",
    "})"
   ]
  },
  {
   "cell_type": "code",
   "execution_count": 4,
   "metadata": {},
   "outputs": [],
   "source": [
    "new_dataset2 = xr.Dataset({\n",
    "    'time': var4,\n",
    "    'status': var5,\n",
    "    'flare_class': var6,\n",
    "})"
   ]
  },
  {
   "cell_type": "code",
   "execution_count": 5,
   "metadata": {},
   "outputs": [],
   "source": [
    "df1 = new_dataset1.to_dataframe()\n",
    "df2 = new_dataset2.to_dataframe()"
   ]
  },
  {
   "cell_type": "code",
   "execution_count": 6,
   "metadata": {},
   "outputs": [
    {
     "data": {
      "text/html": [
       "<div>\n",
       "<style scoped>\n",
       "    .dataframe tbody tr th:only-of-type {\n",
       "        vertical-align: middle;\n",
       "    }\n",
       "\n",
       "    .dataframe tbody tr th {\n",
       "        vertical-align: top;\n",
       "    }\n",
       "\n",
       "    .dataframe thead th {\n",
       "        text-align: right;\n",
       "    }\n",
       "</style>\n",
       "<table border=\"1\" class=\"dataframe\">\n",
       "  <thead>\n",
       "    <tr style=\"text-align: right;\">\n",
       "      <th></th>\n",
       "      <th>xrsa_flux</th>\n",
       "      <th>xrsb_flux</th>\n",
       "    </tr>\n",
       "    <tr>\n",
       "      <th>time</th>\n",
       "      <th></th>\n",
       "      <th></th>\n",
       "    </tr>\n",
       "  </thead>\n",
       "  <tbody>\n",
       "    <tr>\n",
       "      <th>2018-06-01 00:00:00</th>\n",
       "      <td>3.990444e-09</td>\n",
       "      <td>9.771203e-08</td>\n",
       "    </tr>\n",
       "    <tr>\n",
       "      <th>2018-06-01 00:01:00</th>\n",
       "      <td>1.911961e-09</td>\n",
       "      <td>9.790138e-08</td>\n",
       "    </tr>\n",
       "    <tr>\n",
       "      <th>2018-06-01 00:02:00</th>\n",
       "      <td>4.745282e-09</td>\n",
       "      <td>1.006834e-07</td>\n",
       "    </tr>\n",
       "    <tr>\n",
       "      <th>2018-06-01 00:03:00</th>\n",
       "      <td>5.898575e-09</td>\n",
       "      <td>9.936645e-08</td>\n",
       "    </tr>\n",
       "    <tr>\n",
       "      <th>2018-06-01 00:04:00</th>\n",
       "      <td>5.632279e-09</td>\n",
       "      <td>9.511391e-08</td>\n",
       "    </tr>\n",
       "  </tbody>\n",
       "</table>\n",
       "</div>"
      ],
      "text/plain": [
       "                        xrsa_flux     xrsb_flux\n",
       "time                                           \n",
       "2018-06-01 00:00:00  3.990444e-09  9.771203e-08\n",
       "2018-06-01 00:01:00  1.911961e-09  9.790138e-08\n",
       "2018-06-01 00:02:00  4.745282e-09  1.006834e-07\n",
       "2018-06-01 00:03:00  5.898575e-09  9.936645e-08\n",
       "2018-06-01 00:04:00  5.632279e-09  9.511391e-08"
      ]
     },
     "execution_count": 6,
     "metadata": {},
     "output_type": "execute_result"
    }
   ],
   "source": [
    "df1.head()"
   ]
  },
  {
   "cell_type": "code",
   "execution_count": 7,
   "metadata": {},
   "outputs": [
    {
     "data": {
      "text/html": [
       "<div>\n",
       "<style scoped>\n",
       "    .dataframe tbody tr th:only-of-type {\n",
       "        vertical-align: middle;\n",
       "    }\n",
       "\n",
       "    .dataframe tbody tr th {\n",
       "        vertical-align: top;\n",
       "    }\n",
       "\n",
       "    .dataframe thead th {\n",
       "        text-align: right;\n",
       "    }\n",
       "</style>\n",
       "<table border=\"1\" class=\"dataframe\">\n",
       "  <thead>\n",
       "    <tr style=\"text-align: right;\">\n",
       "      <th></th>\n",
       "      <th>status</th>\n",
       "      <th>flare_class</th>\n",
       "    </tr>\n",
       "    <tr>\n",
       "      <th>time</th>\n",
       "      <th></th>\n",
       "      <th></th>\n",
       "    </tr>\n",
       "  </thead>\n",
       "  <tbody>\n",
       "    <tr>\n",
       "      <th>2018-06-01 04:56:00</th>\n",
       "      <td>EVENT_START</td>\n",
       "      <td>nan</td>\n",
       "    </tr>\n",
       "    <tr>\n",
       "      <th>2018-06-01 05:05:00</th>\n",
       "      <td>EVENT_PEAK</td>\n",
       "      <td>B3.1</td>\n",
       "    </tr>\n",
       "    <tr>\n",
       "      <th>2018-06-01 05:10:00</th>\n",
       "      <td>EVENT_END</td>\n",
       "      <td>nan</td>\n",
       "    </tr>\n",
       "    <tr>\n",
       "      <th>2018-06-01 05:26:00</th>\n",
       "      <td>POST_EVENT</td>\n",
       "      <td>nan</td>\n",
       "    </tr>\n",
       "    <tr>\n",
       "      <th>2018-06-01 05:58:00</th>\n",
       "      <td>EVENT_START</td>\n",
       "      <td>nan</td>\n",
       "    </tr>\n",
       "  </tbody>\n",
       "</table>\n",
       "</div>"
      ],
      "text/plain": [
       "                          status flare_class\n",
       "time                                        \n",
       "2018-06-01 04:56:00  EVENT_START         nan\n",
       "2018-06-01 05:05:00   EVENT_PEAK        B3.1\n",
       "2018-06-01 05:10:00    EVENT_END         nan\n",
       "2018-06-01 05:26:00   POST_EVENT         nan\n",
       "2018-06-01 05:58:00  EVENT_START         nan"
      ]
     },
     "execution_count": 7,
     "metadata": {},
     "output_type": "execute_result"
    }
   ],
   "source": [
    "df2.head()"
   ]
  },
  {
   "cell_type": "code",
   "execution_count": 8,
   "metadata": {},
   "outputs": [],
   "source": [
    "merged_df = pd.merge(df1, df2, on='time', how='inner')"
   ]
  },
  {
   "cell_type": "code",
   "execution_count": 9,
   "metadata": {},
   "outputs": [
    {
     "data": {
      "text/html": [
       "<div>\n",
       "<style scoped>\n",
       "    .dataframe tbody tr th:only-of-type {\n",
       "        vertical-align: middle;\n",
       "    }\n",
       "\n",
       "    .dataframe tbody tr th {\n",
       "        vertical-align: top;\n",
       "    }\n",
       "\n",
       "    .dataframe thead th {\n",
       "        text-align: right;\n",
       "    }\n",
       "</style>\n",
       "<table border=\"1\" class=\"dataframe\">\n",
       "  <thead>\n",
       "    <tr style=\"text-align: right;\">\n",
       "      <th></th>\n",
       "      <th>xrsa_flux</th>\n",
       "      <th>xrsb_flux</th>\n",
       "      <th>status</th>\n",
       "      <th>flare_class</th>\n",
       "    </tr>\n",
       "    <tr>\n",
       "      <th>time</th>\n",
       "      <th></th>\n",
       "      <th></th>\n",
       "      <th></th>\n",
       "      <th></th>\n",
       "    </tr>\n",
       "  </thead>\n",
       "  <tbody>\n",
       "    <tr>\n",
       "      <th>2018-06-01 04:56:00</th>\n",
       "      <td>1.000000e-09</td>\n",
       "      <td>1.561914e-07</td>\n",
       "      <td>EVENT_START</td>\n",
       "      <td>nan</td>\n",
       "    </tr>\n",
       "    <tr>\n",
       "      <th>2018-06-01 05:05:00</th>\n",
       "      <td>3.124673e-09</td>\n",
       "      <td>3.197082e-07</td>\n",
       "      <td>EVENT_PEAK</td>\n",
       "      <td>B3.1</td>\n",
       "    </tr>\n",
       "    <tr>\n",
       "      <th>2018-06-01 05:10:00</th>\n",
       "      <td>5.708710e-09</td>\n",
       "      <td>2.236506e-07</td>\n",
       "      <td>EVENT_END</td>\n",
       "      <td>nan</td>\n",
       "    </tr>\n",
       "    <tr>\n",
       "      <th>2018-06-01 05:26:00</th>\n",
       "      <td>3.288514e-09</td>\n",
       "      <td>1.495329e-07</td>\n",
       "      <td>POST_EVENT</td>\n",
       "      <td>nan</td>\n",
       "    </tr>\n",
       "    <tr>\n",
       "      <th>2018-06-01 05:58:00</th>\n",
       "      <td>1.000000e-09</td>\n",
       "      <td>1.364190e-07</td>\n",
       "      <td>EVENT_START</td>\n",
       "      <td>nan</td>\n",
       "    </tr>\n",
       "  </tbody>\n",
       "</table>\n",
       "</div>"
      ],
      "text/plain": [
       "                        xrsa_flux     xrsb_flux       status flare_class\n",
       "time                                                                    \n",
       "2018-06-01 04:56:00  1.000000e-09  1.561914e-07  EVENT_START         nan\n",
       "2018-06-01 05:05:00  3.124673e-09  3.197082e-07   EVENT_PEAK        B3.1\n",
       "2018-06-01 05:10:00  5.708710e-09  2.236506e-07    EVENT_END         nan\n",
       "2018-06-01 05:26:00  3.288514e-09  1.495329e-07   POST_EVENT         nan\n",
       "2018-06-01 05:58:00  1.000000e-09  1.364190e-07  EVENT_START         nan"
      ]
     },
     "execution_count": 9,
     "metadata": {},
     "output_type": "execute_result"
    }
   ],
   "source": [
    "merged_df.head()"
   ]
  },
  {
   "cell_type": "code",
   "execution_count": 10,
   "metadata": {},
   "outputs": [],
   "source": [
    "merged_df.to_csv('GOES_17_merged_data.csv', index=False)"
   ]
  }
 ],
 "metadata": {
  "kernelspec": {
   "display_name": "Python 3",
   "language": "python",
   "name": "python3"
  },
  "language_info": {
   "codemirror_mode": {
    "name": "ipython",
    "version": 3
   },
   "file_extension": ".py",
   "mimetype": "text/x-python",
   "name": "python",
   "nbconvert_exporter": "python",
   "pygments_lexer": "ipython3",
   "version": "3.11.1"
  },
  "orig_nbformat": 4
 },
 "nbformat": 4,
 "nbformat_minor": 2
}
